{
 "cells": [
  {
   "cell_type": "markdown",
   "metadata": {},
   "source": [
    "# Intro to DLC2Action (mini)"
   ]
  },
  {
   "cell_type": "markdown",
   "metadata": {},
   "source": [
    "DLC2Action is a package for automatic behavior prediction. It offers implementation of SOTA models and keeps track of experiments."
   ]
  },
  {
   "cell_type": "markdown",
   "metadata": {},
   "source": [
    "To see how it works, we will experiment on a relatively small [publically available](https://github.com/ETHZ-INS/DLCAnalyzer/tree/master/data/OFT) dataset (Sturman, 2020). Run the code below to download the data.\n",
    "\n",
    "This is a minimalistic version of this notebook, check out demo_notebook.ipynb for more information.\n",
    "\n",
    "Note that the results we are getting here are not optimal because we are using very small numbers of epochs and trials to make the execution time fit within a short tutorial."
   ]
  },
  {
   "cell_type": "markdown",
   "metadata": {},
   "source": [
    "NOTE: If you want to run this in google colab, we recommend to use the notebook at [this link](https://colab.research.google.com/drive/1z7s7T4mf_z4WN7ag6XFNFtPCMLlWnuR0?usp=sharing)."
   ]
  },
  {
   "cell_type": "markdown",
   "metadata": {},
   "source": [
    "Now let's download the data. Downloading the data and installing the packages can take up to about 5-10 minutes."
   ]
  },
  {
   "cell_type": "code",
   "execution_count": null,
   "metadata": {},
   "outputs": [],
   "source": [
    "#download the data\n",
    "!git clone https://github.com/ETHZ-INS/DLCAnalyzer.git\n",
    "!mv DLCAnalyzer/data/OFT OFT_data\n",
    "\n",
    "from labels_processing_example import split_annotations_by_column\n",
    "split_annotations_by_column(\"./OFT_data/Labels/AllLabDataOFT_final.csv\", output_dir=\"OFT_data/Labels\")"
   ]
  },
  {
   "cell_type": "markdown",
   "metadata": {},
   "source": [
    "Now let's install `dlc2action`."
   ]
  },
  {
   "cell_type": "code",
   "execution_count": null,
   "metadata": {},
   "outputs": [],
   "source": [
    "!python -m pip install dlc2action"
   ]
  },
  {
   "cell_type": "code",
   "execution_count": null,
   "metadata": {},
   "outputs": [
    {
     "name": "stderr",
     "output_type": "stream",
     "text": [
      "/home/andy/anaconda3/envs/DLC2Action_update/lib/python3.13/site-packages/tqdm/auto.py:21: TqdmWarning: IProgress not found. Please update jupyter and ipywidgets. See https://ipywidgets.readthedocs.io/en/stable/user_install.html\n",
      "  from .autonotebook import tqdm as notebook_tqdm\n"
     ]
    },
    {
     "name": "stdout",
     "output_type": "stream",
     "text": [
      "The CLIPInputStore requires the 'clip' library to be installed.         Please install DLC2Action with 'pip install dlc2action[clip]' to use the clip features\n"
     ]
    }
   ],
   "source": [
    "from dlc2action.project import Project\n",
    "import os\n",
    "\n",
    "CURRENT_PATH = os.getcwd()\n",
    "DATA_PATH = os.path.join(CURRENT_PATH, \"OFT_data\", \"Output_DLC\")\n",
    "LABELS_PATH = os.path.join(CURRENT_PATH, \"OFT_data\", \"Labels\")\n",
    "PROJECTS_PATH = os.path.join(CURRENT_PATH, \"DLC2Action\")"
   ]
  },
  {
   "cell_type": "markdown",
   "metadata": {},
   "source": [
    "High-level methods in DLC2Action are almost exclusively accessed through the `dlc2action.project.Project` class. A project instance should loosely correspond to a specific goal (e.g. generating automatic annotations for dataset A with input format X). You can use it to optimize hyperparameters, run experiments, analyze results and generate new data.\n",
    "\n",
    "**Best practices**\n",
    "- When you need to do something with a different data type or unrelated files, it's better to create a new project to keep the experiment history easy to understand.\n",
    "- Each project is associated with a folder on your computer that contains all settings, meta files and experiment outputs. Those folders are created in the folder at `projects_path`. It's generally a good idea to choose one and stick to it throughout projects."
   ]
  },
  {
   "cell_type": "markdown",
   "metadata": {},
   "source": [
    "### Creating a project\n",
    "\n",
    "Let's begin!\n",
    "\n",
    "We will create a project called `\"oft\"`, with `\"dlc_track\"` input and `\"csv\"` annotation format. \n",
    "\n",
    "You can run `Project.print_data_types()` and `Project.print_annotation_types()` to find out more about other options."
   ]
  },
  {
   "cell_type": "code",
   "execution_count": 2,
   "metadata": {},
   "outputs": [],
   "source": [
    "# Project.remove_project(\"oft\", projects_path=PROJECTS_PATH)\n",
    "project = Project(\n",
    "    \"oft\",\n",
    "    data_path=DATA_PATH,\n",
    "    annotation_path=LABELS_PATH,\n",
    "    projects_path=PROJECTS_PATH,\n",
    "    data_type=\"dlc_track\",\n",
    "    annotation_type=\"csv\",\n",
    ")"
   ]
  },
  {
   "cell_type": "markdown",
   "metadata": {},
   "source": [
    "## Setting parameters"
   ]
  },
  {
   "cell_type": "markdown",
   "metadata": {},
   "source": [
    "After the project is created, it's time to configure the parameter settings. \n",
    "\n",
    "The first step is to check which essential parameters are missing with `project.list_blanks()`."
   ]
  },
  {
   "cell_type": "code",
   "execution_count": 3,
   "metadata": {},
   "outputs": [
    {
     "name": "stdout",
     "output_type": "stream",
     "text": [
      "There is no blanks left!\n"
     ]
    }
   ],
   "source": [
    "project.list_blanks()"
   ]
  },
  {
   "cell_type": "markdown",
   "metadata": {},
   "source": [
    "We can copy this code, fill in the blanks and run it. \n",
    "\n",
    "We will also set the classes we want to ignore and number of epochs here. Normally the default should be fine but for the purpose of this tutorial we want to set it smaller so that our experiments can finish in time."
   ]
  },
  {
   "cell_type": "code",
   "execution_count": 4,
   "metadata": {},
   "outputs": [],
   "source": [
    "project.update_parameters(\n",
    "    {\n",
    "        \"data\": {\n",
    "            \"data_suffix\": \"DeepCut_resnet50_Blockcourse1May9shuffle1_1030000.csv\", # set; the data files should have the format of {video_id}{data_suffix}, e.g. video1_suffix.pickle, where video1 is the video is and _suffix.pickle is the suffix\n",
    "            \"canvas_shape\": [928, 576], # list; the size of the canvas where the pose was defined\n",
    "            \"annotation_suffix\": \".csv\", # str | set, optional the suffix or the set of suffices such that the annotation files are named {video_id}{annotation_suffix}, e.g, video1_suffix.pickle where video1 is the video id and _suffix.pickle is the suffix\n",
    "            \"fps\": 25, # int; fps (assuming the annotations are given in seconds, otherwise set any value)\n",
    "            \"ignored_classes\": [\"StartEnd\", \"_DEFAULT\"]\n",
    "        },\n",
    "        \"general\": {\n",
    "            \"exclusive\": True, # bool; if true, single-label classification is used; otherwise multi-label\n",
    "        },\n",
    "        \"training\": {\n",
    "            \"num_epochs\": 15,\n",
    "        }\n",
    "    }\n",
    ")"
   ]
  },
  {
   "cell_type": "markdown",
   "metadata": {},
   "source": [
    "Now we're all set and can start training models."
   ]
  },
  {
   "cell_type": "markdown",
   "metadata": {},
   "source": [
    "## Hyperparameter search"
   ]
  },
  {
   "cell_type": "markdown",
   "metadata": {},
   "source": [
    "There are many hyperparameters in model training, like the number of layers in a model or loss coefficients. The default settings for those parameters should generate reasonable results on most datasets but in order to get the most out of our data we can run a hyperparameter search.\n",
    "\n",
    "The easiest way to find a good set of hyperparameters for your data is to run `project.run_default_hyperparameter_search()`."
   ]
  },
  {
   "cell_type": "code",
   "execution_count": null,
   "metadata": {},
   "outputs": [
    {
     "name": "stdout",
     "output_type": "stream",
     "text": [
      "SEARCH test_search\n"
     ]
    },
    {
     "name": "stderr",
     "output_type": "stream",
     "text": [
      "\u001b[32m[I 2022-11-23 23:18:23,230]\u001b[0m A new study created in memory with name: no-name-688601f8-98fc-4905-9988-f7e2abcdb4e3\u001b[0m\n"
     ]
    },
    {
     "name": "stdout",
     "output_type": "stream",
     "text": [
      "Computing input features...\n"
     ]
    },
    {
     "name": "stderr",
     "output_type": "stream",
     "text": [
      "100%|██████████| 20/20 [00:14<00:00,  1.35it/s]\n"
     ]
    },
    {
     "name": "stdout",
     "output_type": "stream",
     "text": [
      "Computing annotation arrays...\n"
     ]
    },
    {
     "name": "stderr",
     "output_type": "stream",
     "text": [
      "100%|██████████| 20/20 [00:00<00:00, 155.43it/s]\n"
     ]
    },
    {
     "name": "stdout",
     "output_type": "stream",
     "text": [
      "Filtering 2.83% of samples\n",
      "Number of samples:\n",
      "    validation:\n",
      "      {-100: 40806, 0: 248, 2: 10634, 3: 6830, 1: 1898}\n",
      "    training:\n",
      "      {-100: 166305, 2: 41141, 0: 799, 3: 23215, 1: 6620}\n",
      "    test:\n",
      "      {1: 0, 2: 0, 3: 0, 0: 0}\n",
      "Computing normalization statistics...\n"
     ]
    },
    {
     "name": "stderr",
     "output_type": "stream",
     "text": [
      "100%|██████████| 465/465 [00:00<00:00, 561.61it/s]\n",
      "100%|██████████| 465/465 [00:00<00:00, 671.78it/s]\n"
     ]
    },
    {
     "name": "stdout",
     "output_type": "stream",
     "text": [
      "Initializing class weights:\n",
      "    0.582, 0.07, 0.011, 0.02\n",
      "Behavior indices:\n",
      "    0: other\n",
      "    1: Grooming\n",
      "    2: Supported\n",
      "    3: Unsupported\n"
     ]
    },
    {
     "name": "stderr",
     "output_type": "stream",
     "text": [
      "/home/liza/DLC2Action_minimal/dlc2action/model/c2f_tcn.py:93: UserWarning: __floordiv__ is deprecated, and its behavior will change in a future version of pytorch. It currently rounds toward 0 (like the 'trunc' function NOT 'floor'). This results in incorrect rounding for negative values. To keep the current behavior, use torch.div(a, b, rounding_mode='trunc'), or for actual floor division, use torch.div(a, b, rounding_mode='floor').\n",
      "  x1 = F.pad(x1, [diff // 2, diff - diff // 2])\n"
     ]
    },
    {
     "name": "stdout",
     "output_type": "stream",
     "text": [
      "[epoch 1]: loss 0.0190, f1 0.258\n",
      "validation: loss 0.0195, f1 0.275\n",
      "[epoch 2]: loss 0.0131, f1 0.469\n",
      "validation: loss 0.0163, f1 0.491\n",
      "[epoch 3]: loss 0.0108, f1 0.622\n",
      "validation: loss 0.0143, f1 0.549\n",
      "[epoch 4]: loss 0.0098, f1 0.572\n",
      "validation: loss 0.0126, f1 0.553\n",
      "[epoch 5]: loss 0.0087, f1 0.619\n",
      "validation: loss 0.0119, f1 0.528\n",
      "[epoch 6]: loss 0.0073, f1 0.706\n",
      "validation: loss 0.0126, f1 0.538\n",
      "[epoch 7]: loss 0.0066, f1 0.729\n",
      "validation: loss 0.0112, f1 0.555\n",
      "[epoch 8]: loss 0.0064, f1 0.739\n",
      "validation: loss 0.0104, f1 0.577\n",
      "[epoch 9]: loss 0.0069, f1 0.712\n",
      "validation: loss 0.0095, f1 0.621\n"
     ]
    },
    {
     "name": "stderr",
     "output_type": "stream",
     "text": [
      "\u001b[32m[I 2022-11-23 23:20:02,174]\u001b[0m Trial 0 finished with value: 0.5845697124799093 and parameters: {'losses/ms_tcn/alpha': 0.000466037659013816, 'losses/ms_tcn/focal': True, 'training/temporal_subsampling_size': 0.8179158677217886, 'model/num_f_maps': 35, 'general/len_segment': 512}. Best is trial 0 with value: 0.5845697124799093.\u001b[0m\n"
     ]
    },
    {
     "name": "stdout",
     "output_type": "stream",
     "text": [
      "[epoch 10]: loss 0.0080, f1 0.679\n",
      "validation: loss 0.0136, f1 0.535\n",
      "Initializing class weights:\n",
      "    0.582, 0.07, 0.011, 0.02\n",
      "Behavior indices:\n",
      "    0: other\n",
      "    1: Grooming\n",
      "    2: Supported\n",
      "    3: Unsupported\n"
     ]
    },
    {
     "name": "stderr",
     "output_type": "stream",
     "text": [
      "/home/liza/DLC2Action_minimal/dlc2action/model/c2f_tcn.py:93: UserWarning: __floordiv__ is deprecated, and its behavior will change in a future version of pytorch. It currently rounds toward 0 (like the 'trunc' function NOT 'floor'). This results in incorrect rounding for negative values. To keep the current behavior, use torch.div(a, b, rounding_mode='trunc'), or for actual floor division, use torch.div(a, b, rounding_mode='floor').\n",
      "  x1 = F.pad(x1, [diff // 2, diff - diff // 2])\n"
     ]
    },
    {
     "name": "stdout",
     "output_type": "stream",
     "text": [
      "[epoch 1]: loss 1.1031, f1 0.334\n",
      "validation: loss 1.2366, f1 0.304\n",
      "[epoch 2]: loss 0.8769, f1 0.557\n",
      "validation: loss 0.9883, f1 0.636\n",
      "[epoch 3]: loss 0.7122, f1 0.635\n",
      "validation: loss 0.9772, f1 0.535\n",
      "[epoch 4]: loss 0.6906, f1 0.683\n",
      "validation: loss 0.9260, f1 0.577\n",
      "[epoch 5]: loss 0.6235, f1 0.664\n",
      "validation: loss 0.9664, f1 0.494\n",
      "[epoch 6]: loss 0.5534, f1 0.691\n",
      "validation: loss 0.9210, f1 0.549\n",
      "[epoch 7]: loss 0.4894, f1 0.748\n",
      "validation: loss 0.8069, f1 0.609\n",
      "[epoch 8]: loss 0.4329, f1 0.796\n",
      "validation: loss 0.8064, f1 0.674\n",
      "[epoch 9]: loss 0.4227, f1 0.763\n",
      "validation: loss 0.8675, f1 0.578\n"
     ]
    },
    {
     "name": "stderr",
     "output_type": "stream",
     "text": [
      "\u001b[32m[I 2022-11-23 23:20:24,608]\u001b[0m Trial 1 finished with value: 0.6534821192423502 and parameters: {'losses/ms_tcn/alpha': 0.0068731120341918375, 'losses/ms_tcn/focal': False, 'training/temporal_subsampling_size': 0.8000183319502718, 'model/num_f_maps': 56, 'general/len_segment': 512}. Best is trial 1 with value: 0.6534821192423502.\u001b[0m\n"
     ]
    },
    {
     "name": "stdout",
     "output_type": "stream",
     "text": [
      "[epoch 10]: loss 0.3624, f1 0.788\n",
      "validation: loss 0.8828, f1 0.651\n",
      "Initializing class weights:\n",
      "    0.582, 0.07, 0.011, 0.02\n",
      "Behavior indices:\n",
      "    0: other\n",
      "    1: Grooming\n",
      "    2: Supported\n",
      "    3: Unsupported\n"
     ]
    },
    {
     "name": "stderr",
     "output_type": "stream",
     "text": [
      "/home/liza/DLC2Action_minimal/dlc2action/model/c2f_tcn.py:93: UserWarning: __floordiv__ is deprecated, and its behavior will change in a future version of pytorch. It currently rounds toward 0 (like the 'trunc' function NOT 'floor'). This results in incorrect rounding for negative values. To keep the current behavior, use torch.div(a, b, rounding_mode='trunc'), or for actual floor division, use torch.div(a, b, rounding_mode='floor').\n",
      "  x1 = F.pad(x1, [diff // 2, diff - diff // 2])\n"
     ]
    },
    {
     "name": "stdout",
     "output_type": "stream",
     "text": [
      "[epoch 1]: loss 1.1213, f1 0.391\n",
      "validation: loss 1.1405, f1 0.333\n",
      "[epoch 2]: loss 0.9407, f1 0.534\n",
      "validation: loss 0.9671, f1 0.530\n",
      "[epoch 3]: loss 0.7019, f1 0.654\n",
      "validation: loss 0.8163, f1 0.522\n",
      "[epoch 4]: loss 0.6742, f1 0.706\n",
      "validation: loss 0.9383, f1 0.443\n",
      "[epoch 5]: loss 0.5794, f1 0.721\n",
      "validation: loss 0.9029, f1 0.460\n",
      "[epoch 6]: loss 0.5072, f1 0.763\n",
      "validation: loss 0.9066, f1 0.615\n",
      "[epoch 7]: loss 0.4877, f1 0.738\n",
      "validation: loss 0.9254, f1 0.626\n",
      "[epoch 8]: loss 0.5356, f1 0.752\n",
      "validation: loss 1.2052, f1 0.511\n",
      "[epoch 9]: loss 0.4482, f1 0.764\n",
      "validation: loss 0.6593, f1 0.631\n"
     ]
    },
    {
     "name": "stderr",
     "output_type": "stream",
     "text": [
      "\u001b[32m[I 2022-11-23 23:20:44,525]\u001b[0m Trial 2 finished with value: 0.6325108607610067 and parameters: {'losses/ms_tcn/alpha': 0.0009675341026784969, 'losses/ms_tcn/focal': False, 'training/temporal_subsampling_size': 0.8648931995468957, 'model/num_f_maps': 80, 'general/len_segment': 512}. Best is trial 1 with value: 0.6534821192423502.\u001b[0m\n"
     ]
    },
    {
     "name": "stdout",
     "output_type": "stream",
     "text": [
      "[epoch 10]: loss 0.3666, f1 0.787\n",
      "validation: loss 0.7669, f1 0.641\n",
      "Computing input features...\n"
     ]
    },
    {
     "name": "stderr",
     "output_type": "stream",
     "text": [
      "100%|██████████| 20/20 [00:10<00:00,  1.88it/s]\n"
     ]
    },
    {
     "name": "stdout",
     "output_type": "stream",
     "text": [
      "Computing annotation arrays...\n"
     ]
    },
    {
     "name": "stderr",
     "output_type": "stream",
     "text": [
      "100%|██████████| 20/20 [00:00<00:00, 156.02it/s]\n"
     ]
    },
    {
     "name": "stdout",
     "output_type": "stream",
     "text": [
      "Number of samples:\n",
      "    validation:\n",
      "      {-100: 41830, 0: 248, 2: 10634, 3: 6830, 1: 1898}\n",
      "    training:\n",
      "      {-100: 173985, 2: 41141, 0: 799, 3: 23215, 1: 6620}\n",
      "    test:\n",
      "      {1: 0, 2: 0, 3: 0, 0: 0}\n",
      "Computing normalization statistics...\n"
     ]
    },
    {
     "name": "stderr",
     "output_type": "stream",
     "text": [
      "100%|██████████| 240/240 [00:00<00:00, 554.97it/s]\n",
      "100%|██████████| 240/240 [00:00<00:00, 550.09it/s]\n"
     ]
    },
    {
     "name": "stdout",
     "output_type": "stream",
     "text": [
      "Initializing class weights:\n",
      "    0.3, 0.036, 0.006, 0.01\n",
      "Behavior indices:\n",
      "    0: other\n",
      "    1: Grooming\n",
      "    2: Supported\n",
      "    3: Unsupported\n"
     ]
    },
    {
     "name": "stderr",
     "output_type": "stream",
     "text": [
      "/home/liza/DLC2Action_minimal/dlc2action/model/c2f_tcn.py:93: UserWarning: __floordiv__ is deprecated, and its behavior will change in a future version of pytorch. It currently rounds toward 0 (like the 'trunc' function NOT 'floor'). This results in incorrect rounding for negative values. To keep the current behavior, use torch.div(a, b, rounding_mode='trunc'), or for actual floor division, use torch.div(a, b, rounding_mode='floor').\n",
      "  x1 = F.pad(x1, [diff // 2, diff - diff // 2])\n",
      "\u001b[32m[I 2022-11-23 23:20:59,454]\u001b[0m Trial 3 pruned. \u001b[0m\n"
     ]
    },
    {
     "name": "stdout",
     "output_type": "stream",
     "text": [
      "Number of samples:\n",
      "    validation:\n",
      "      {-100: 40806, 0: 248, 2: 10634, 3: 6830, 1: 1898}\n",
      "    training:\n",
      "      {-100: 166305, 2: 41141, 0: 799, 3: 23215, 1: 6620}\n",
      "    test:\n",
      "      {1: 0, 2: 0, 3: 0, 0: 0}\n",
      "Computing normalization statistics...\n"
     ]
    },
    {
     "name": "stderr",
     "output_type": "stream",
     "text": [
      "100%|██████████| 465/465 [00:00<00:00, 563.50it/s]\n",
      "100%|██████████| 465/465 [00:00<00:00, 516.04it/s]\n"
     ]
    },
    {
     "name": "stdout",
     "output_type": "stream",
     "text": [
      "Initializing class weights:\n",
      "    0.582, 0.07, 0.011, 0.02\n",
      "Behavior indices:\n",
      "    0: other\n",
      "    1: Grooming\n",
      "    2: Supported\n",
      "    3: Unsupported\n"
     ]
    },
    {
     "name": "stderr",
     "output_type": "stream",
     "text": [
      "/home/liza/DLC2Action_minimal/dlc2action/model/c2f_tcn.py:93: UserWarning: __floordiv__ is deprecated, and its behavior will change in a future version of pytorch. It currently rounds toward 0 (like the 'trunc' function NOT 'floor'). This results in incorrect rounding for negative values. To keep the current behavior, use torch.div(a, b, rounding_mode='trunc'), or for actual floor division, use torch.div(a, b, rounding_mode='floor').\n",
      "  x1 = F.pad(x1, [diff // 2, diff - diff // 2])\n"
     ]
    },
    {
     "name": "stdout",
     "output_type": "stream",
     "text": [
      "[epoch 1]: loss 0.0157, f1 0.384\n",
      "validation: loss 0.0171, f1 0.341\n",
      "[epoch 2]: loss 0.0099, f1 0.625\n",
      "validation: loss 0.0146, f1 0.519\n",
      "[epoch 3]: loss 0.0085, f1 0.637\n",
      "validation: loss 0.0128, f1 0.509\n",
      "[epoch 4]: loss 0.0066, f1 0.678\n",
      "validation: loss 0.0101, f1 0.551\n",
      "[epoch 5]: loss 0.0057, f1 0.744\n",
      "validation: loss 0.0121, f1 0.516\n",
      "[epoch 6]: loss 0.0058, f1 0.759\n",
      "validation: loss 0.0139, f1 0.554\n",
      "[epoch 7]: loss 0.0056, f1 0.736\n",
      "validation: loss 0.0111, f1 0.638\n",
      "[epoch 8]: loss 0.0049, f1 0.748\n",
      "validation: loss 0.0106, f1 0.665\n",
      "[epoch 9]: loss 0.0042, f1 0.766\n",
      "validation: loss 0.0082, f1 0.707\n"
     ]
    },
    {
     "name": "stderr",
     "output_type": "stream",
     "text": [
      "\u001b[32m[I 2022-11-23 23:21:21,955]\u001b[0m Trial 4 finished with value: 0.6697884798049927 and parameters: {'losses/ms_tcn/alpha': 3.976687373793473e-05, 'losses/ms_tcn/focal': True, 'training/temporal_subsampling_size': 0.9172326638039339, 'model/num_f_maps': 88, 'general/len_segment': 512}. Best is trial 4 with value: 0.6697884798049927.\u001b[0m\n"
     ]
    },
    {
     "name": "stdout",
     "output_type": "stream",
     "text": [
      "[epoch 10]: loss 0.0046, f1 0.765\n",
      "validation: loss 0.0128, f1 0.552\n"
     ]
    },
    {
     "name": "stderr",
     "output_type": "stream",
     "text": [
      "\u001b[33m[W 2022-11-23 23:21:23,085]\u001b[0m Param general/len_segment unique value length is less than 2.\u001b[0m\n",
      "\u001b[33m[W 2022-11-23 23:21:23,153]\u001b[0m Param general/len_segment unique value length is less than 2.\u001b[0m\n",
      "\u001b[33m[W 2022-11-23 23:21:23,162]\u001b[0m Param general/len_segment unique value length is less than 2.\u001b[0m\n",
      "\u001b[33m[W 2022-11-23 23:21:23,169]\u001b[0m Param general/len_segment unique value length is less than 2.\u001b[0m\n",
      "\u001b[33m[W 2022-11-23 23:21:23,216]\u001b[0m Param general/len_segment unique value length is less than 2.\u001b[0m\n",
      "\u001b[33m[W 2022-11-23 23:21:23,564]\u001b[0m Param general/len_segment unique value length is less than 2.\u001b[0m\n",
      "\u001b[33m[W 2022-11-23 23:21:23,588]\u001b[0m Param general/len_segment unique value length is less than 2.\u001b[0m\n",
      "\u001b[33m[W 2022-11-23 23:21:23,608]\u001b[0m Param general/len_segment unique value length is less than 2.\u001b[0m\n"
     ]
    },
    {
     "name": "stdout",
     "output_type": "stream",
     "text": [
      "best parameters: {'losses/ms_tcn/alpha': 3.976687373793473e-05, 'losses/ms_tcn/focal': True, 'training/temporal_subsampling_size': 0.9172326638039339, 'model/num_f_maps': 88, 'general/len_segment': 512}\n",
      "\n",
      "\n"
     ]
    },
    {
     "data": {
      "text/plain": [
       "{'losses/ms_tcn/alpha': 3.976687373793473e-05,\n",
       " 'losses/ms_tcn/focal': True,\n",
       " 'training/temporal_subsampling_size': 0.9172326638039339,\n",
       " 'model/num_f_maps': 88,\n",
       " 'general/len_segment': 512}"
      ]
     },
     "execution_count": 5,
     "metadata": {},
     "output_type": "execute_result"
    }
   ],
   "source": [
    "project.run_default_hyperparameter_search(\n",
    "    \"my_first_search\",\n",
    "    num_epochs=3,\n",
    "    n_trials=10,\n",
    ")"
   ]
  },
  {
   "cell_type": "markdown",
   "metadata": {},
   "source": [
    "## Training models"
   ]
  },
  {
   "cell_type": "markdown",
   "metadata": {},
   "source": [
    "Now we can train models with the best hyperparameters."
   ]
  },
  {
   "cell_type": "code",
   "execution_count": null,
   "metadata": {},
   "outputs": [
    {
     "name": "stdout",
     "output_type": "stream",
     "text": [
      "TRAINING test_best\n",
      "Computing input features...\n"
     ]
    },
    {
     "name": "stderr",
     "output_type": "stream",
     "text": [
      "100%|██████████| 20/20 [00:13<00:00,  1.49it/s]\n"
     ]
    },
    {
     "name": "stdout",
     "output_type": "stream",
     "text": [
      "Computing annotation arrays...\n"
     ]
    },
    {
     "name": "stderr",
     "output_type": "stream",
     "text": [
      "100%|██████████| 20/20 [00:00<00:00, 364.94it/s]\n"
     ]
    },
    {
     "name": "stdout",
     "output_type": "stream",
     "text": [
      "Filtering 4.34% of samples\n",
      "Number of samples:\n",
      "    validation:\n",
      "      {-100: 161290, 0: 707, 2: 42341, 3: 27320, 1: 7446}\n",
      "    training:\n",
      "      {-100: 649094, 2: 163336, 0: 2374, 3: 92604, 1: 26480}\n",
      "    test:\n",
      "      {1: 0, 2: 0, 3: 0, 0: 0}\n",
      "Computing normalization statistics...\n"
     ]
    },
    {
     "name": "stderr",
     "output_type": "stream",
     "text": [
      "100%|██████████| 1824/1824 [00:02<00:00, 693.55it/s]\n",
      "100%|██████████| 1824/1824 [00:02<00:00, 658.31it/s]\n"
     ]
    },
    {
     "name": "stdout",
     "output_type": "stream",
     "text": [
      "Initializing class weights:\n",
      "    0.768, 0.069, 0.011, 0.02\n",
      "Behavior indices:\n",
      "    0: other\n",
      "    1: Grooming\n",
      "    2: Supported\n",
      "    3: Unsupported\n"
     ]
    },
    {
     "name": "stderr",
     "output_type": "stream",
     "text": [
      "/home/liza/DLC2Action_minimal/dlc2action/model/c2f_tcn.py:93: UserWarning:\n",
      "\n",
      "__floordiv__ is deprecated, and its behavior will change in a future version of pytorch. It currently rounds toward 0 (like the 'trunc' function NOT 'floor'). This results in incorrect rounding for negative values. To keep the current behavior, use torch.div(a, b, rounding_mode='trunc'), or for actual floor division, use torch.div(a, b, rounding_mode='floor').\n",
      "\n"
     ]
    },
    {
     "name": "stdout",
     "output_type": "stream",
     "text": [
      "[epoch 1]: loss 0.0104, f1 0.531, precision 0.498\n",
      "validation: loss 0.0134, f1 0.516, precision 0.579\n",
      "[epoch 2]: loss 0.0055, f1 0.699, precision 0.649\n",
      "validation: loss 0.0128, f1 0.547, precision 0.521\n",
      "[epoch 3]: loss 0.0044, f1 0.752, precision 0.704\n",
      "validation: loss 0.0104, f1 0.689, precision 0.698\n",
      "[epoch 4]: loss 0.0035, f1 0.765, precision 0.715\n",
      "validation: loss 0.0105, f1 0.620, precision 0.625\n",
      "[epoch 5]: loss 0.0030, f1 0.816, precision 0.777\n",
      "validation: loss 0.0115, f1 0.618, precision 0.588\n",
      "[epoch 6]: loss 0.0031, f1 0.781, precision 0.726\n",
      "validation: loss 0.0120, f1 0.618, precision 0.588\n",
      "[epoch 7]: loss 0.0026, f1 0.785, precision 0.728\n",
      "validation: loss 0.0110, f1 0.665, precision 0.624\n",
      "[epoch 8]: loss 0.0018, f1 0.844, precision 0.794\n",
      "validation: loss 0.0082, f1 0.718, precision 0.687\n",
      "[epoch 9]: loss 0.0019, f1 0.827, precision 0.774\n",
      "validation: loss 0.0100, f1 0.695, precision 0.671\n",
      "[epoch 10]: loss 0.0013, f1 0.891, precision 0.850\n",
      "validation: loss 0.0129, f1 0.709, precision 0.690\n",
      "[epoch 11]: loss 0.0015, f1 0.888, precision 0.851\n",
      "validation: loss 0.0143, f1 0.668, precision 0.638\n",
      "[epoch 12]: loss 0.0014, f1 0.891, precision 0.855\n",
      "validation: loss 0.0116, f1 0.721, precision 0.696\n",
      "[epoch 13]: loss 0.0012, f1 0.914, precision 0.886\n",
      "validation: loss 0.0121, f1 0.618, precision 0.594\n",
      "[epoch 14]: loss 0.0013, f1 0.879, precision 0.835\n",
      "validation: loss 0.0104, f1 0.737, precision 0.715\n",
      "[epoch 15]: loss 0.0011, f1 0.893, precision 0.851\n",
      "validation: loss 0.0088, f1 0.735, precision 0.701\n",
      "\n",
      "\n"
     ]
    },
    {
     "data": {
      "text/plain": [
       "<dlc2action.task.task_dispatcher.TaskDispatcher at 0x7f16666345b0>"
      ]
     },
     "execution_count": 6,
     "metadata": {},
     "output_type": "execute_result"
    }
   ],
   "source": [
    "project.run_episode(\n",
    "    \"my_first_episode\",\n",
    "    load_search=\"my_first_search\", # loading the search\n",
    "    force=True, # when force=True, if an episode with this name already exists it will be overwritten -> use with caution!\n",
    ")"
   ]
  },
  {
   "cell_type": "markdown",
   "metadata": {},
   "source": [
    "## Evaluation"
   ]
  },
  {
   "cell_type": "markdown",
   "metadata": {},
   "source": [
    "Now that we've trained our best models, we can analyze the results."
   ]
  },
  {
   "cell_type": "code",
   "execution_count": null,
   "metadata": {},
   "outputs": [
    {
     "data": {
      "image/png": "[encoded data removed]",
      "text/plain": [
       "<Figure size 640x480 with 1 Axes>"
      ]
     },
     "metadata": {},
     "output_type": "display_data"
    }
   ],
   "source": [
    "project.plot_episodes(\n",
    "    [\"my_first_episode\"],\n",
    "    metrics=[\"f1\"], # F1 score\n",
    "    title=\"Best model training curve\"\n",
    ")"
   ]
  },
  {
   "cell_type": "markdown",
   "metadata": {},
   "source": [
    "We can also check out more metrics now. See `project.help(\"metrics\")` to see other options."
   ]
  },
  {
   "cell_type": "code",
   "execution_count": null,
   "metadata": {},
   "outputs": [
    {
     "name": "stdout",
     "output_type": "stream",
     "text": [
      "EVALUATION test_best\n",
      "episode test_best\n",
      "Number of samples:\n",
      "    validation:\n",
      "      {-100: 161290, 0: 707, 2: 42341, 3: 27320, 1: 7446}\n",
      "    training:\n",
      "      {-100: 649094, 2: 163336, 0: 2374, 3: 92604, 1: 26480}\n",
      "    test:\n",
      "      {1: 0, 2: 0, 3: 0, 0: 0}\n",
      "Setting loaded normalization statistics...\n",
      "Initializing class weights:\n",
      "    0.768, 0.069, 0.011, 0.02\n",
      "Behavior indices:\n",
      "    0: other\n",
      "    1: Grooming\n",
      "    2: Supported\n",
      "    3: Unsupported\n"
     ]
    },
    {
     "name": "stderr",
     "output_type": "stream",
     "text": [
      "  0%|          | 0/8 [00:00<?, ?it/s]/home/liza/DLC2Action_minimal/dlc2action/model/c2f_tcn.py:93: UserWarning:\n",
      "\n",
      "__floordiv__ is deprecated, and its behavior will change in a future version of pytorch. It currently rounds toward 0 (like the 'trunc' function NOT 'floor'). This results in incorrect rounding for negative values. To keep the current behavior, use torch.div(a, b, rounding_mode='trunc'), or for actual floor division, use torch.div(a, b, rounding_mode='floor').\n",
      "\n",
      "100%|██████████| 8/8 [00:16<00:00,  2.08s/it]\n"
     ]
    },
    {
     "name": "stdout",
     "output_type": "stream",
     "text": [
      "\n",
      "\n",
      "AGGREGATED:\n",
      "f1_0 0.652, f1_1 0.562, f1_2 0.935, f1_3 0.792, mAP 0.160, segmental_f1 0.195\n",
      "Inference time: 0:00:16\n",
      "\n",
      "\n"
     ]
    },
    {
     "data": {
      "text/plain": [
       "{'segmental_f1': 0.19543121755123138,\n",
       " 'mAP': 0.16007250271489554,\n",
       " 'f1_0': 0.652375340461731,\n",
       " 'f1_1': 0.5615978240966797,\n",
       " 'f1_2': 0.9347875714302063,\n",
       " 'f1_3': 0.7916250228881836}"
      ]
     },
     "execution_count": 8,
     "metadata": {},
     "output_type": "execute_result"
    }
   ],
   "source": [
    "project.evaluate(\n",
    "    [\"my_first_episode\"],\n",
    "    parameters_update={\n",
    "        \"general\": {\"metric_functions\": [\"segmental_f1\", \"mAP\", \"f1\"]},\n",
    "        \"metrics\": {\n",
    "            \"f1\": {\"average\": \"none\"}\n",
    "        }\n",
    "    }\n",
    ")"
   ]
  },
  {
   "cell_type": "markdown",
   "metadata": {},
   "source": [
    "## Using trained models"
   ]
  },
  {
   "cell_type": "markdown",
   "metadata": {},
   "source": [
    "When you find that you are happy with the results, you can use the model to generate predictions for new data. \n",
    "\n",
    "Predictions here are probabilities of each behavior being seen in each frame while suggestions are suggested intervals generated from those probabilities."
   ]
  },
  {
   "cell_type": "markdown",
   "metadata": {},
   "source": [
    "Let's generate a prediction with one of our models and look at one of the resulting files. Note that you can use multiple models and average over their predictions."
   ]
  },
  {
   "cell_type": "code",
   "execution_count": null,
   "metadata": {},
   "outputs": [
    {
     "name": "stdout",
     "output_type": "stream",
     "text": [
      "PREDICTION test_best_prediction\n",
      "episode test_best\n",
      "Computing input features...\n"
     ]
    },
    {
     "name": "stderr",
     "output_type": "stream",
     "text": [
      "100%|██████████| 20/20 [00:23<00:00,  1.16s/it]\n"
     ]
    },
    {
     "name": "stdout",
     "output_type": "stream",
     "text": [
      "Computing annotation arrays...\n"
     ]
    },
    {
     "name": "stderr",
     "output_type": "stream",
     "text": [
      "100%|██████████| 20/20 [00:00<00:00, 27.94it/s]\n"
     ]
    },
    {
     "name": "stdout",
     "output_type": "stream",
     "text": [
      "Filtering 4.34% of samples\n",
      "Number of samples:\n",
      "    validation:\n",
      "      {1: 0, 2: 0, 3: 0, 0: 0}\n",
      "    training:\n",
      "      {-100: 810384, 2: 205677, 0: 3081, 3: 119924, 1: 33926}\n",
      "    test:\n",
      "      {1: 0, 2: 0, 3: 0, 0: 0}\n",
      "Setting loaded normalization statistics...\n",
      "Initializing class weights:\n",
      "    0.744, 0.068, 0.011, 0.019\n",
      "Behavior indices:\n",
      "    0: other\n",
      "    1: Grooming\n",
      "    2: Supported\n",
      "    3: Unsupported\n"
     ]
    },
    {
     "name": "stderr",
     "output_type": "stream",
     "text": [
      "  0%|          | 0/36 [00:00<?, ?it/s]/home/liza/DLC2Action_minimal/dlc2action/model/c2f_tcn.py:93: UserWarning:\n",
      "\n",
      "__floordiv__ is deprecated, and its behavior will change in a future version of pytorch. It currently rounds toward 0 (like the 'trunc' function NOT 'floor'). This results in incorrect rounding for negative values. To keep the current behavior, use torch.div(a, b, rounding_mode='trunc'), or for actual floor division, use torch.div(a, b, rounding_mode='floor').\n",
      "\n",
      "100%|██████████| 36/36 [01:08<00:00,  1.89s/it]\n"
     ]
    },
    {
     "name": "stdout",
     "output_type": "stream",
     "text": [
      "\n",
      "\n",
      "\n",
      "\n"
     ]
    }
   ],
   "source": [
    "project.run_prediction(\n",
    "    \"my_first_prediction\",\n",
    "    episode_names=[\"my_first_episode\"],\n",
    "    force=True\n",
    ")"
   ]
  },
  {
   "cell_type": "code",
   "execution_count": null,
   "metadata": {},
   "outputs": [
    {
     "name": "stdout",
     "output_type": "stream",
     "text": [
      "ind0: torch.Size([4, 15227])\n",
      "The mean probability of Unsupported between frames 50 and 70 is 2.8996411856496707e-05\n"
     ]
    }
   ],
   "source": [
    "import pickle\n",
    "import os\n",
    "\n",
    "\n",
    "# picking a random file from the prediction folder\n",
    "prediction_folder = project.prediction_path(\"my_first_prediction\")\n",
    "prediction_file = os.listdir(prediction_folder)[0]\n",
    "prediction_file = os.path.join(prediction_folder, prediction_file)\n",
    "\n",
    "with open(prediction_file, \"rb\") as f: # open the file\n",
    "    prediction = pickle.load(f)\n",
    "\n",
    "for key, value in prediction.items(): # explore the contents\n",
    "    if key not in [\"max_frames\", \"min_frames\", \"video_tag\", \"behaviors\"]:\n",
    "        print(f'{key}: {value.shape}')\n",
    "    \n",
    "behaviors_order = project.get_behavior_dictionary(\"my_first_episode\")\n",
    "\n",
    "start = 50\n",
    "end = 70\n",
    "action = \"Unsupported\"\n",
    "\n",
    "index = [k for k,v in behaviors_order.items() if v == action][0]\n",
    "print(f'The mean probability of {action} between frames {start} and {end} is {prediction[\"ind0\"][index, start: end].mean()}')"
   ]
  },
  {
   "cell_type": "markdown",
   "metadata": {},
   "source": [
    "We will now remove unnecessary data to clean the memory."
   ]
  },
  {
   "cell_type": "code",
   "execution_count": 11,
   "metadata": {},
   "outputs": [
    {
     "name": "stdout",
     "output_type": "stream",
     "text": [
      "Removing datasets...\n"
     ]
    },
    {
     "name": "stderr",
     "output_type": "stream",
     "text": [
      "100%|██████████| 7/7 [00:12<00:00,  1.74s/it]\n"
     ]
    },
    {
     "name": "stdout",
     "output_type": "stream",
     "text": [
      "\n",
      "\n"
     ]
    }
   ],
   "source": [
    "project.remove_saved_features()\n",
    "project.remove_extra_checkpoints()"
   ]
  },
  {
   "cell_type": "code",
   "execution_count": null,
   "metadata": {},
   "outputs": [],
   "source": []
  }
 ],
 "metadata": {
  "kernelspec": {
   "display_name": "DLC2Action_new",
   "language": "python",
   "name": "python3"
  },
  "language_info": {
   "codemirror_mode": {
    "name": "ipython",
    "version": 3
   },
   "file_extension": ".py",
   "mimetype": "text/x-python",
   "name": "python",
   "nbconvert_exporter": "python",
   "pygments_lexer": "ipython3",
   "version": "3.13.5"
  },
  "orig_nbformat": 4
 },
 "nbformat": 4,
 "nbformat_minor": 2
}
