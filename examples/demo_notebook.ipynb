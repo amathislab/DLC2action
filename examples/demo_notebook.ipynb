{
 "cells": [
  {
   "cell_type": "markdown",
   "metadata": {},
   "source": [
    "# Intro to DLC2Action"
   ]
  },
  {
   "cell_type": "markdown",
   "metadata": {},
   "source": [
    "DLC2Action is a package for automatic behavior prediction. It offers implementation of SOTA models and keeps track of experiments."
   ]
  },
  {
   "cell_type": "markdown",
   "metadata": {},
   "source": [
    "To see how it works, we will experiment on a relatively small [publically available](https://github.com/ETHZ-INS/DLCAnalyzer/tree/master/data/OFT) dataset (Sturman, 2020). Run the code below to download the data.\n",
    "\n",
    "Note that the results we are getting here are not optimal because we are using very small numbers of epochs and trials to make the execution time fit within a short tutorial."
   ]
  },
  {
   "cell_type": "markdown",
   "metadata": {},
   "source": [
    "NOTE: If you want to run this in google colab, we recommend to use the notebook at [this link](https://colab.research.google.com/drive/12yLnK_xh4-ci10Qn1v8vFOcAnel5SlB3?usp=sharing).\n"
   ]
  },
  {
   "cell_type": "markdown",
   "metadata": {},
   "source": [
    "Now let's download the data. Downloading the data and installing the packages can take up to about 5-10 minutes."
   ]
  },
  {
   "cell_type": "code",
   "execution_count": null,
   "metadata": {},
   "outputs": [],
   "source": [
    "#download the data\n",
    "!git clone https://github.com/ETHZ-INS/DLCAnalyzer.git\n",
    "!mv DLCAnalyzer/data/OFT OFT_data\n",
    "\n",
    "from labels_processing_example import split_annotations_by_column\n",
    "split_annotations_by_column(\"./OFT_data/Labels/AllLabDataOFT_final.csv\", output_dir=\"OFT_data/Labels\")"
   ]
  },
  {
   "cell_type": "markdown",
   "metadata": {},
   "source": [
    "Installing `dlc2action`..."
   ]
  },
  {
   "cell_type": "code",
   "execution_count": null,
   "metadata": {},
   "outputs": [],
   "source": [
    "!python -m pip install dlc2action"
   ]
  },
  {
   "cell_type": "code",
   "execution_count": 1,
   "metadata": {},
   "outputs": [],
   "source": [
    "from dlc2action.project import Project\n",
    "import os\n",
    "\n",
    "CURRENT_PATH = os.getcwd()\n",
    "DATA_PATH = os.path.join(CURRENT_PATH, \"OFT_data\", \"Output_DLC\")\n",
    "LABELS_PATH = os.path.join(CURRENT_PATH, \"OFT_data\", \"Labels\")\n",
    "PROJECTS_PATH = os.path.join(CURRENT_PATH, \"DLC2Action\")"
   ]
  },
  {
   "cell_type": "markdown",
   "metadata": {},
   "source": [
    "High-level methods in DLC2Action are almost exclusively accessed through the `dlc2action.project.Project` class. A project instance should loosely correspond to a specific goal (e.g. generating automatic annotations for dataset A with input format X). You can use it to optimize hyperparameters, run experiments, analyze results and generate new data.\n",
    "\n",
    "**Best practices**\n",
    "- When you need to do something with a different data type or unrelated files, it's better to create a new project to keep the experiment history easy to understand.\n",
    "- Each project is associated with a folder on your computer that contains all settings, meta files and experiment outputs. Those folders are created in the folder at `projects_path`. It's generally a good idea to choose one and stick to it throughout projects."
   ]
  },
  {
   "cell_type": "markdown",
   "metadata": {},
   "source": [
    "### Creating a project\n",
    "\n",
    "Let's begin!\n",
    "\n",
    "We will create a project called `\"oft\"`, with `\"dlc_track\"` input and `\"csv\"` annotation format. \n",
    "\n",
    "You can run `Project.print_data_types()` and `Project.print_annotation_types()` to find out more about other options."
   ]
  },
  {
   "cell_type": "code",
   "execution_count": 2,
   "metadata": {},
   "outputs": [],
   "source": [
    "Project.remove_project(\"oft\", projects_path=PROJECTS_PATH)\n",
    "project = Project(\n",
    "    \"oft\",\n",
    "    data_path=DATA_PATH,\n",
    "    annotation_path=LABELS_PATH,\n",
    "    projects_path=PROJECTS_PATH,\n",
    "    data_type=\"dlc_track\",\n",
    "    annotation_type=\"csv\",\n",
    ")"
   ]
  },
  {
   "cell_type": "markdown",
   "metadata": {},
   "source": [
    "Projects have a generalized `help` function."
   ]
  },
  {
   "cell_type": "code",
   "execution_count": 3,
   "metadata": {},
   "outputs": [
    {
     "name": "stdout",
     "output_type": "stream",
     "text": [
      "AVAILABLE HELP FUNCTIONS:\n",
      "- Try running `project.help(keyword)` with the following keywords:\n",
      "    - model: to get more information on available models,\n",
      "    - features: to get more information on available feature extraction modes,\n",
      "    - partition_method: to get more information on available train/test/val partitioning methods,\n",
      "    - metrics: to see a list of available metric functions.\n",
      "    - data: to see help for expected data structure\n",
      "- To start working with this project, first run `project.list_blanks()` to check which parameters need to be filled in.\n",
      "- After a model and metrics are set, run `project.list_basic_parameters()` to see a list of the most important parameters that you might want to modify\n",
      "- If you want to dig deeper, get the full dictionary with project._read_parameters() (it is a `ruamel.yaml.comments.CommentedMap` instance).\n",
      "\n",
      "\n"
     ]
    }
   ],
   "source": [
    "project.help()"
   ]
  },
  {
   "cell_type": "code",
   "execution_count": 14,
   "metadata": {},
   "outputs": [
    {
     "name": "stdout",
     "output_type": "stream",
     "text": [
      "DATA TYPES:\n",
      "dlc_tracklet:\n",
      "\n",
      "    DLC tracklet data\n",
      "\n",
      "    Assumes the following file structure:\n",
      "    ```\n",
      "    data_path\n",
      "    ├── video1DLC1000.pickle\n",
      "    ├── video2DLC400.pickle\n",
      "    ├── video1_features.pt\n",
      "    └── video2_features.pt\n",
      "    ```\n",
      "    Here `data_suffix` is `{'DLC1000.pickle', 'DLC400.pickle'}` and `feature_suffix` (optional) is `'_features.pt'`.\n",
      "\n",
      "    The feature files should to be dictionaries where keys are clip IDs (e.g. animal names) and values are\n",
      "    feature values (arrays of shape `(#frames, #features)`). If the arrays are shaped as `(#features, #frames)`,\n",
      "    set `transpose_features` to `True`.\n",
      "\n",
      "    The files can be saved with `numpy.save()` (with `.npy` extension), `torch.save()` (with `.pt` extension) or\n",
      "    with `pickle.dump()` (with `.pickle` or `.pkl` extension).\n",
      "    \n",
      "dlc_track:\n",
      "\n",
      "    DLC track data\n",
      "\n",
      "    Assumes the following file structure:\n",
      "    ```\n",
      "    data_path\n",
      "    ├── video1DLC1000.pickle\n",
      "    ├── video2DLC400.pickle\n",
      "    ├── video1_features.pt\n",
      "    └── video2_features.pt\n",
      "    ```\n",
      "    Here `data_suffix` is `{'DLC1000.pickle', 'DLC400.pickle'}` and `feature_suffix` (optional) is `'_features.pt'`.\n",
      "\n",
      "    The feature files should to be dictionaries where keys are clip IDs (e.g. animal names) and values are\n",
      "    feature values (arrays of shape `(#frames, #features)`). If the arrays are shaped as `(#features, #frames)`,\n",
      "    set `transpose_features` to `True`.\n",
      "\n",
      "    The files can be saved with `numpy.save()` (with `.npy` extension), `torch.save()` (with `.pt` extension) or\n",
      "    with `pickle.dump()` (with `.pickle` or `.pkl` extension).\n",
      "    \n",
      "pku-mmd:\n",
      "\n",
      "    PKU-MMD data\n",
      "\n",
      "    Assumes the following file structure:\n",
      "    ```\n",
      "    data_path\n",
      "    ├── 0073-R.txt\n",
      "    ...\n",
      "    └── 0274-L.txt\n",
      "    ```\n",
      "    \n",
      "calms21:\n",
      "\n",
      "    CalMS21 data\n",
      "\n",
      "    Use the `'random:test_from_name:{name}'` and `'val-from-name:{val_name}:test-from-name:{test_name}'`\n",
      "    partitioning methods with `'train'`, `'test'` and `'unlabeled'` names to separate into train, test and validation\n",
      "    subsets according to the original files. For example, with `'val-from-name:test:test-from-name:unlabeled'`\n",
      "    the data from the test file will go into validation and the unlabeled files will be the test.\n",
      "\n",
      "    Assumes the following file structure:\n",
      "    ```\n",
      "    data_path\n",
      "    ├── calms21_task1_train.npy\n",
      "    ├── calms21_task1_test.npy\n",
      "    ├── calms21_task1_test_features.npy\n",
      "    ├── calms21_task1_test_features.npy\n",
      "    ├── calms21_unlabeled_videos_part1.npy\n",
      "    ├── calms21_unlabeled_videos_part1.npy\n",
      "    ├── calms21_unlabeled_videos_part2.npy\n",
      "    └── calms21_unlabeled_videos_part3.npy\n",
      "    ```\n",
      "    \n",
      "np_3d:\n",
      "\n",
      "    3D data\n",
      "\n",
      "    Assumes the data files to be `numpy` arrays saved in `.npy` format with shape `(#frames, #keypoints, 3)`.\n",
      "\n",
      "    Assumes the following file structure:\n",
      "    ```\n",
      "    data_path\n",
      "    ├── video1_suffix1.npy\n",
      "    ├── video2_suffix2.npy\n",
      "    ├── video1_features.pt\n",
      "    └── video2_features.pt\n",
      "    ```\n",
      "    Here `data_suffix` is `{'_suffix1.npy', '_suffix1.npy'}` and `feature_suffix` (optional) is `'_features.pt'`.\n",
      "\n",
      "    The feature files should to be dictionaries where keys are clip IDs (e.g. animal names) and values are\n",
      "    feature values (arrays of shape `(#frames, #features)`). If the arrays are shaped as `(#features, #frames)`,\n",
      "    set `transpose_features` to `True`.\n",
      "\n",
      "    The files can be saved with `numpy.save()` (with `.npy` extension), `torch.save()` (with `.pt` extension) or\n",
      "    with `pickle.dump()` (with `.pickle` or `.pkl` extension).\n",
      "    \n",
      "features:\n",
      "\n",
      "    Non-pose feature files\n",
      "\n",
      "    The feature files should to be dictionaries where keys are clip IDs (e.g. animal names) and values are\n",
      "    feature values (arrays of shape `(#frames, #features)`). If the arrays are shaped as `(#features, #frames)`,\n",
      "    set `transpose_features` to `True`.\n",
      "\n",
      "    The files can be saved with `numpy.save()` (with `.npy` extension), `torch.save()` (with `.pt` extension) or\n",
      "    with `pickle.dump()` (with `.pickle` or `.pkl` extension).\n",
      "\n",
      "    Assumes the following file structure:\n",
      "    ```\n",
      "    data_path\n",
      "    ├── video1_features.pt\n",
      "    └── video2_features.pt\n",
      "    ```\n",
      "    Here `feature_suffix` (optional) is `'_features.pt'`.\n",
      "    \n",
      "simba:\n",
      "\n",
      "    SIMBA paper format data\n",
      "\n",
      "     Assumes the following file structure\n",
      "\n",
      "     ```\n",
      "     data_path\n",
      "     ├── Video1.csv\n",
      "     ...\n",
      "     └── Video9.csv\n",
      "     ```\n",
      "     Here `data_suffix` is `.csv`.\n",
      "    \n"
     ]
    }
   ],
   "source": [
    "Project.print_data_types()"
   ]
  },
  {
   "cell_type": "markdown",
   "metadata": {},
   "source": [
    "Let's start by checking if our files are organized correctly."
   ]
  },
  {
   "cell_type": "code",
   "execution_count": 15,
   "metadata": {},
   "outputs": [
    {
     "name": "stdout",
     "output_type": "stream",
     "text": [
      "DATA:\n",
      "Video data: dlc_track\n",
      "\n",
      "    DLC track data\n",
      "\n",
      "    Assumes the following file structure:\n",
      "    ```\n",
      "    data_path\n",
      "    ├── video1DLC1000.pickle\n",
      "    ├── video2DLC400.pickle\n",
      "    ├── video1_features.pt\n",
      "    └── video2_features.pt\n",
      "    ```\n",
      "    Here `data_suffix` is `{'DLC1000.pickle', 'DLC400.pickle'}` and `feature_suffix` (optional) is `'_features.pt'`.\n",
      "\n",
      "    The feature files should to be dictionaries where keys are clip IDs (e.g. animal names) and values are\n",
      "    feature values (arrays of shape `(#frames, #features)`). If the arrays are shaped as `(#features, #frames)`,\n",
      "    set `transpose_features` to `True`.\n",
      "\n",
      "    The files can be saved with `numpy.save()` (with `.npy` extension), `torch.save()` (with `.pt` extension) or\n",
      "    with `pickle.dump()` (with `.pickle` or `.pkl` extension).\n",
      "    \n",
      "Annotation data: csv\n",
      "\n",
      "    CSV type annotation data\n",
      "\n",
      "    Assumes that files are saved as .csv tables with at least the following columns:\n",
      "    - from / start : start of action,\n",
      "    - to / end : end of action,\n",
      "    - class / behavior / behaviour / label / type : action label.\n",
      "\n",
      "    If the times are set in seconds instead of frames, don't forget to set the `fps` parameter to your frame rate.\n",
      "\n",
      "    Assumes the following file structure:\n",
      "    ```\n",
      "    annotation_path\n",
      "    ├── video1_annotation.csv\n",
      "    └── video2_labels.csv\n",
      "    ```\n",
      "    Here `annotation_suffix` is `{'_annotation.csv', '_labels.csv'}`.\n",
      "    \n",
      "Annotation path and data path don't have to be separate, you can keep everything in one folder.\n",
      "\n",
      "\n"
     ]
    }
   ],
   "source": [
    "project.help(\"data\")"
   ]
  },
  {
   "cell_type": "markdown",
   "metadata": {},
   "source": [
    "## Setting parameters"
   ]
  },
  {
   "cell_type": "markdown",
   "metadata": {},
   "source": [
    "After the data structure is sorted out, it's time to configure the parameter settings. \n",
    "\n",
    "Every project keeps fixed settings written in configuration files in the project folder. When you want to change something, you have two options: modifying the configuration files so that this new value becomes the default (with `project.set_main_parameters` or `project.update_parameters`) or passing a `parameters_update` argument to your function so that the settings only change for this run.\n",
    "\n",
    "We will start with setting the defaults.\n",
    "\n",
    "As we saw in the help message, the first step is checking which essential parameters are missing with `project.list_blanks()`"
   ]
  },
  {
   "cell_type": "code",
   "execution_count": 16,
   "metadata": {},
   "outputs": [
    {
     "name": "stdout",
     "output_type": "stream",
     "text": [
      "There is no blanks left!\n"
     ]
    }
   ],
   "source": [
    "project.list_blanks()"
   ]
  },
  {
   "cell_type": "markdown",
   "metadata": {},
   "source": [
    "We can copy this code, fill in the information and run it."
   ]
  },
  {
   "cell_type": "code",
   "execution_count": 17,
   "metadata": {},
   "outputs": [],
   "source": [
    "project.update_parameters(\n",
    "    {\n",
    "        \"data\": {\n",
    "            \"data_suffix\": \"DeepCut_resnet50_Blockcourse1May9shuffle1_1030000.csv\", # set; the data files should have the format of {video_id}{data_suffix}, e.g. video1_suffix.pickle, where video1 is the video is and _suffix.pickle is the suffix\n",
    "            \"canvas_shape\": [928, 576], # list; the size of the canvas where the pose was defined\n",
    "            \"annotation_suffix\": \".csv\", # str | set, optional the suffix or the set of suffices such that the annotation files are named {video_id}{annotation_suffix}, e.g, video1_suffix.pickle where video1 is the video id and _suffix.pickle is the suffix\n",
    "            \"fps\": 25 # int; fps (assuming the annotations are given in seconds, otherwise set any value)\n",
    "        },\n",
    "        \"general\": {\n",
    "            \"exclusive\": True, # bool; if true, single-label classification is used; otherwise multi-label\n",
    "        },\n",
    "    }\n",
    ")"
   ]
  },
  {
   "cell_type": "markdown",
   "metadata": {},
   "source": [
    "Now we're all set and can start training models. However, we can take an extra step and check out what other parameters are available."
   ]
  },
  {
   "cell_type": "markdown",
   "metadata": {},
   "source": [
    "Note that this function is only showing us the parameters for the metric functions and the model that are selected as default at the moment. If you want to see what parameters there are for other models and metrics, try setting them first with `project.set_main_parameters()` or with `project.update_parameters()`."
   ]
  },
  {
   "cell_type": "code",
   "execution_count": 18,
   "metadata": {},
   "outputs": [
    {
     "name": "stdout",
     "output_type": "stream",
     "text": [
      "BASIC PARAMETERS:\n",
      "Here is a list of current parameters.\n",
      "You can copy this code, change the parameters you want to set and run it to update the project config.\n",
      "--------------------------------------------------------\n",
      "project.update_parameters(\n",
      "    {\n",
      "        \"general\": {\n",
      "            \"model_name\": \"c2f_tcn\", # str; model name (run project.help(\"model\") for more info)\n",
      "            \"metric_functions\": ['f1', 'precision'], \n",
      "            \"ignored_clips\": None, # list; a list of string clip ids (agent names) to be ignored\n",
      "            \"len_segment\": 512, # int; the length of segments (in frames) to cut the videos into\n",
      "            \"overlap\": 0.75, # int; the overlap (in frames) between neighboring segments\n",
      "            \"interactive\": False, # bool; if true, annotations are assigned and features are computed for pairs of clips (animals)\n",
      "        },\n",
      "        \"data\": {\n",
      "            \"data_suffix\": \"DeepCut_resnet50_Blockcourse1May9shuffle1_1030000.csv\", # set; the data files should have the format of {video_id}{data_suffix}, e.g. video1_suffix.pickle, where video1 is the video is and _suffix.pickle is the suffix\n",
      "            \"feature_suffix\": None, # str; the feature files should be stored in the data folder and named {video_id}{feature_suffix}\n",
      "            \"annotation_suffix\": \".csv\", # str | set, optional the suffix or the set of suffices such that the annotation files are named {video_id}{annotation_suffix}, e.g, video1_suffix.pickle where video1 is the video id and _suffix.pickle is the suffix\n",
      "            \"canvas_shape\": [928, 576], # list; the size of the canvas where the pose was defined\n",
      "            \"ignored_bodyparts\": None, # set; the set of string names of bodyparts to ignore\n",
      "            \"likelihood_threshold\": 0, # float; coordinates with lower likelihood values will be ignored\n",
      "            \"behaviors\": None, # set; the behaviors to predict (if null, if will be inferred from the data; !!PLEASE SET IT MANUALLY if different files can have different behavior sets!!)\n",
      "            \"filter_annotated\": True, # bool; discard long unannotated intervals during training\n",
      "            \"filter_background\": True, # bool; only label frames as background if a behavior is annotated somewhere close\n",
      "            \"visibility_min_score\": 0, # float; the minimum visibility score for visibility filtering\n",
      "            \"visibility_min_frac\": 0, # float; the minimum fraction of visible frames for visibility filtering\n",
      "        },\n",
      "        \"training\": {\n",
      "            \"lr\": 0.001, # float; learning rate\n",
      "            \"device\": \"auto\", # str; device\n",
      "            \"num_epochs\": 10, # int; number of epochs\n",
      "            \"to_ram\": False, # bool; transfer the dataset to RAM for training (preferred if the dataset fits in working memory)\n",
      "            \"batch_size\": 64, # int; batch size\n",
      "            \"normalize\": True, # bool; if true, normalization statistics will be computed on the training set and applied to all data\n",
      "            \"temporal_subsampling_size\": 0.85, # float; this fraction of frames in each segment is randomly sampled at training time\n",
      "            \"parallel\": False, # bool; if true, the model will be trained on all gpus visible in the system (use os.environ[“CUDA_VISIBLE_DEVICES”] =“{indices}” to exclude gpus in this mode)\n",
      "\n",
      "#losses\n",
      "            \"val_frac\": 0.2, # float; fraction of dataset to use as validation\n",
      "            \"test_frac\": 0, # float; fraction of dataset to use as test\n",
      "            \"partition_method\": \"random\", # str; the train/test/val partitioning method (for more info run project.help(\"partition_method\"))\n",
      "        },\n",
      "        \"losses\": {\n",
      "            \"ms_tcn\": {\n",
      "                \"focal\": True, # bool; if True, focal loss will be used\n",
      "                \"gamma\": 2, # float; the gamma parameter of focal loss\n",
      "                \"alpha\": 0.001, # float; the weight of consistency loss\n",
      "            },\n",
      "        },\n",
      "        \"metrics\": {\n",
      "            \"f1\": {\n",
      "                \"average\": \"macro\", # ['macro', 'micro', 'none']; averaging method for classes\n",
      "                \"ignored_classes\": None, # set; a set of class ids to ignore in calculation\n",
      "                \"tag_average\": \"micro\", # ['micro', 'macro', 'none']; averaging method for meta tags (if given)\n",
      "                \"threshold_value\": 0.5, # float; the probability threshold for positive samples\n",
      "            },\n",
      "            \"precision\": {\n",
      "                \"average\": \"macro\", # ['macro', 'micro', 'none']; averaging method for classes\n",
      "                \"ignored_classes\": None, # set; a set of class ids to ignore in calculation\n",
      "                \"tag_average\": \"micro\", # ['micro', 'macro', 'none']; averaging method for meta tags (if given)\n",
      "                \"threshold_value\": 0.5, # float; the probability threshold for positive samples\n",
      "            },\n",
      "        },\n",
      "        \"model\": {\n",
      "            \"num_f_maps\": 128, # int; number of maps\n",
      "            \"feature_dim\": None, # int; if not null, intermediate features are generated with this dimension and then passed to a 2-layer MLP for classification (useful for SSL)\n",
      "        },\n",
      "        \"features\": {\n",
      "            \"keys\": None, # set; a list of names of the features to extract (a subset of available keys; run project.help(\"features\") for more info)\n",
      "            \"averaging_window\": 1, # int; if >1, features are averaged with a moving window of this size (in frames)\n",
      "            \"distance_pairs\": None, # list; a list of bodypart name tuples (e.g. `[(\"tail\", \"nose\")]`) to compute distances for when `\"intra_distance\"` is in `keys` (by default all distances are computed)\n",
      "            \"angle_pairs\": None, # list; a list of bodypart name tuples (e.g. `[(\"ear1\", \"nose\", \"ear2\")]`) for the angle between `\"ear1\"--\"nose\"` and `\"nose\"--\"ear2\"` lines) to compute angle cosines for when `\"angles\"` is in `keys` (by default no angles are computed)\n",
      "            \"zone_vertices\": None, # dict; a dictionary of bodypart name tuples of any length >= 3 that define zones for `\"zone_bools\"`and `\"zone_distances\"` features; keys should be zone names and values should be tuples that define the polygons (e.g. `{\"main_area\": (\"x_min\", \"x_max\", \"y_max\", \"y_min\"))}`)\n",
      "            \"zone_bools\": None, # list; a list of zone and bodypart name tuples to compute binary identifiers for (1 if an animal is within the polygon or 0 if it's outside) (e.g. `[(\"main_area\", \"nose\")]`); the zones should be defined in the `zone_vertices` parameter; this is only computed if `\"zone_bools\"` is in `keys`\n",
      "            \"zone_distances\": None, # list; a list of zone and bodypart name tuples to compute distances for (distance from the bodypart to the closest of the boundaries) (e.g. `[(\"main_area\", \"nose\")]`); the zones should be defined in the `zone_vertices` parameter; this is only computed if `\"zone_distances\"` is in `keys`\n",
      "            \"area_vertices\": None, # list; a list of bodypart name tuples of any length >= 3 (e.g. `[(\"ear1\", \"nose\", \"ear2\", \"spine1\")]`) that define polygons to compute areas for when `\"areas\"` is in `keys` (by default no areas are computed)\n",
      "        },\n",
      "        \"augmentations\": {\n",
      "            \"augmentations\": {'add_noise'}, # set; a set of augmentations that can be applied to your data without losing information (choose any number from 'rotate', 'real_lens', 'add_noise', 'shift', 'zoom', 'mirror', 'switch', e.g. {'add_noise'. 'mirror'})\n",
      "            \"rotation_limits\": [-1.57, 1.57], # list; list of rotation angle limits in radians ([low, high])\n",
      "            \"mirror_dim\": {0}, # set; set of dimensions that can be mirrored (0 for x, 1 for y, 2 for z)\n",
      "            \"noise_std\": 0.003, # float; standard deviation of noise\n",
      "            \"zoom_limits\": [0.5, 1.5], # list; list of float zoom limits ([low, high])\n",
      "            \"masking_probability\": 0.1, # float; the probability of masking a joint\n",
      "        },\n",
      "    },\n",
      ")\n",
      "--------------------------------------------------------\n",
      "\n",
      "\n"
     ]
    }
   ],
   "source": [
    "project.list_basic_parameters()"
   ]
  },
  {
   "cell_type": "markdown",
   "metadata": {},
   "source": [
    "We can copy this into a code cell to make it easier to read."
   ]
  },
  {
   "cell_type": "code",
   "execution_count": 19,
   "metadata": {},
   "outputs": [],
   "source": [
    "project.update_parameters(\n",
    "    {\n",
    "        \"general\": {\n",
    "            \"model_name\": \"c2f_tcn\", # str; model name (run project.help(\"model\") for more info)\n",
    "            \"metric_functions\": {'precision', 'recall', 'f1'}, # set; set of metric names (run project.help(\"metrics\") for more info)\n",
    "            \"ignored_clips\": None, # list; a list of string clip ids (agent names) to be ignored\n",
    "            \"len_segment\": 512, # int; the length of segments (in frames) to cut the videos into\n",
    "            \"overlap\": 0.75, # int; the overlap (in frames) between neighboring segments\n",
    "            \"interactive\": False, # bool; if true, annotations are assigned and features are computed for pairs of clips (animals)\n",
    "        },\n",
    "        \"data\": {\n",
    "            \"data_suffix\": \"DeepCut_resnet50_Blockcourse1May9shuffle1_1030000.csv\", # set; the data files should have the format of {video_id}{data_suffix}, e.g. video1_suffix.pickle, where video1 is the video is and _suffix.pickle is the suffix\n",
    "            \"feature_suffix\": None, # str; the feature files should be stored in the data folder and named {video_id}{feature_suffix}\n",
    "            \"annotation_suffix\": \".csv\", # str | set, optional the suffix or the set of suffices such that the annotation files are named {video_id}{annotation_suffix}, e.g, video1_suffix.pickle where video1 is the video id and _suffix.pickle is the suffix\n",
    "            \"canvas_shape\": [928, 576], # list; the size of the canvas where the pose was defined\n",
    "            \"ignored_bodyparts\": None, # set; the set of string names of bodyparts to ignore\n",
    "            \"likelihood_threshold\": 0, # float; coordinates with lower likelihood values will be ignored\n",
    "            \"behaviors\": None, # set; the behaviors to predict (if null, if will be inferred from the data; !!PLEASE SET IT MANUALLY if different files can have different behavior sets!!)\n",
    "            \"filter_annotated\": True, # bool; discard long unannotated intervals during training\n",
    "            \"filter_background\": True, # bool; only label frames as background if a behavior is annotated somewhere close\n",
    "            \"visibility_min_score\": 0, # float; the minimum visibility score for visibility filtering\n",
    "            \"visibility_min_frac\": 0, # float; the minimum fraction of visible frames for visibility filtering\n",
    "        },\n",
    "        \"training\": {\n",
    "            \"lr\": 0.001, # float; learning rate\n",
    "            \"device\": \"auto\", # str; device\n",
    "            \"num_epochs\": 50, # int; number of epochs\n",
    "            \"to_ram\": False, # bool; transfer the dataset to RAM for training (preferred if the dataset fits in working memory)\n",
    "            \"batch_size\": 64, # int; batch size\n",
    "            \"normalize\": True, # bool; if true, normalization statistics will be computed on the training set and applied to all data\n",
    "            \"temporal_subsampling_size\": 0.85, # float; this fraction of frames in each segment is randomly sampled at training time\n",
    "            \"parallel\": False, # bool; if true, the model will be trained on all gpus visible in the system (use os.environ[“CUDA_VISIBLE_DEVICES”] =“{indices}” to exclude gpus in this mode)\n",
    "            \"val_frac\": 0.2, # float; fraction of dataset to use as validation\n",
    "            \"test_frac\": 0, # float; fraction of dataset to use as test\n",
    "            \"partition_method\": \"random\", # str; the train/test/val partitioning method (for more info run project.help(\"partition_method\"))\n",
    "        },\n",
    "        \"losses\": {\n",
    "            \"ms_tcn\": {\n",
    "                \"focal\": True, # bool; if True, focal loss will be used\n",
    "                \"gamma\": 2, # float; the gamma parameter of focal loss\n",
    "                \"alpha\": 0.001, # float; the weight of consistency loss\n",
    "            },\n",
    "        },\n",
    "        \"metrics\": {\n",
    "            \"f1\": {\n",
    "                \"average\": \"macro\", # ['macro', 'micro', 'none']; averaging method for classes\n",
    "                \"ignored_classes\": None, # set; a set of class ids to ignore in calculation\n",
    "                \"threshold_value\": 0.5, # float; the probability threshold for positive samples\n",
    "            },\n",
    "            \"recall\": {\n",
    "                \"average\": \"macro\", # ['macro', 'micro', 'none']; averaging method for classes\n",
    "                \"ignored_classes\": None, # set; a set of class ids to ignore in calculation\n",
    "                \"threshold_value\": 0.5, # float; the probability threshold for positive samples\n",
    "            },\n",
    "            \"precision\": {\n",
    "                \"average\": \"macro\", # ['macro', 'micro', 'none']; averaging method for classes\n",
    "                \"ignored_classes\": None, # set; a set of class ids to ignore in calculation\n",
    "                \"threshold_value\": 0.5, # float; the probability threshold for positive samples\n",
    "            },\n",
    "        },\n",
    "        \"model\": {\n",
    "            \"num_f_maps\": 128, # int; number of maps\n",
    "            \"feature_dim\": None, # int; if not null, intermediate features are generated with this dimension and then passed to a 2-layer MLP for classification (useful for SSL)\n",
    "        },\n",
    "        \"features\": {\n",
    "            \"keys\": None, # set; a list of names of the features to extract (a subset of available keys; run project.help(\"features\") for more info)\n",
    "            \"averaging_window\": 1, # int; if >1, features are averaged with a moving window of this size (in frames)\n",
    "            \"distance_pairs\": None, # list; a list of bodypart name tuples (e.g. `[(\"tail\", \"nose\")]`) to compute distances for when `\"intra_distance\"` is in `keys` (by default all distances are computed)\n",
    "            \"angle_pairs\": None, # list; a list of bodypart name tuples (e.g. `[(\"ear1\", \"nose\", \"ear2\")]`) for the angle between `\"ear1\"--\"nose\"` and `\"nose\"--\"ear2\"` lines) to compute angle cosines for when `\"angles\"` is in `keys` (by default no angles are computed)\n",
    "            \"zone_vertices\": None, # dict; a dictionary of bodypart name tuples of any length >= 3 that define zones for `\"zone_bools\"`and `\"zone_distances\"` features; keys should be zone names and values should be tuples that define the polygons (e.g. `{\"main_area\": (\"x_min\", \"x_max\", \"y_max\", \"y_min\"))}`)\n",
    "            \"zone_bools\": None, # list; a list of zone and bodypart name tuples to compute binary identifiers for (1 if an animal is within the polygon or 0 if it's outside) (e.g. `[(\"main_area\", \"nose\")]`); the zones should be defined in the `zone_vertices` parameter; this is only computed if `\"zone_bools\"` is in `keys`\n",
    "            \"zone_distances\": None, # list; a list of zone and bodypart name tuples to compute distances for (distance from the bodypart to the closest of the boundaries) (e.g. `[(\"main_area\", \"nose\")]`); the zones should be defined in the `zone_vertices` parameter; this is only computed if `\"zone_distances\"` is in `keys`\n",
    "            \"area_vertices\": None, # list; a list of bodypart name tuples of any length >= 3 (e.g. `[(\"ear1\", \"nose\", \"ear2\", \"spine1\")]`) that define polygons to compute areas for when `\"areas\"` is in `keys` (by default no areas are computed)\n",
    "        },\n",
    "        \"augmentations\": {\n",
    "            \"augmentations\": {'add_noise'}, # set; a set of augmentations that can be applied to your data without losing information (choose any number from 'rotate', 'real_lens', 'add_noise', 'shift', 'zoom', 'mirror', 'switch', e.g. {'add_noise'. 'mirror'})\n",
    "            \"rotation_limits\": [-1.57, 1.57], # list; list of rotation angle limits in radians ([low, high])\n",
    "            \"mirror_dim\": {0}, # set; set of dimensions that can be mirrored (0 for x, 1 for y, 2 for z)\n",
    "            \"noise_std\": 0.003, # float; standard deviation of noise\n",
    "            \"zoom_limits\": [0.5, 1.5], # list; list of float zoom limits ([low, high])\n",
    "            \"masking_probability\": 0.1, # float; the probability of masking a joint\n",
    "        },\n",
    "    },\n",
    ")"
   ]
  },
  {
   "cell_type": "markdown",
   "metadata": {},
   "source": [
    "Let's see what the options are for metrics and models."
   ]
  },
  {
   "cell_type": "code",
   "execution_count": 20,
   "metadata": {},
   "outputs": [
    {
     "name": "stdout",
     "output_type": "stream",
     "text": [
      "MODELS:\n",
      "asformer:\n",
      "\n",
      "    An implementation of ASFormer\n",
      "    \n",
      "mlp:\n",
      "\n",
      "    A Multi-Layer Perceptron\n",
      "    \n",
      "c2f_tcn:\n",
      "\n",
      "    An implementation of C2F-TCN\n",
      "\n",
      "    Requires the `\"general/len_segment\"` parameter to be at least 512\n",
      "    \n",
      "edtcn:\n",
      "\n",
      "    An implementation of EDTCN (Endoder-Decoder TCN)\n",
      "    \n",
      "transformer:\n",
      "\n",
      "    A modification of Transformer-Encoder with additional max-pooling and upsampling\n",
      "\n",
      "    Set `num_pool` to 0 to get a standart transformer-encoder.\n",
      "    \n",
      "\n",
      "\n",
      "METRICS:\n",
      "accuracy:\n",
      "\n",
      "    Accuracy\n",
      "    \n",
      "precision:\n",
      "\n",
      "    Precision\n",
      "    \n",
      "f1:\n",
      "\n",
      "    F1 score\n",
      "    \n",
      "recall:\n",
      "\n",
      "    Recall\n",
      "    \n",
      "count:\n",
      "\n",
      "    Fraction of samples labeled by the model as a class\n",
      "    \n",
      "segmental_precision:\n",
      "\n",
      "    Segmental precision (not advised for training)\n",
      "    \n",
      "segmental_recall:\n",
      "\n",
      "    Segmental recall (not advised for training)\n",
      "    \n",
      "segmental_f1:\n",
      "\n",
      "    Segmental F1 score (not advised for training)\n",
      "    \n",
      "edit_distance:\n",
      "\n",
      "    Edit distance (not advised for training)\n",
      "\n",
      "    Normalized by the length of the sequences\n",
      "    \n",
      "f_beta:\n",
      "\n",
      "    F-beta score\n",
      "    \n",
      "segmental_f_beta:\n",
      "\n",
      "    Segmental F-beta score (not advised for training)\n",
      "    \n",
      "semisegmental_precision:\n",
      "\n",
      "    Semi-segmental precision (not advised for training)\n",
      "\n",
      "    A metric in-between segmental and frame-wise precision.\n",
      "\n",
      "    This metric follows the following algorithm:\n",
      "    1) smooth over too-short intervals, both in ground truth and in prediction (first remove\n",
      "        groups of zeros shorter than `smooth_interval` and then do the same with groups of ones),\n",
      "    2) add `delta` frames to each predicted interval at both ends and count the number of ground truth\n",
      "        positive frames at the resulting intervals (intersection),\n",
      "    3) calculate the threshold for each interval as\n",
      "        `t = sigmoid(4 * (a * x + b)) * (iou_threshold_long - iou_threshold_short))`, where\n",
      "        `a = 2 / (long_length - short_length)`, `b = 1 - a * long_length`, `x` is the length of the interval\n",
      "        before `delta` was added,\n",
      "    4) for each interval, if intersection is higher than `t * x`, the interval is labeled as true positive (`TP`),\n",
      "        and otherwise as false positive (`FP`),\n",
      "    5) the final metric value is computed as `TP / (TP + FP)`.\n",
      "    \n",
      "semisegmental_recall:\n",
      "\n",
      "    Semi-segmental recall (not advised for training)\n",
      "\n",
      "    A metric in-between segmental and frame-wise recall.\n",
      "\n",
      "    This metric follows the following algorithm:\n",
      "    1) smooth over too-short intervals, both in ground truth and in prediction (first remove\n",
      "        groups of zeros shorter than `smooth_interval` and then do the same with groups of ones),\n",
      "    2) add `delta` frames to each ground truth interval at both ends and count the number of predicted\n",
      "        positive frames at the resulting intervals (intersection),\n",
      "    3) calculate the threshold for each interval as\n",
      "        `t = sigmoid(4 * (a * x + b)) * (iou_threshold_long - iou_threshold_short))`, where\n",
      "        `a = 2 / (long_length - short_length)`, `b = 1 - a * long_length`, `x` is the length of the interval\n",
      "        before `delta` was added,\n",
      "    4) for each interval, if intersection is higher than `t * x`, the interval is labeled as true positive (`TP`),\n",
      "        and otherwise as false negative (`FN`),\n",
      "    5) the final metric value is computed as `TP / (TP + FN)`.\n",
      "    \n",
      "semisegmental_f1:\n",
      "\n",
      "    The F1 score for semi-segmental recall and precision (not advised for training)\n",
      "    \n",
      "pr-auc:\n",
      "\n",
      "    Area under precision-recall curve (not advised for training)\n",
      "    \n",
      "semisegmental_pr-auc:\n",
      "\n",
      "    The area under the precision-recall curve for semi-segmental metrics (not advised for training)\n",
      "    \n",
      "mAP:\n",
      "\n",
      "    Mean average precision (segmental) (not advised for training)\n",
      "    \n",
      "\n",
      "\n"
     ]
    }
   ],
   "source": [
    "project.help(\"model\")\n",
    "project.help(\"metrics\")"
   ]
  },
  {
   "cell_type": "markdown",
   "metadata": {},
   "source": [
    "Which models and metrics do you want to try out?\n",
    "\n",
    "You can choose any metrics but the code will run much faster if you avoid those marked \"not advisable for training\". We can compute those later with a trained model."
   ]
  },
  {
   "cell_type": "code",
   "execution_count": 21,
   "metadata": {},
   "outputs": [],
   "source": [
    "MODEL_NAME1 = \"c2f_tcn\"\n",
    "MODEL_NAME2 = \"transformer\"\n",
    "METRICS = [\"f1\", \"precision\"]"
   ]
  },
  {
   "cell_type": "markdown",
   "metadata": {},
   "source": [
    "We will configure the metrics in the default parameters, as well as a smaller number of epochs. The model will be updated in each experiment independently, since we want to try out more than one. We will also set the classes that we want to ignore here."
   ]
  },
  {
   "cell_type": "code",
   "execution_count": 22,
   "metadata": {},
   "outputs": [],
   "source": [
    "project.update_parameters(\n",
    "    {\n",
    "        \"general\": {\"metric_functions\": METRICS},\n",
    "        \"training\": {\"num_epochs\": 10},\n",
    "        \"data\": {\"ignored_classes\": [\"StartEnd\", \"_DEFAULT\"]}\n",
    "    }\n",
    ")"
   ]
  },
  {
   "cell_type": "markdown",
   "metadata": {},
   "source": [
    "All done! Now we're ready to run experiments. "
   ]
  },
  {
   "cell_type": "markdown",
   "metadata": {},
   "source": [
    "## Hyperparameter search"
   ]
  },
  {
   "cell_type": "markdown",
   "metadata": {},
   "source": [
    "There are many hyperparameters in model training, like the number of layers in a model or loss coefficients. The default settings for those parameters should generate reasonable results on most datasets but in order to get the most out of our data we can run a hyperparameter search.\n",
    "\n",
    "Searches in `DLC2Action` use the `optuna` auto-ML package to sample the hyperpameter space efficiently and save time on trials that go badly from the beginning. \n",
    "\n",
    "There are two methods for running a search: `project.run_hyperparameter_search()` and `project.run_default_hyperparameter_search()`. As you might have guessed from the names, the second method will just load the default set of parameters for a given model while the first allows you to optimize whatever you want. For the vast majority of cases `project.run_default_hyperparameter_search()` should be enough, so that is what we will use in thi tutorial."
   ]
  },
  {
   "cell_type": "code",
   "execution_count": 25,
   "metadata": {},
   "outputs": [
    {
     "name": "stderr",
     "output_type": "stream",
     "text": [
      "\u001b[32m[I 2022-11-24 09:23:12,875]\u001b[0m A new study created in memory with name: no-name-0f119bcc-546e-4f81-ac4a-5aba0ad1ff0c\u001b[0m\n"
     ]
    },
    {
     "name": "stdout",
     "output_type": "stream",
     "text": [
      "SEARCH c2f_tcn_search\n",
      "Computing input features...\n"
     ]
    },
    {
     "name": "stderr",
     "output_type": "stream",
     "text": [
      "100%|██████████| 20/20 [00:09<00:00,  2.10it/s]\n"
     ]
    },
    {
     "name": "stdout",
     "output_type": "stream",
     "text": [
      "Computing annotation arrays...\n"
     ]
    },
    {
     "name": "stderr",
     "output_type": "stream",
     "text": [
      "100%|██████████| 20/20 [00:00<00:00, 585.89it/s]\n"
     ]
    },
    {
     "name": "stdout",
     "output_type": "stream",
     "text": [
      "Filtering 2.83% of samples\n",
      "Number of samples:\n",
      "    validation:\n",
      "      {-100: 43564, 2: 9289, 0: 166, 3: 4768, 1: 1605}\n",
      "    training:\n",
      "      {-100: 163547, 0: 881, 3: 25277, 2: 42486, 1: 6913}\n",
      "    test:\n",
      "      {1: 0, 2: 0, 3: 0, 0: 0}\n",
      "Computing normalization statistics...\n"
     ]
    },
    {
     "name": "stderr",
     "output_type": "stream",
     "text": [
      "100%|██████████| 467/467 [00:00<00:00, 720.60it/s]\n",
      "100%|██████████| 467/467 [00:00<00:00, 667.07it/s]\n"
     ]
    },
    {
     "name": "stdout",
     "output_type": "stream",
     "text": [
      "Initializing class weights:\n",
      "    0.53, 0.068, 0.011, 0.018\n",
      "Behavior indices:\n",
      "    0: other\n",
      "    1: Grooming\n",
      "    2: Supported\n",
      "    3: Unsupported\n",
      "[epoch 1]: loss 0.0143, f1 0.393\n",
      "validation: loss 0.0157, f1 0.239\n",
      "[epoch 2]: loss 0.0104, f1 0.546\n",
      "validation: loss 0.0130, f1 0.521\n"
     ]
    },
    {
     "name": "stderr",
     "output_type": "stream",
     "text": [
      "\u001b[32m[I 2022-11-24 09:23:57,725]\u001b[0m Trial 0 finished with value: 0.46422381202379864 and parameters: {'losses/ms_tcn/alpha': 0.0015883641533781837, 'losses/ms_tcn/focal': True, 'training/temporal_subsampling_size': 0.8991999677679936, 'model/num_f_maps': 67, 'general/len_segment': 512}. Best is trial 0 with value: 0.46422381202379864.\u001b[0m\n"
     ]
    },
    {
     "name": "stdout",
     "output_type": "stream",
     "text": [
      "[epoch 3]: loss 0.0078, f1 0.663\n",
      "validation: loss 0.0097, f1 0.632\n",
      "Number of samples:\n",
      "    validation:\n",
      "      {-100: 43564, 2: 9289, 0: 166, 3: 4768, 1: 1605}\n",
      "    training:\n",
      "      {-100: 163547, 0: 881, 3: 25277, 2: 42486, 1: 6913}\n",
      "    test:\n",
      "      {1: 0, 2: 0, 3: 0, 0: 0}\n",
      "Computing normalization statistics...\n"
     ]
    },
    {
     "name": "stderr",
     "output_type": "stream",
     "text": [
      "100%|██████████| 467/467 [00:00<00:00, 495.41it/s]\n",
      "100%|██████████| 467/467 [00:00<00:00, 594.42it/s]\n"
     ]
    },
    {
     "name": "stdout",
     "output_type": "stream",
     "text": [
      "Initializing class weights:\n",
      "    0.53, 0.068, 0.011, 0.018\n",
      "Behavior indices:\n",
      "    0: other\n",
      "    1: Grooming\n",
      "    2: Supported\n",
      "    3: Unsupported\n",
      "[epoch 1]: loss 0.0162, f1 0.375\n",
      "validation: loss 0.0173, f1 0.367\n",
      "[epoch 2]: loss 0.0121, f1 0.517\n",
      "validation: loss 0.0144, f1 0.626\n"
     ]
    },
    {
     "name": "stderr",
     "output_type": "stream",
     "text": [
      "\u001b[32m[I 2022-11-24 09:24:05,560]\u001b[0m Trial 1 finished with value: 0.552939385175705 and parameters: {'losses/ms_tcn/alpha': 0.0007464967274536318, 'losses/ms_tcn/focal': True, 'training/temporal_subsampling_size': 0.9541599916891434, 'model/num_f_maps': 34, 'general/len_segment': 512}. Best is trial 1 with value: 0.552939385175705.\u001b[0m\n"
     ]
    },
    {
     "name": "stdout",
     "output_type": "stream",
     "text": [
      "[epoch 3]: loss 0.0103, f1 0.597\n",
      "validation: loss 0.0119, f1 0.666\n",
      "Computing input features...\n"
     ]
    },
    {
     "name": "stderr",
     "output_type": "stream",
     "text": [
      "100%|██████████| 20/20 [00:07<00:00,  2.52it/s]\n"
     ]
    },
    {
     "name": "stdout",
     "output_type": "stream",
     "text": [
      "Computing annotation arrays...\n"
     ]
    },
    {
     "name": "stderr",
     "output_type": "stream",
     "text": [
      "100%|██████████| 20/20 [00:00<00:00, 412.12it/s]\n"
     ]
    },
    {
     "name": "stdout",
     "output_type": "stream",
     "text": [
      "Number of samples:\n",
      "    validation:\n",
      "      {-100: 45612, 2: 9289, 0: 166, 3: 4768, 1: 1605}\n",
      "    training:\n",
      "      {-100: 170203, 0: 881, 3: 25277, 2: 42486, 1: 6913}\n",
      "    test:\n",
      "      {1: 0, 2: 0, 3: 0, 0: 0}\n",
      "Computing normalization statistics...\n"
     ]
    },
    {
     "name": "stderr",
     "output_type": "stream",
     "text": [
      "100%|██████████| 240/240 [00:00<00:00, 518.58it/s]\n",
      "100%|██████████| 240/240 [00:00<00:00, 565.64it/s]\n"
     ]
    },
    {
     "name": "stdout",
     "output_type": "stream",
     "text": [
      "Initializing class weights:\n",
      "    0.272, 0.035, 0.006, 0.009\n",
      "Behavior indices:\n",
      "    0: other\n",
      "    1: Grooming\n",
      "    2: Supported\n",
      "    3: Unsupported\n",
      "[epoch 1]: loss 0.0096, f1 0.219\n",
      "validation: loss 0.0087, f1 0.087\n",
      "[epoch 2]: loss 0.0065, f1 0.539\n",
      "validation: loss 0.0079, f1 0.313\n"
     ]
    },
    {
     "name": "stderr",
     "output_type": "stream",
     "text": [
      "\u001b[32m[I 2022-11-24 09:24:18,784]\u001b[0m Trial 2 finished with value: 0.26326049367586773 and parameters: {'losses/ms_tcn/alpha': 1.3669781078806032e-05, 'losses/ms_tcn/focal': True, 'training/temporal_subsampling_size': 0.7576554155976422, 'model/num_f_maps': 82, 'general/len_segment': 1024}. Best is trial 1 with value: 0.552939385175705.\u001b[0m\n"
     ]
    },
    {
     "name": "stdout",
     "output_type": "stream",
     "text": [
      "[epoch 3]: loss 0.0053, f1 0.551\n",
      "validation: loss 0.0073, f1 0.389\n",
      "Number of samples:\n",
      "    validation:\n",
      "      {-100: 43564, 2: 9289, 0: 166, 3: 4768, 1: 1605}\n",
      "    training:\n",
      "      {-100: 163547, 0: 881, 3: 25277, 2: 42486, 1: 6913}\n",
      "    test:\n",
      "      {1: 0, 2: 0, 3: 0, 0: 0}\n",
      "Computing normalization statistics...\n"
     ]
    },
    {
     "name": "stderr",
     "output_type": "stream",
     "text": [
      "100%|██████████| 467/467 [00:00<00:00, 637.18it/s]\n",
      "100%|██████████| 467/467 [00:00<00:00, 600.70it/s]\n"
     ]
    },
    {
     "name": "stdout",
     "output_type": "stream",
     "text": [
      "Initializing class weights:\n",
      "    0.53, 0.068, 0.011, 0.018\n",
      "Behavior indices:\n",
      "    0: other\n",
      "    1: Grooming\n",
      "    2: Supported\n",
      "    3: Unsupported\n",
      "[epoch 1]: loss 0.0168, f1 0.338\n",
      "validation: loss 0.0175, f1 0.499\n",
      "[epoch 2]: loss 0.0129, f1 0.544\n",
      "validation: loss 0.0144, f1 0.537\n"
     ]
    },
    {
     "name": "stderr",
     "output_type": "stream",
     "text": [
      "\u001b[32m[I 2022-11-24 09:24:26,077]\u001b[0m Trial 3 pruned. \u001b[0m\n"
     ]
    },
    {
     "name": "stdout",
     "output_type": "stream",
     "text": [
      "Initializing class weights:\n",
      "    0.53, 0.068, 0.011, 0.018\n",
      "Behavior indices:\n",
      "    0: other\n",
      "    1: Grooming\n",
      "    2: Supported\n",
      "    3: Unsupported\n"
     ]
    },
    {
     "name": "stderr",
     "output_type": "stream",
     "text": [
      "\u001b[32m[I 2022-11-24 09:24:28,427]\u001b[0m Trial 4 pruned. \u001b[0m\n"
     ]
    },
    {
     "name": "stdout",
     "output_type": "stream",
     "text": [
      "Initializing class weights:\n",
      "    0.53, 0.068, 0.011, 0.018\n",
      "Behavior indices:\n",
      "    0: other\n",
      "    1: Grooming\n",
      "    2: Supported\n",
      "    3: Unsupported\n"
     ]
    },
    {
     "name": "stderr",
     "output_type": "stream",
     "text": [
      "\u001b[32m[I 2022-11-24 09:24:30,473]\u001b[0m Trial 5 pruned. \u001b[0m\n"
     ]
    },
    {
     "name": "stdout",
     "output_type": "stream",
     "text": [
      "Number of samples:\n",
      "    validation:\n",
      "      {-100: 45612, 2: 9289, 0: 166, 3: 4768, 1: 1605}\n",
      "    training:\n",
      "      {-100: 170203, 0: 881, 3: 25277, 2: 42486, 1: 6913}\n",
      "    test:\n",
      "      {1: 0, 2: 0, 3: 0, 0: 0}\n",
      "Computing normalization statistics...\n"
     ]
    },
    {
     "name": "stderr",
     "output_type": "stream",
     "text": [
      "100%|██████████| 240/240 [00:00<00:00, 522.38it/s]\n",
      "100%|██████████| 240/240 [00:00<00:00, 477.74it/s]\n"
     ]
    },
    {
     "name": "stdout",
     "output_type": "stream",
     "text": [
      "Initializing class weights:\n",
      "    0.272, 0.035, 0.006, 0.009\n",
      "Behavior indices:\n",
      "    0: other\n",
      "    1: Grooming\n",
      "    2: Supported\n",
      "    3: Unsupported\n"
     ]
    },
    {
     "name": "stderr",
     "output_type": "stream",
     "text": [
      "\u001b[32m[I 2022-11-24 09:24:33,047]\u001b[0m Trial 6 pruned. \u001b[0m\n"
     ]
    },
    {
     "name": "stdout",
     "output_type": "stream",
     "text": [
      "Number of samples:\n",
      "    validation:\n",
      "      {-100: 43564, 2: 9289, 0: 166, 3: 4768, 1: 1605}\n",
      "    training:\n",
      "      {-100: 163547, 0: 881, 3: 25277, 2: 42486, 1: 6913}\n",
      "    test:\n",
      "      {1: 0, 2: 0, 3: 0, 0: 0}\n",
      "Computing normalization statistics...\n"
     ]
    },
    {
     "name": "stderr",
     "output_type": "stream",
     "text": [
      "100%|██████████| 467/467 [00:00<00:00, 619.99it/s]\n",
      "100%|██████████| 467/467 [00:00<00:00, 630.86it/s]\n"
     ]
    },
    {
     "name": "stdout",
     "output_type": "stream",
     "text": [
      "Initializing class weights:\n",
      "    0.53, 0.068, 0.011, 0.018\n",
      "Behavior indices:\n",
      "    0: other\n",
      "    1: Grooming\n",
      "    2: Supported\n",
      "    3: Unsupported\n",
      "[epoch 1]: loss 0.0160, f1 0.344\n",
      "validation: loss 0.0164, f1 0.171\n",
      "[epoch 2]: loss 0.0121, f1 0.518\n",
      "validation: loss 0.0134, f1 0.584\n"
     ]
    },
    {
     "name": "stderr",
     "output_type": "stream",
     "text": [
      "\u001b[32m[I 2022-11-24 09:24:40,769]\u001b[0m Trial 7 finished with value: 0.46972566346327466 and parameters: {'losses/ms_tcn/alpha': 5.58263606003158e-05, 'losses/ms_tcn/focal': True, 'training/temporal_subsampling_size': 0.9574566378704996, 'model/num_f_maps': 57, 'general/len_segment': 512}. Best is trial 1 with value: 0.552939385175705.\u001b[0m\n"
     ]
    },
    {
     "name": "stdout",
     "output_type": "stream",
     "text": [
      "[epoch 3]: loss 0.0105, f1 0.603\n",
      "validation: loss 0.0100, f1 0.655\n",
      "Initializing class weights:\n",
      "    0.53, 0.068, 0.011, 0.018\n",
      "Behavior indices:\n",
      "    0: other\n",
      "    1: Grooming\n",
      "    2: Supported\n",
      "    3: Unsupported\n",
      "[epoch 1]: loss 1.0908, f1 0.379\n",
      "validation: loss 1.1094, f1 0.359\n",
      "[epoch 2]: loss 0.8620, f1 0.610\n",
      "validation: loss 0.9522, f1 0.438\n"
     ]
    },
    {
     "name": "stderr",
     "output_type": "stream",
     "text": [
      "\u001b[32m[I 2022-11-24 09:24:46,840]\u001b[0m Trial 8 pruned. \u001b[0m\n"
     ]
    },
    {
     "name": "stdout",
     "output_type": "stream",
     "text": [
      "Number of samples:\n",
      "    validation:\n",
      "      {-100: 45612, 2: 9289, 0: 166, 3: 4768, 1: 1605}\n",
      "    training:\n",
      "      {-100: 170203, 0: 881, 3: 25277, 2: 42486, 1: 6913}\n",
      "    test:\n",
      "      {1: 0, 2: 0, 3: 0, 0: 0}\n",
      "Computing normalization statistics...\n"
     ]
    },
    {
     "name": "stderr",
     "output_type": "stream",
     "text": [
      "100%|██████████| 240/240 [00:00<00:00, 536.56it/s]\n",
      "100%|██████████| 240/240 [00:00<00:00, 527.51it/s]\n"
     ]
    },
    {
     "name": "stdout",
     "output_type": "stream",
     "text": [
      "Initializing class weights:\n",
      "    0.272, 0.035, 0.006, 0.009\n",
      "Behavior indices:\n",
      "    0: other\n",
      "    1: Grooming\n",
      "    2: Supported\n",
      "    3: Unsupported\n"
     ]
    },
    {
     "name": "stderr",
     "output_type": "stream",
     "text": [
      "\u001b[32m[I 2022-11-24 09:24:49,347]\u001b[0m Trial 9 pruned. \u001b[0m\n",
      "\u001b[33m[W 2022-11-24 09:24:51,029]\u001b[0m Param losses/ms_tcn/focal unique value length is less than 2.\u001b[0m\n",
      "\u001b[33m[W 2022-11-24 09:24:51,031]\u001b[0m Param losses/ms_tcn/focal unique value length is less than 2.\u001b[0m\n",
      "\u001b[33m[W 2022-11-24 09:24:51,031]\u001b[0m Param losses/ms_tcn/focal unique value length is less than 2.\u001b[0m\n",
      "\u001b[33m[W 2022-11-24 09:24:51,032]\u001b[0m Param losses/ms_tcn/focal unique value length is less than 2.\u001b[0m\n",
      "\u001b[33m[W 2022-11-24 09:24:51,033]\u001b[0m Param losses/ms_tcn/focal unique value length is less than 2.\u001b[0m\n",
      "\u001b[33m[W 2022-11-24 09:24:51,034]\u001b[0m Param losses/ms_tcn/focal unique value length is less than 2.\u001b[0m\n",
      "\u001b[33m[W 2022-11-24 09:24:51,035]\u001b[0m Param losses/ms_tcn/focal unique value length is less than 2.\u001b[0m\n",
      "\u001b[33m[W 2022-11-24 09:24:51,035]\u001b[0m Param losses/ms_tcn/focal unique value length is less than 2.\u001b[0m\n"
     ]
    },
    {
     "name": "stdout",
     "output_type": "stream",
     "text": [
      "best parameters: {'losses/ms_tcn/alpha': 0.0007464967274536318, 'losses/ms_tcn/focal': True, 'training/temporal_subsampling_size': 0.9541599916891434, 'model/num_f_maps': 34, 'general/len_segment': 512}\n",
      "\n",
      "\n",
      "SEARCH transformer_search\n"
     ]
    },
    {
     "name": "stderr",
     "output_type": "stream",
     "text": [
      "\u001b[32m[I 2022-11-24 09:24:54,102]\u001b[0m A new study created in memory with name: no-name-02526333-755f-46ac-97a9-2ae2de08f854\u001b[0m\n"
     ]
    },
    {
     "name": "stdout",
     "output_type": "stream",
     "text": [
      "Computing input features...\n"
     ]
    },
    {
     "name": "stderr",
     "output_type": "stream",
     "text": [
      "100%|██████████| 20/20 [00:08<00:00,  2.47it/s]\n"
     ]
    },
    {
     "name": "stdout",
     "output_type": "stream",
     "text": [
      "Computing annotation arrays...\n"
     ]
    },
    {
     "name": "stderr",
     "output_type": "stream",
     "text": [
      "100%|██████████| 20/20 [00:00<00:00, 490.56it/s]\n"
     ]
    },
    {
     "name": "stdout",
     "output_type": "stream",
     "text": [
      "Filtering 27.18% of samples\n",
      "Number of samples:\n",
      "    validation:\n",
      "      {-100: 26668, 2: 9289, 0: 166, 3: 4768, 1: 1605}\n",
      "    training:\n",
      "      {-100: 105179, 0: 881, 3: 25277, 2: 42486, 1: 6913}\n",
      "    test:\n",
      "      {1: 0, 2: 0, 3: 0, 0: 0}\n",
      "Computing normalization statistics...\n"
     ]
    },
    {
     "name": "stderr",
     "output_type": "stream",
     "text": [
      "100%|██████████| 1412/1412 [00:01<00:00, 882.29it/s]\n",
      "100%|██████████| 1412/1412 [00:01<00:00, 947.02it/s]\n"
     ]
    },
    {
     "name": "stdout",
     "output_type": "stream",
     "text": [
      "Initializing class weights:\n",
      "    1.603, 0.204, 0.033, 0.056\n",
      "Behavior indices:\n",
      "    0: other\n",
      "    1: Grooming\n",
      "    2: Supported\n",
      "    3: Unsupported\n",
      "[epoch 1]: loss 0.0020, f1 0.455\n",
      "validation: loss 0.0009, f1 0.388\n",
      "[epoch 2]: loss 0.0013, f1 0.426\n",
      "validation: loss 0.0013, f1 0.409\n"
     ]
    },
    {
     "name": "stderr",
     "output_type": "stream",
     "text": [
      "\u001b[32m[I 2022-11-24 09:25:16,950]\u001b[0m Trial 0 finished with value: 0.4149907131989797 and parameters: {'losses/ms_tcn/alpha': 5.215361992359534e-05, 'losses/ms_tcn/focal': True, 'training/temporal_subsampling_size': 0.881360573093753, 'model/N': 9, 'model/heads': 4, 'model/num_pool': 1, 'model/add_batchnorm': True, 'general/len_segment': 128}. Best is trial 0 with value: 0.4149907131989797.\u001b[0m\n"
     ]
    },
    {
     "name": "stdout",
     "output_type": "stream",
     "text": [
      "[epoch 3]: loss 0.0008, f1 0.398\n",
      "validation: loss 0.0012, f1 0.448\n",
      "Computing input features...\n"
     ]
    },
    {
     "name": "stderr",
     "output_type": "stream",
     "text": [
      "100%|██████████| 20/20 [00:08<00:00,  2.36it/s]\n"
     ]
    },
    {
     "name": "stdout",
     "output_type": "stream",
     "text": [
      "Computing annotation arrays...\n"
     ]
    },
    {
     "name": "stderr",
     "output_type": "stream",
     "text": [
      "100%|██████████| 20/20 [00:00<00:00, 334.68it/s]\n"
     ]
    },
    {
     "name": "stdout",
     "output_type": "stream",
     "text": [
      "Filtering 42.53% of samples\n",
      "Number of samples:\n",
      "    validation:\n",
      "      {-100: 16556, 2: 9289, 0: 166, 3: 4768, 1: 1605}\n",
      "    training:\n",
      "      {-100: 67675, 0: 881, 3: 25277, 2: 42486, 1: 6913}\n",
      "    test:\n",
      "      {1: 0, 2: 0, 3: 0, 0: 0}\n",
      "Computing normalization statistics...\n"
     ]
    },
    {
     "name": "stderr",
     "output_type": "stream",
     "text": [
      "100%|██████████| 2238/2238 [00:02<00:00, 922.53it/s]\n",
      "100%|██████████| 2238/2238 [00:02<00:00, 996.26it/s]\n"
     ]
    },
    {
     "name": "stdout",
     "output_type": "stream",
     "text": [
      "Initializing class weights:\n",
      "    2.54, 0.324, 0.053, 0.089\n",
      "Behavior indices:\n",
      "    0: other\n",
      "    1: Grooming\n",
      "    2: Supported\n",
      "    3: Unsupported\n",
      "[epoch 1]: loss 0.0011, f1 0.246\n",
      "validation: loss 0.0011, f1 0.194\n",
      "[epoch 2]: loss 0.0010, f1 0.251\n",
      "validation: loss 0.0009, f1 0.417\n",
      "[epoch 3]: loss 0.0008, f1 0.372\n",
      "validation: loss 0.0009, f1 0.422\n"
     ]
    },
    {
     "name": "stderr",
     "output_type": "stream",
     "text": [
      "\u001b[32m[I 2022-11-24 09:25:47,308]\u001b[0m Trial 1 finished with value: 0.34459022184213 and parameters: {'losses/ms_tcn/alpha': 1.0798037911397853e-05, 'losses/ms_tcn/focal': True, 'training/temporal_subsampling_size': 0.9351556627361312, 'model/N': 12, 'model/heads': 1, 'model/num_pool': 4, 'model/add_batchnorm': False, 'general/len_segment': 64}. Best is trial 0 with value: 0.4149907131989797.\u001b[0m\n"
     ]
    },
    {
     "name": "stdout",
     "output_type": "stream",
     "text": [
      "Number of samples:\n",
      "    validation:\n",
      "      {-100: 26668, 2: 9289, 0: 166, 3: 4768, 1: 1605}\n",
      "    training:\n",
      "      {-100: 105179, 0: 881, 3: 25277, 2: 42486, 1: 6913}\n",
      "    test:\n",
      "      {1: 0, 2: 0, 3: 0, 0: 0}\n",
      "Computing normalization statistics...\n"
     ]
    },
    {
     "name": "stderr",
     "output_type": "stream",
     "text": [
      "100%|██████████| 1412/1412 [00:01<00:00, 776.64it/s]\n",
      "100%|██████████| 1412/1412 [00:01<00:00, 948.72it/s]\n"
     ]
    },
    {
     "name": "stdout",
     "output_type": "stream",
     "text": [
      "Initializing class weights:\n",
      "    1.603, 0.204, 0.033, 0.056\n",
      "Behavior indices:\n",
      "    0: other\n",
      "    1: Grooming\n",
      "    2: Supported\n",
      "    3: Unsupported\n",
      "[epoch 1]: loss 0.0012, f1 0.405\n",
      "validation: loss 0.0022, f1 0.625\n",
      "[epoch 2]: loss 0.0006, f1 0.554\n",
      "validation: loss 0.0006, f1 0.642\n"
     ]
    },
    {
     "name": "stderr",
     "output_type": "stream",
     "text": [
      "\u001b[32m[I 2022-11-24 09:26:00,880]\u001b[0m Trial 2 finished with value: 0.6384904980659485 and parameters: {'losses/ms_tcn/alpha': 0.0020648953506156916, 'losses/ms_tcn/focal': True, 'training/temporal_subsampling_size': 0.9981787398682551, 'model/N': 5, 'model/heads': 8, 'model/num_pool': 1, 'model/add_batchnorm': False, 'general/len_segment': 128}. Best is trial 2 with value: 0.6384904980659485.\u001b[0m\n"
     ]
    },
    {
     "name": "stdout",
     "output_type": "stream",
     "text": [
      "[epoch 3]: loss 0.0005, f1 0.598\n",
      "validation: loss 0.0006, f1 0.648\n",
      "Number of samples:\n",
      "    validation:\n",
      "      {-100: 16556, 2: 9289, 0: 166, 3: 4768, 1: 1605}\n",
      "    training:\n",
      "      {-100: 67675, 0: 881, 3: 25277, 2: 42486, 1: 6913}\n",
      "    test:\n",
      "      {1: 0, 2: 0, 3: 0, 0: 0}\n",
      "Computing normalization statistics...\n"
     ]
    },
    {
     "name": "stderr",
     "output_type": "stream",
     "text": [
      "100%|██████████| 2238/2238 [00:02<00:00, 845.92it/s]\n",
      "100%|██████████| 2238/2238 [00:02<00:00, 997.75it/s] \n"
     ]
    },
    {
     "name": "stdout",
     "output_type": "stream",
     "text": [
      "Initializing class weights:\n",
      "    2.54, 0.324, 0.053, 0.089\n",
      "Behavior indices:\n",
      "    0: other\n",
      "    1: Grooming\n",
      "    2: Supported\n",
      "    3: Unsupported\n",
      "[epoch 1]: loss 0.0142, f1 0.479\n",
      "validation: loss 0.0100, f1 0.742\n",
      "[epoch 2]: loss 0.0098, f1 0.629\n",
      "validation: loss 0.0101, f1 0.690\n"
     ]
    },
    {
     "name": "stderr",
     "output_type": "stream",
     "text": [
      "\u001b[32m[I 2022-11-24 09:26:20,537]\u001b[0m Trial 3 finished with value: 0.7395498951276144 and parameters: {'losses/ms_tcn/alpha': 0.0010662443105835437, 'losses/ms_tcn/focal': False, 'training/temporal_subsampling_size': 0.9271396506401881, 'model/N': 8, 'model/heads': 4, 'model/num_pool': 2, 'model/add_batchnorm': True, 'general/len_segment': 64}. Best is trial 3 with value: 0.7395498951276144.\u001b[0m\n"
     ]
    },
    {
     "name": "stdout",
     "output_type": "stream",
     "text": [
      "[epoch 3]: loss 0.0083, f1 0.695\n",
      "validation: loss 0.0090, f1 0.786\n",
      "Number of samples:\n",
      "    validation:\n",
      "      {-100: 26668, 2: 9289, 0: 166, 3: 4768, 1: 1605}\n",
      "    training:\n",
      "      {-100: 105179, 0: 881, 3: 25277, 2: 42486, 1: 6913}\n",
      "    test:\n",
      "      {1: 0, 2: 0, 3: 0, 0: 0}\n",
      "Computing normalization statistics...\n"
     ]
    },
    {
     "name": "stderr",
     "output_type": "stream",
     "text": [
      "100%|██████████| 1412/1412 [00:01<00:00, 758.19it/s]\n",
      "100%|██████████| 1412/1412 [00:01<00:00, 887.78it/s]\n"
     ]
    },
    {
     "name": "stdout",
     "output_type": "stream",
     "text": [
      "Initializing class weights:\n",
      "    1.603, 0.204, 0.033, 0.056\n",
      "Behavior indices:\n",
      "    0: other\n",
      "    1: Grooming\n",
      "    2: Supported\n",
      "    3: Unsupported\n",
      "[epoch 1]: loss 0.0204, f1 0.436\n",
      "validation: loss 0.0159, f1 0.500\n",
      "[epoch 2]: loss 0.0225, f1 0.567\n",
      "validation: loss 0.0153, f1 0.688\n"
     ]
    },
    {
     "name": "stderr",
     "output_type": "stream",
     "text": [
      "\u001b[32m[I 2022-11-24 09:26:35,277]\u001b[0m Trial 4 finished with value: 0.5780942936738332 and parameters: {'losses/ms_tcn/alpha': 0.00966421743737705, 'losses/ms_tcn/focal': False, 'training/temporal_subsampling_size': 0.954978497585141, 'model/N': 9, 'model/heads': 2, 'model/num_pool': 1, 'model/add_batchnorm': True, 'general/len_segment': 128}. Best is trial 3 with value: 0.7395498951276144.\u001b[0m\n"
     ]
    },
    {
     "name": "stdout",
     "output_type": "stream",
     "text": [
      "[epoch 3]: loss 0.0306, f1 0.561\n",
      "validation: loss 0.0150, f1 0.547\n",
      "Initializing class weights:\n",
      "    1.603, 0.204, 0.033, 0.056\n",
      "Behavior indices:\n",
      "    0: other\n",
      "    1: Grooming\n",
      "    2: Supported\n",
      "    3: Unsupported\n",
      "[epoch 1]: loss 0.0007, f1 0.443\n",
      "validation: loss 0.0007, f1 0.669\n",
      "[epoch 2]: loss 0.0006, f1 0.635\n",
      "validation: loss 0.0005, f1 0.711\n"
     ]
    },
    {
     "name": "stderr",
     "output_type": "stream",
     "text": [
      "\u001b[32m[I 2022-11-24 09:26:46,861]\u001b[0m Trial 5 pruned. \u001b[0m\n"
     ]
    },
    {
     "name": "stdout",
     "output_type": "stream",
     "text": [
      "Initializing class weights:\n",
      "    1.603, 0.204, 0.033, 0.056\n",
      "Behavior indices:\n",
      "    0: other\n",
      "    1: Grooming\n",
      "    2: Supported\n",
      "    3: Unsupported\n",
      "[epoch 1]: loss 0.0221, f1 0.431\n",
      "validation: loss 0.0146, f1 0.597\n",
      "[epoch 2]: loss 0.0171, f1 0.506\n",
      "validation: loss 0.0179, f1 0.645\n"
     ]
    },
    {
     "name": "stderr",
     "output_type": "stream",
     "text": [
      "\u001b[32m[I 2022-11-24 09:26:58,364]\u001b[0m Trial 6 finished with value: 0.6152208844820658 and parameters: {'losses/ms_tcn/alpha': 5.192942355098905e-05, 'losses/ms_tcn/focal': False, 'training/temporal_subsampling_size': 0.9151174665799751, 'model/N': 9, 'model/heads': 8, 'model/num_pool': 2, 'model/add_batchnorm': True, 'general/len_segment': 128}. Best is trial 3 with value: 0.7395498951276144.\u001b[0m\n"
     ]
    },
    {
     "name": "stdout",
     "output_type": "stream",
     "text": [
      "[epoch 3]: loss 0.0201, f1 0.497\n",
      "validation: loss 0.0142, f1 0.603\n",
      "Number of samples:\n",
      "    validation:\n",
      "      {-100: 16556, 2: 9289, 0: 166, 3: 4768, 1: 1605}\n",
      "    training:\n",
      "      {-100: 67675, 0: 881, 3: 25277, 2: 42486, 1: 6913}\n",
      "    test:\n",
      "      {1: 0, 2: 0, 3: 0, 0: 0}\n",
      "Computing normalization statistics...\n"
     ]
    },
    {
     "name": "stderr",
     "output_type": "stream",
     "text": [
      "100%|██████████| 2238/2238 [00:02<00:00, 853.24it/s]\n",
      "100%|██████████| 2238/2238 [00:02<00:00, 945.33it/s]\n"
     ]
    },
    {
     "name": "stdout",
     "output_type": "stream",
     "text": [
      "Initializing class weights:\n",
      "    2.54, 0.324, 0.053, 0.089\n",
      "Behavior indices:\n",
      "    0: other\n",
      "    1: Grooming\n",
      "    2: Supported\n",
      "    3: Unsupported\n",
      "[epoch 1]: loss 0.0008, f1 0.490\n",
      "validation: loss 0.0005, f1 0.702\n",
      "[epoch 2]: loss 0.0005, f1 0.603\n",
      "validation: loss 0.0005, f1 0.696\n"
     ]
    },
    {
     "name": "stderr",
     "output_type": "stream",
     "text": [
      "\u001b[32m[I 2022-11-24 09:27:18,930]\u001b[0m Trial 7 finished with value: 0.7142450213432312 and parameters: {'losses/ms_tcn/alpha': 3.5021638730081896e-05, 'losses/ms_tcn/focal': True, 'training/temporal_subsampling_size': 0.8364818656563426, 'model/N': 10, 'model/heads': 1, 'model/num_pool': 1, 'model/add_batchnorm': False, 'general/len_segment': 64}. Best is trial 3 with value: 0.7395498951276144.\u001b[0m\n"
     ]
    },
    {
     "name": "stdout",
     "output_type": "stream",
     "text": [
      "[epoch 3]: loss 0.0005, f1 0.645\n",
      "validation: loss 0.0006, f1 0.744\n",
      "Number of samples:\n",
      "    validation:\n",
      "      {-100: 26668, 2: 9289, 0: 166, 3: 4768, 1: 1605}\n",
      "    training:\n",
      "      {-100: 105179, 0: 881, 3: 25277, 2: 42486, 1: 6913}\n",
      "    test:\n",
      "      {1: 0, 2: 0, 3: 0, 0: 0}\n",
      "Computing normalization statistics...\n"
     ]
    },
    {
     "name": "stderr",
     "output_type": "stream",
     "text": [
      "100%|██████████| 1412/1412 [00:01<00:00, 760.63it/s]\n",
      "100%|██████████| 1412/1412 [00:01<00:00, 919.98it/s]\n"
     ]
    },
    {
     "name": "stdout",
     "output_type": "stream",
     "text": [
      "Initializing class weights:\n",
      "    1.603, 0.204, 0.033, 0.056\n",
      "Behavior indices:\n",
      "    0: other\n",
      "    1: Grooming\n",
      "    2: Supported\n",
      "    3: Unsupported\n"
     ]
    },
    {
     "name": "stderr",
     "output_type": "stream",
     "text": [
      "\u001b[32m[I 2022-11-24 09:27:26,718]\u001b[0m Trial 8 pruned. \u001b[0m\n"
     ]
    },
    {
     "name": "stdout",
     "output_type": "stream",
     "text": [
      "Initializing class weights:\n",
      "    1.603, 0.204, 0.033, 0.056\n",
      "Behavior indices:\n",
      "    0: other\n",
      "    1: Grooming\n",
      "    2: Supported\n",
      "    3: Unsupported\n"
     ]
    },
    {
     "name": "stderr",
     "output_type": "stream",
     "text": [
      "\u001b[32m[I 2022-11-24 09:27:31,423]\u001b[0m Trial 9 pruned. \u001b[0m\n"
     ]
    },
    {
     "name": "stdout",
     "output_type": "stream",
     "text": [
      "best parameters: {'losses/ms_tcn/alpha': 0.0010662443105835437, 'losses/ms_tcn/focal': False, 'training/temporal_subsampling_size': 0.9271396506401881, 'model/N': 8, 'model/heads': 4, 'model/num_pool': 2, 'model/add_batchnorm': True, 'general/len_segment': 64}\n",
      "\n",
      "\n"
     ]
    }
   ],
   "source": [
    "for model in [MODEL_NAME1, MODEL_NAME2]:\n",
    "    project.run_default_hyperparameter_search(\n",
    "        f\"{model}_search\",\n",
    "        model_name=model,\n",
    "        metric=METRICS[0],\n",
    "        num_epochs=3,\n",
    "        n_trials=10,\n",
    "        prune=True,\n",
    "    )\n"
   ]
  },
  {
   "cell_type": "markdown",
   "metadata": {},
   "source": [
    "Those searches will optimize the hyperparameters to maximize the first metric in our list. Note how some trials stop before reaching 10 epochs. That is happening because we have set `prune=True` to interrupt experiments when they are unlikely to beat the best score.\n",
    "\n",
    "Generally, it is better to set both the number of trials and the number of epochs much higher (30-50 and around 150, respectively, is usually a good choice). We are setting them low here to save time but keep in mind that it does mean that the parameters those searches find are probably not actually optimal."
   ]
  },
  {
   "cell_type": "markdown",
   "metadata": {},
   "source": [
    "The searches have created a bunch of datasets that we are not going to use again so it's a good idea to clean up the memory at this point."
   ]
  },
  {
   "cell_type": "code",
   "execution_count": 26,
   "metadata": {},
   "outputs": [
    {
     "name": "stdout",
     "output_type": "stream",
     "text": [
      "Removing datasets...\n"
     ]
    },
    {
     "name": "stderr",
     "output_type": "stream",
     "text": [
      "100%|██████████| 4/4 [00:00<00:00, 18.59it/s]"
     ]
    },
    {
     "name": "stdout",
     "output_type": "stream",
     "text": [
      "\n",
      "\n"
     ]
    },
    {
     "name": "stderr",
     "output_type": "stream",
     "text": [
      "\n"
     ]
    }
   ],
   "source": [
    "project.remove_saved_features()"
   ]
  },
  {
   "cell_type": "markdown",
   "metadata": {},
   "source": [
    "`DLC2Action` needs pre-computed features to run an experiment. It keeps track of features that are stored on your machine and does not re-compute them if they have already been created in other experiments with the same data parameters. They can take up a lot of space, however, so it's good practice to remove them sometimes. \n",
    "\n",
    "Do not be afraid to run `project.remove_saved_features()`, you never lose any information when you do. The features will just be computed again if you need them. In addition, if you are running low on space, it might be more convenient to pass `remove_saved_features=True` to project methods to remove the features as soon as they are not needed anymore.\n",
    "\n",
    "Another function that helps clean up the memory is `project.remove_extra_checkpoints()`. DLC2Action saves a model checkpoint every 5 epochs by default (you can change this interval at `\"training/model_save_interval\"`). Running this method will remove all the checkpoints except for the last one in each episode."
   ]
  },
  {
   "cell_type": "markdown",
   "metadata": {},
   "source": [
    "When the searches are done, we can check out the results."
   ]
  },
  {
   "cell_type": "code",
   "execution_count": 27,
   "metadata": {},
   "outputs": [
    {
     "name": "stdout",
     "output_type": "stream",
     "text": [
      "SEARCH RESULTS c2f_tcn_search\n",
      "losses/ms_tcn/alpha: 0.0007464967274536318\n",
      "losses/ms_tcn/focal: True\n",
      "training/temporal_subsampling_size: 0.9541599916891434\n",
      "model/num_f_maps: 34\n",
      "general/len_segment: 512\n",
      "\n",
      "\n",
      "SEARCH RESULTS transformer_search\n",
      "losses/ms_tcn/alpha: 0.0010662443105835437\n",
      "losses/ms_tcn/focal: False\n",
      "training/temporal_subsampling_size: 0.9271396506401881\n",
      "model/N: 8\n",
      "model/heads: 4\n",
      "model/num_pool: 2\n",
      "model/add_batchnorm: True\n",
      "general/len_segment: 64\n",
      "\n",
      "\n"
     ]
    }
   ],
   "source": [
    "for model in [MODEL_NAME1, MODEL_NAME2]:\n",
    "    _ = project.list_best_parameters(f\"{model}_search\")"
   ]
  },
  {
   "cell_type": "markdown",
   "metadata": {},
   "source": [
    "The searches can be used to update the default parameters with `project.update_parameters(load_search=search_name)` but in this case it's more convenient to load them in the relevant episodes."
   ]
  },
  {
   "cell_type": "markdown",
   "metadata": {},
   "source": [
    "## Training models"
   ]
  },
  {
   "cell_type": "markdown",
   "metadata": {},
   "source": [
    "Now we can train models with the best hyperparameters."
   ]
  },
  {
   "cell_type": "code",
   "execution_count": 28,
   "metadata": {},
   "outputs": [
    {
     "name": "stdout",
     "output_type": "stream",
     "text": [
      "TRAINING c2f_tcn_best::0\n",
      "Computing input features...\n"
     ]
    },
    {
     "name": "stderr",
     "output_type": "stream",
     "text": [
      "100%|██████████| 20/20 [00:13<00:00,  1.51it/s]\n"
     ]
    },
    {
     "name": "stdout",
     "output_type": "stream",
     "text": [
      "Computing annotation arrays...\n"
     ]
    },
    {
     "name": "stderr",
     "output_type": "stream",
     "text": [
      "100%|██████████| 20/20 [00:00<00:00, 600.45it/s]\n"
     ]
    },
    {
     "name": "stdout",
     "output_type": "stream",
     "text": [
      "Filtering 4.34% of samples\n",
      "Number of samples:\n",
      "    validation:\n",
      "      {-100: 168275, 2: 36710, 0: 475, 3: 19032, 1: 6420}\n",
      "    training:\n",
      "      {-100: 642109, 0: 2606, 3: 100892, 2: 168967, 1: 27506}\n",
      "    test:\n",
      "      {1: 0, 2: 0, 3: 0, 0: 0}\n",
      "Computing normalization statistics...\n"
     ]
    },
    {
     "name": "stderr",
     "output_type": "stream",
     "text": [
      "100%|██████████| 1840/1840 [00:02<00:00, 690.92it/s]\n",
      "100%|██████████| 1840/1840 [00:02<00:00, 729.36it/s]\n"
     ]
    },
    {
     "name": "stdout",
     "output_type": "stream",
     "text": [
      "Initializing class weights:\n",
      "    0.706, 0.067, 0.011, 0.018\n",
      "Behavior indices:\n",
      "    0: other\n",
      "    1: Grooming\n",
      "    2: Supported\n",
      "    3: Unsupported\n",
      "[epoch 1]: loss 0.0141, f1 0.423, precision 0.410\n",
      "validation: loss 0.0094, f1 0.675, precision 0.631\n",
      "[epoch 2]: loss 0.0075, f1 0.659, precision 0.623\n",
      "validation: loss 0.0073, f1 0.754, precision 0.742\n",
      "[epoch 3]: loss 0.0048, f1 0.737, precision 0.691\n",
      "validation: loss 0.0076, f1 0.791, precision 0.856\n",
      "[epoch 4]: loss 0.0037, f1 0.803, precision 0.763\n",
      "validation: loss 0.0077, f1 0.757, precision 0.740\n",
      "[epoch 5]: loss 0.0031, f1 0.817, precision 0.777\n",
      "validation: loss 0.0063, f1 0.798, precision 0.786\n",
      "[epoch 6]: loss 0.0025, f1 0.802, precision 0.750\n",
      "validation: loss 0.0075, f1 0.783, precision 0.789\n",
      "[epoch 7]: loss 0.0017, f1 0.869, precision 0.825\n",
      "validation: loss 0.0049, f1 0.849, precision 0.850\n",
      "[epoch 8]: loss 0.0019, f1 0.869, precision 0.833\n",
      "validation: loss 0.0037, f1 0.828, precision 0.821\n",
      "[epoch 9]: loss 0.0018, f1 0.856, precision 0.810\n",
      "validation: loss 0.0053, f1 0.790, precision 0.776\n",
      "[epoch 10]: loss 0.0013, f1 0.900, precision 0.865\n",
      "validation: loss 0.0046, f1 0.849, precision 0.838\n",
      "\n",
      "\n",
      "TRAINING c2f_tcn_best::1\n",
      "Number of samples:\n",
      "    validation:\n",
      "      {-100: 168275, 2: 36710, 0: 475, 3: 19032, 1: 6420}\n",
      "    training:\n",
      "      {-100: 642109, 0: 2606, 3: 100892, 2: 168967, 1: 27506}\n",
      "    test:\n",
      "      {1: 0, 2: 0, 3: 0, 0: 0}\n",
      "Computing normalization statistics...\n"
     ]
    },
    {
     "name": "stderr",
     "output_type": "stream",
     "text": [
      "100%|██████████| 1840/1840 [00:03<00:00, 604.49it/s]\n",
      "100%|██████████| 1840/1840 [00:02<00:00, 746.76it/s]\n"
     ]
    },
    {
     "name": "stdout",
     "output_type": "stream",
     "text": [
      "Initializing class weights:\n",
      "    0.706, 0.067, 0.011, 0.018\n",
      "Behavior indices:\n",
      "    0: other\n",
      "    1: Grooming\n",
      "    2: Supported\n",
      "    3: Unsupported\n",
      "[epoch 1]: loss 0.0121, f1 0.463, precision 0.489\n",
      "validation: loss 0.0088, f1 0.651, precision 0.653\n",
      "[epoch 2]: loss 0.0074, f1 0.648, precision 0.622\n",
      "validation: loss 0.0098, f1 0.535, precision 0.556\n",
      "[epoch 3]: loss 0.0052, f1 0.712, precision 0.669\n",
      "validation: loss 0.0062, f1 0.761, precision 0.735\n",
      "[epoch 4]: loss 0.0040, f1 0.781, precision 0.746\n",
      "validation: loss 0.0073, f1 0.729, precision 0.737\n",
      "[epoch 5]: loss 0.0047, f1 0.759, precision 0.728\n",
      "validation: loss 0.0039, f1 0.832, precision 0.815\n",
      "[epoch 6]: loss 0.0035, f1 0.794, precision 0.753\n",
      "validation: loss 0.0038, f1 0.754, precision 0.734\n",
      "[epoch 7]: loss 0.0024, f1 0.825, precision 0.778\n",
      "validation: loss 0.0035, f1 0.861, precision 0.840\n",
      "[epoch 8]: loss 0.0020, f1 0.842, precision 0.799\n",
      "validation: loss 0.0068, f1 0.820, precision 0.816\n",
      "[epoch 9]: loss 0.0018, f1 0.861, precision 0.820\n",
      "validation: loss 0.0051, f1 0.778, precision 0.764\n",
      "[epoch 10]: loss 0.0023, f1 0.832, precision 0.790\n",
      "validation: loss 0.0042, f1 0.808, precision 0.773\n",
      "\n",
      "\n",
      "TRAINING transformer_best::0\n",
      "Computing input features...\n"
     ]
    },
    {
     "name": "stderr",
     "output_type": "stream",
     "text": [
      "100%|██████████| 20/20 [00:10<00:00,  1.93it/s]\n"
     ]
    },
    {
     "name": "stdout",
     "output_type": "stream",
     "text": [
      "Computing annotation arrays...\n"
     ]
    },
    {
     "name": "stderr",
     "output_type": "stream",
     "text": [
      "100%|██████████| 20/20 [00:00<00:00, 416.06it/s]\n"
     ]
    },
    {
     "name": "stdout",
     "output_type": "stream",
     "text": [
      "Filtering 42.57% of samples\n",
      "Number of samples:\n",
      "    validation:\n",
      "      {-100: 64244, 2: 37156, 0: 660, 3: 19072, 1: 6420}\n",
      "    training:\n",
      "      {-100: 270676, 0: 3484, 3: 101108, 2: 169944, 1: 27652}\n",
      "    test:\n",
      "      {1: 0, 2: 0, 3: 0, 0: 0}\n",
      "Computing normalization statistics...\n"
     ]
    },
    {
     "name": "stderr",
     "output_type": "stream",
     "text": [
      "100%|██████████| 8951/8951 [00:10<00:00, 840.73it/s]\n",
      "100%|██████████| 8951/8951 [00:10<00:00, 887.48it/s]\n",
      "/home/liza/DLC2Action_minimal/dlc2action/project/meta.py:666: FutureWarning:\n",
      "\n",
      "Behavior when concatenating bool-dtype and numeric-dtype arrays is deprecated; in a future version these will cast to object dtype (instead of coercing bools to numeric values). To retain the old behavior, explicitly cast bool-dtype arrays to numeric dtype.\n",
      "\n"
     ]
    },
    {
     "name": "stdout",
     "output_type": "stream",
     "text": [
      "Initializing class weights:\n",
      "    2.569, 0.324, 0.053, 0.089\n",
      "Behavior indices:\n",
      "    0: other\n",
      "    1: Grooming\n",
      "    2: Supported\n",
      "    3: Unsupported\n",
      "[epoch 1]: loss 0.0101, f1 0.602, precision 0.567\n",
      "validation: loss 0.0088, f1 0.703, precision 0.689\n",
      "[epoch 2]: loss 0.0061, f1 0.752, precision 0.698\n",
      "validation: loss 0.0096, f1 0.763, precision 0.727\n",
      "[epoch 3]: loss 0.0048, f1 0.803, precision 0.750\n",
      "validation: loss 0.2655, f1 0.731, precision 0.728\n",
      "[epoch 4]: loss 0.0038, f1 0.825, precision 0.774\n",
      "validation: loss 0.2466, f1 0.708, precision 0.703\n",
      "[epoch 5]: loss 0.0034, f1 0.849, precision 0.801\n",
      "validation: loss 0.0174, f1 0.736, precision 0.738\n",
      "[epoch 6]: loss 0.0029, f1 0.877, precision 0.835\n",
      "validation: loss 0.0066, f1 0.801, precision 0.758\n",
      "[epoch 7]: loss 0.0027, f1 0.879, precision 0.834\n",
      "validation: loss 0.0122, f1 0.755, precision 0.758\n",
      "[epoch 8]: loss 0.0019, f1 0.921, precision 0.890\n",
      "validation: loss 0.0148, f1 0.772, precision 0.754\n",
      "[epoch 9]: loss 0.0023, f1 0.893, precision 0.853\n",
      "validation: loss 0.0123, f1 0.798, precision 0.812\n",
      "[epoch 10]: loss 0.0018, f1 0.933, precision 0.909\n",
      "validation: loss 0.0131, f1 0.854, precision 0.852\n",
      "\n",
      "\n",
      "TRAINING transformer_best::1\n",
      "Number of samples:\n",
      "    validation:\n",
      "      {-100: 64244, 2: 37156, 0: 660, 3: 19072, 1: 6420}\n",
      "    training:\n",
      "      {-100: 270676, 0: 3484, 3: 101108, 2: 169944, 1: 27652}\n",
      "    test:\n",
      "      {1: 0, 2: 0, 3: 0, 0: 0}\n",
      "Computing normalization statistics...\n"
     ]
    },
    {
     "name": "stderr",
     "output_type": "stream",
     "text": [
      "100%|██████████| 8951/8951 [00:10<00:00, 880.57it/s]\n",
      "100%|██████████| 8951/8951 [00:09<00:00, 982.47it/s]\n"
     ]
    },
    {
     "name": "stdout",
     "output_type": "stream",
     "text": [
      "Initializing class weights:\n",
      "    2.569, 0.324, 0.053, 0.089\n",
      "Behavior indices:\n",
      "    0: other\n",
      "    1: Grooming\n",
      "    2: Supported\n",
      "    3: Unsupported\n",
      "[epoch 1]: loss 0.0099, f1 0.611, precision 0.573\n",
      "validation: loss 0.0093, f1 0.779, precision 0.748\n",
      "[epoch 2]: loss 0.0060, f1 0.766, precision 0.712\n",
      "validation: loss 0.0088, f1 0.737, precision 0.690\n",
      "[epoch 3]: loss 0.0045, f1 0.813, precision 0.762\n",
      "validation: loss 0.0075, f1 0.816, precision 0.805\n",
      "[epoch 4]: loss 0.0035, f1 0.863, precision 0.821\n",
      "validation: loss 0.0065, f1 0.801, precision 0.765\n",
      "[epoch 5]: loss 0.0039, f1 0.819, precision 0.766\n",
      "validation: loss 0.0089, f1 0.767, precision 0.751\n",
      "[epoch 6]: loss 0.0031, f1 0.860, precision 0.813\n",
      "validation: loss 0.0309, f1 0.659, precision 0.660\n",
      "[epoch 7]: loss 0.0029, f1 0.876, precision 0.833\n",
      "validation: loss 0.0994, f1 0.695, precision 0.701\n",
      "[epoch 8]: loss 0.0023, f1 0.893, precision 0.852\n",
      "validation: loss 0.0738, f1 0.718, precision 0.724\n",
      "[epoch 9]: loss 0.0020, f1 0.913, precision 0.880\n",
      "validation: loss 0.2885, f1 0.758, precision 0.746\n",
      "[epoch 10]: loss 0.0016, f1 0.937, precision 0.913\n",
      "validation: loss 0.0234, f1 0.801, precision 0.776\n",
      "\n",
      "\n"
     ]
    }
   ],
   "source": [
    "for model in [MODEL_NAME1, MODEL_NAME2]:\n",
    "    project.run_episode(\n",
    "        f\"{model}_best\",\n",
    "        load_search=f\"{model}_search\", # loading the search\n",
    "        force=True, # when force=True, if an episode with this name already exists it will be overwritten -> use with caution!\n",
    "        parameters_update={\n",
    "            \"general\": {\"model_name\": model} # note that you do need to set the model explicitly, it is not loaded with the search\n",
    "        },\n",
    "        n_seeds=2 # we will repeat the experiment 2 times (same parameters, different random seed) to get an estimation for how stable our results are\n",
    ")"
   ]
  },
  {
   "cell_type": "markdown",
   "metadata": {},
   "source": [
    "## Evaluation"
   ]
  },
  {
   "cell_type": "markdown",
   "metadata": {},
   "source": [
    "Now that we've trained our best models, we can analyze the results. Note that most statistics are aggregated over the 2 runs (random seeds) automatically. "
   ]
  },
  {
   "cell_type": "code",
   "execution_count": 29,
   "metadata": {},
   "outputs": [],
   "source": [
    "best_episodes = [f\"{model}_best\" for model in [MODEL_NAME1, MODEL_NAME2]]"
   ]
  },
  {
   "cell_type": "code",
   "execution_count": 30,
   "metadata": {},
   "outputs": [
    {
     "data": {
      "image/png": "[encoded data removed]",
      "text/plain": [
       "<Figure size 640x480 with 1 Axes>"
      ]
     },
     "metadata": {},
     "output_type": "display_data"
    }
   ],
   "source": [
    "project.plot_episodes(\n",
    "    best_episodes,\n",
    "    metrics=METRICS, \n",
    "    episode_labels=[\"model_1\", \"model_2\"], \n",
    "    add_hlines=[(0.42, \"a line\")], # we'll add a random horizontal line here but you can use this parameter to mark important thresholds\n",
    "    title=\"Best model training curves\"\n",
    ")"
   ]
  },
  {
   "cell_type": "markdown",
   "metadata": {},
   "source": [
    "The bold lines here are the means over the two runs of each episode and the transparent lines are the individual runs."
   ]
  },
  {
   "cell_type": "markdown",
   "metadata": {},
   "source": [
    "We can also check out more metrics now."
   ]
  },
  {
   "cell_type": "code",
   "execution_count": 31,
   "metadata": {},
   "outputs": [
    {
     "name": "stdout",
     "output_type": "stream",
     "text": [
      "EVALUATION c2f_tcn_best\n",
      "episode c2f_tcn_best::0\n",
      "Number of samples:\n",
      "    validation:\n",
      "      {-100: 168275, 2: 36710, 0: 475, 3: 19032, 1: 6420}\n",
      "    training:\n",
      "      {-100: 642109, 0: 2606, 3: 100892, 2: 168967, 1: 27506}\n",
      "    test:\n",
      "      {1: 0, 2: 0, 3: 0, 0: 0}\n",
      "Setting loaded normalization statistics...\n",
      "Initializing class weights:\n",
      "    0.706, 0.067, 0.011, 0.018\n",
      "Behavior indices:\n",
      "    0: other\n",
      "    1: Grooming\n",
      "    2: Supported\n",
      "    3: Unsupported\n"
     ]
    },
    {
     "name": "stderr",
     "output_type": "stream",
     "text": [
      "100%|██████████| 8/8 [00:01<00:00,  6.93it/s]\n"
     ]
    },
    {
     "name": "stdout",
     "output_type": "stream",
     "text": [
      "f1_0 0.776, f1_1 0.805, f1_2 0.949, f1_3 0.866, mAP 0.117, segmental_f1 0.188\n",
      "\n",
      "\n",
      "AGGREGATED:\n",
      "f1_0 0.776, f1_1 0.805, f1_2 0.949, f1_3 0.866, mAP 0.117, segmental_f1 0.188\n",
      "Inference time: 0:00:01\n",
      "\n",
      "\n",
      "EVALUATION transformer_best\n",
      "episode transformer_best::0\n",
      "Number of samples:\n",
      "    validation:\n",
      "      {-100: 64244, 2: 37156, 0: 660, 3: 19072, 1: 6420}\n",
      "    training:\n",
      "      {-100: 270676, 0: 3484, 3: 101108, 2: 169944, 1: 27652}\n",
      "    test:\n",
      "      {1: 0, 2: 0, 3: 0, 0: 0}\n",
      "Setting loaded normalization statistics...\n",
      "Initializing class weights:\n",
      "    2.569, 0.324, 0.053, 0.089\n",
      "Behavior indices:\n",
      "    0: other\n",
      "    1: Grooming\n",
      "    2: Supported\n",
      "    3: Unsupported\n"
     ]
    },
    {
     "name": "stderr",
     "output_type": "stream",
     "text": [
      "100%|██████████| 32/32 [00:02<00:00, 10.89it/s]\n"
     ]
    },
    {
     "name": "stdout",
     "output_type": "stream",
     "text": [
      "f1_0 0.771, f1_1 0.848, f1_2 0.941, f1_3 0.855, mAP 0.327, segmental_f1 0.306\n",
      "\n",
      "\n",
      "AGGREGATED:\n",
      "f1_0 0.771, f1_1 0.848, f1_2 0.941, f1_3 0.855, mAP 0.327, segmental_f1 0.306\n",
      "Inference time: 0:00:02\n",
      "\n",
      "\n"
     ]
    }
   ],
   "source": [
    "for episode in best_episodes:\n",
    "    project.evaluate(\n",
    "        [episode],\n",
    "        parameters_update={\n",
    "            \"general\": {\"metric_functions\": [\"segmental_f1\", \"mAP\", \"f1\"]},\n",
    "            \"metrics\": {\n",
    "                \"f1\": {\"average\": \"none\"} # you can also update parameters for metrics (check project.list_basic_parameters() for options)\n",
    "            }\n",
    "        }\n",
    "    )"
   ]
  },
  {
   "cell_type": "markdown",
   "metadata": {},
   "source": [
    "There are several ways to summarize the results."
   ]
  },
  {
   "cell_type": "code",
   "execution_count": 32,
   "metadata": {},
   "outputs": [
    {
     "name": "stdout",
     "output_type": "stream",
     "text": [
      "RESULTS:\n",
      "         c2f_tcn_best precision  c2f_tcn_best f1  transformer_best precision  \\\n",
      "average                0.805574         0.828555                    0.814109   \n",
      "\n",
      "         transformer_best f1  \n",
      "average             0.827372  \n",
      "\n",
      "\n"
     ]
    },
    {
     "data": {
      "text/html": [
       "<div>\n",
       "<style scoped>\n",
       "    .dataframe tbody tr th:only-of-type {\n",
       "        vertical-align: middle;\n",
       "    }\n",
       "\n",
       "    .dataframe tbody tr th {\n",
       "        vertical-align: top;\n",
       "    }\n",
       "\n",
       "    .dataframe thead th {\n",
       "        text-align: right;\n",
       "    }\n",
       "</style>\n",
       "<table border=\"1\" class=\"dataframe\">\n",
       "  <thead>\n",
       "    <tr style=\"text-align: right;\">\n",
       "      <th></th>\n",
       "      <th>c2f_tcn_best precision</th>\n",
       "      <th>c2f_tcn_best f1</th>\n",
       "      <th>transformer_best precision</th>\n",
       "      <th>transformer_best f1</th>\n",
       "    </tr>\n",
       "  </thead>\n",
       "  <tbody>\n",
       "    <tr>\n",
       "      <th>average</th>\n",
       "      <td>0.805574</td>\n",
       "      <td>0.828555</td>\n",
       "      <td>0.814109</td>\n",
       "      <td>0.827372</td>\n",
       "    </tr>\n",
       "  </tbody>\n",
       "</table>\n",
       "</div>"
      ],
      "text/plain": [
       "         c2f_tcn_best precision  c2f_tcn_best f1  transformer_best precision  \\\n",
       "average                0.805574         0.828555                    0.814109   \n",
       "\n",
       "         transformer_best f1  \n",
       "average             0.827372  "
      ]
     },
     "execution_count": 32,
     "metadata": {},
     "output_type": "execute_result"
    }
   ],
   "source": [
    "project.get_results_table(best_episodes)"
   ]
  },
  {
   "cell_type": "markdown",
   "metadata": {},
   "source": [
    "The `get_summary` method will only show the metrics computed during training while `get_results_table` also pulls up the results of evaluation."
   ]
  },
  {
   "cell_type": "code",
   "execution_count": 33,
   "metadata": {},
   "outputs": [
    {
     "name": "stdout",
     "output_type": "stream",
     "text": [
      "SUMMARY ['c2f_tcn_best']\n",
      "loss: mean 0.004, std 0.000\n",
      "f1: mean 0.829, std 0.020\n",
      "precision: mean 0.805, std 0.032\n",
      "\n",
      "\n",
      "SUMMARY ['transformer_best']\n",
      "loss: mean 0.018, std 0.005\n",
      "f1: mean 0.828, std 0.026\n",
      "precision: mean 0.814, std 0.038\n",
      "\n",
      "\n"
     ]
    }
   ],
   "source": [
    "for episode in best_episodes:\n",
    "    _ = project.get_summary([episode])"
   ]
  },
  {
   "cell_type": "markdown",
   "metadata": {},
   "source": [
    "## Using trained models"
   ]
  },
  {
   "cell_type": "markdown",
   "metadata": {},
   "source": [
    "After your models are trained, there's a few ways you can use them.\n",
    "\n",
    "If you're still not quite happy with the results, you can train the model for a few more epochs with `project.continue_episode()`."
   ]
  },
  {
   "cell_type": "code",
   "execution_count": 34,
   "metadata": {},
   "outputs": [
    {
     "name": "stdout",
     "output_type": "stream",
     "text": [
      "TRAINING c2f_tcn_best::0\n",
      "Computing input features...\n"
     ]
    },
    {
     "name": "stderr",
     "output_type": "stream",
     "text": [
      "  0%|          | 0/20 [07:09<?, ?it/s]\n"
     ]
    },
    {
     "ename": "KeyboardInterrupt",
     "evalue": "",
     "output_type": "error",
     "traceback": [
      "\u001b[0;31m---------------------------------------------------------------------------\u001b[0m",
      "\u001b[0;31mIndexError\u001b[0m                                Traceback (most recent call last)",
      "File \u001b[0;32m~/miniconda3/envs/DLC2Action/lib/python3.9/site-packages/multiprocess/pool.py:853\u001b[0m, in \u001b[0;36mIMapIterator.next\u001b[0;34m(self, timeout)\u001b[0m\n\u001b[1;32m    852\u001b[0m \u001b[39mtry\u001b[39;00m:\n\u001b[0;32m--> 853\u001b[0m     item \u001b[39m=\u001b[39m \u001b[39mself\u001b[39;49m\u001b[39m.\u001b[39;49m_items\u001b[39m.\u001b[39;49mpopleft()\n\u001b[1;32m    854\u001b[0m \u001b[39mexcept\u001b[39;00m \u001b[39mIndexError\u001b[39;00m:\n",
      "\u001b[0;31mIndexError\u001b[0m: pop from an empty deque",
      "\nDuring handling of the above exception, another exception occurred:\n",
      "\u001b[0;31mKeyboardInterrupt\u001b[0m                         Traceback (most recent call last)",
      "Cell \u001b[0;32mIn [34], line 1\u001b[0m\n\u001b[0;32m----> 1\u001b[0m project\u001b[39m.\u001b[39;49mcontinue_episode(\u001b[39mf\u001b[39;49m\u001b[39m\"\u001b[39;49m\u001b[39m{\u001b[39;49;00mMODEL_NAME1\u001b[39m}\u001b[39;49;00m\u001b[39m_best\u001b[39;49m\u001b[39m\"\u001b[39;49m, num_epochs\u001b[39m=\u001b[39;49m\u001b[39m20\u001b[39;49m, n_seeds\u001b[39m=\u001b[39;49m\u001b[39m3\u001b[39;49m)\n",
      "File \u001b[0;32m~/DLC2Action_minimal/dlc2action/project/project.py:956\u001b[0m, in \u001b[0;36mProject.continue_episode\u001b[0;34m(self, episode_name, num_epochs, task, n_seeds, remove_saved_features, device, num_cpus)\u001b[0m\n\u001b[1;32m    948\u001b[0m     \u001b[39mcontinue\u001b[39;00m\n\u001b[1;32m    949\u001b[0m parameters_update \u001b[39m=\u001b[39m {\n\u001b[1;32m    950\u001b[0m     \u001b[39m\"\u001b[39m\u001b[39mtraining\u001b[39m\u001b[39m\"\u001b[39m: {\n\u001b[1;32m    951\u001b[0m         \u001b[39m\"\u001b[39m\u001b[39mnum_epochs\u001b[39m\u001b[39m\"\u001b[39m: num_epochs,\n\u001b[0;32m   (...)\u001b[0m\n\u001b[1;32m    954\u001b[0m     \u001b[39m\"\u001b[39m\u001b[39mgeneral\u001b[39m\u001b[39m\"\u001b[39m: {\u001b[39m\"\u001b[39m\u001b[39mnum_cpus\u001b[39m\u001b[39m\"\u001b[39m: num_cpus},\n\u001b[1;32m    955\u001b[0m }\n\u001b[0;32m--> 956\u001b[0m task, parameters \u001b[39m=\u001b[39m \u001b[39mself\u001b[39;49m\u001b[39m.\u001b[39;49m_make_task_training(\n\u001b[1;32m    957\u001b[0m     run,\n\u001b[1;32m    958\u001b[0m     load_episode\u001b[39m=\u001b[39;49mrun,\n\u001b[1;32m    959\u001b[0m     parameters_update\u001b[39m=\u001b[39;49mparameters_update,\n\u001b[1;32m    960\u001b[0m     continuing\u001b[39m=\u001b[39;49m\u001b[39mTrue\u001b[39;49;00m,\n\u001b[1;32m    961\u001b[0m     task\u001b[39m=\u001b[39;49mtask,\n\u001b[1;32m    962\u001b[0m )\n\u001b[1;32m    963\u001b[0m time_start \u001b[39m=\u001b[39m time\u001b[39m.\u001b[39mtime()\n\u001b[1;32m    964\u001b[0m logs \u001b[39m=\u001b[39m task\u001b[39m.\u001b[39mtrain()\n",
      "File \u001b[0;32m~/DLC2Action_minimal/dlc2action/project/project.py:428\u001b[0m, in \u001b[0;36mProject._make_task_training\u001b[0;34m(self, episode_name, load_episode, parameters_update, load_epoch, load_search, load_parameters, round_to_binary, load_strict, continuing, task, mask_name, throwaway)\u001b[0m\n\u001b[1;32m    424\u001b[0m \u001b[39mif\u001b[39;00m throwaway:\n\u001b[1;32m    425\u001b[0m     parameters_update \u001b[39m=\u001b[39m \u001b[39mself\u001b[39m\u001b[39m.\u001b[39m_update(\n\u001b[1;32m    426\u001b[0m         parameters_update, {\u001b[39m\"\u001b[39m\u001b[39mtraining\u001b[39m\u001b[39m\"\u001b[39m: {\u001b[39m\"\u001b[39m\u001b[39mnormalize\u001b[39m\u001b[39m\"\u001b[39m: \u001b[39mFalse\u001b[39;00m, \u001b[39m\"\u001b[39m\u001b[39mdevice\u001b[39m\u001b[39m\"\u001b[39m: \u001b[39m\"\u001b[39m\u001b[39mcpu\u001b[39m\u001b[39m\"\u001b[39m}}\n\u001b[1;32m    427\u001b[0m     )\n\u001b[0;32m--> 428\u001b[0m \u001b[39mreturn\u001b[39;00m \u001b[39mself\u001b[39;49m\u001b[39m.\u001b[39;49m_make_task(\n\u001b[1;32m    429\u001b[0m     episode_name,\n\u001b[1;32m    430\u001b[0m     load_episode,\n\u001b[1;32m    431\u001b[0m     parameters_update,\n\u001b[1;32m    432\u001b[0m     parameters_update_second,\n\u001b[1;32m    433\u001b[0m     load_epoch,\n\u001b[1;32m    434\u001b[0m     load_search,\n\u001b[1;32m    435\u001b[0m     load_parameters,\n\u001b[1;32m    436\u001b[0m     round_to_binary,\n\u001b[1;32m    437\u001b[0m     purpose,\n\u001b[1;32m    438\u001b[0m     task,\n\u001b[1;32m    439\u001b[0m     load_strict\u001b[39m=\u001b[39;49mload_strict,\n\u001b[1;32m    440\u001b[0m )\n",
      "File \u001b[0;32m~/DLC2Action_minimal/dlc2action/project/project.py:611\u001b[0m, in \u001b[0;36mProject._make_task\u001b[0;34m(self, episode_name, load_episode, parameters_update, parameters_update_second, load_epoch, load_search, load_parameters, round_to_binary, purpose, task, load_strict, behaviors)\u001b[0m\n\u001b[1;32m    607\u001b[0m     parameters \u001b[39m=\u001b[39m \u001b[39mself\u001b[39m\u001b[39m.\u001b[39m_update(\n\u001b[1;32m    608\u001b[0m         parameters, {\u001b[39m\"\u001b[39m\u001b[39mdata\u001b[39m\u001b[39m\"\u001b[39m: {\u001b[39m\"\u001b[39m\u001b[39mbehavior_dictionary\u001b[39m\u001b[39m\"\u001b[39m: behaviors}}\n\u001b[1;32m    609\u001b[0m     )\n\u001b[1;32m    610\u001b[0m \u001b[39mif\u001b[39;00m task \u001b[39mis\u001b[39;00m \u001b[39mNone\u001b[39;00m:\n\u001b[0;32m--> 611\u001b[0m     task \u001b[39m=\u001b[39m TaskDispatcher(parameters)\n\u001b[1;32m    612\u001b[0m \u001b[39melse\u001b[39;00m:\n\u001b[1;32m    613\u001b[0m     task\u001b[39m.\u001b[39mupdate_task(parameters)\n",
      "File \u001b[0;32m~/DLC2Action_minimal/dlc2action/task/task_dispatcher.py:60\u001b[0m, in \u001b[0;36mTaskDispatcher.__init__\u001b[0;34m(self, parameters)\u001b[0m\n\u001b[1;32m     57\u001b[0m \u001b[39mself\u001b[39m\u001b[39m.\u001b[39mblanks \u001b[39m=\u001b[39m {blank: [] \u001b[39mfor\u001b[39;00m blank \u001b[39min\u001b[39;00m options\u001b[39m.\u001b[39mblanks}\n\u001b[1;32m     59\u001b[0m \u001b[39mself\u001b[39m\u001b[39m.\u001b[39mtask \u001b[39m=\u001b[39m \u001b[39mNone\u001b[39;00m\n\u001b[0;32m---> 60\u001b[0m \u001b[39mself\u001b[39;49m\u001b[39m.\u001b[39;49m_initialize_task()\n\u001b[1;32m     61\u001b[0m \u001b[39mself\u001b[39m\u001b[39m.\u001b[39m_print_behaviors()\n",
      "File \u001b[0;32m~/DLC2Action_minimal/dlc2action/task/task_dispatcher.py:628\u001b[0m, in \u001b[0;36mTaskDispatcher._initialize_task\u001b[0;34m(self)\u001b[0m\n\u001b[1;32m    623\u001b[0m \u001b[39mdef\u001b[39;00m \u001b[39m_initialize_task\u001b[39m(\u001b[39mself\u001b[39m):\n\u001b[1;32m    624\u001b[0m     \u001b[39m\"\"\"\u001b[39;00m\n\u001b[1;32m    625\u001b[0m \u001b[39m    Create a `dlc2action.task.universal_task.Task` instance\u001b[39;00m\n\u001b[1;32m    626\u001b[0m \u001b[39m    \"\"\"\u001b[39;00m\n\u001b[0;32m--> 628\u001b[0m     dataset \u001b[39m=\u001b[39m \u001b[39mself\u001b[39;49m\u001b[39m.\u001b[39;49m_construct_dataset()\n\u001b[1;32m    629\u001b[0m     \u001b[39mself\u001b[39m\u001b[39m.\u001b[39m_update_data_blanks(dataset)\n\u001b[1;32m    630\u001b[0m     model \u001b[39m=\u001b[39m \u001b[39mself\u001b[39m\u001b[39m.\u001b[39m_construct_model()\n",
      "File \u001b[0;32m~/DLC2Action_minimal/dlc2action/task/task_dispatcher.py:289\u001b[0m, in \u001b[0;36mTaskDispatcher._construct_dataset\u001b[0;34m(self)\u001b[0m\n\u001b[1;32m    282\u001b[0m pars \u001b[39m=\u001b[39m \u001b[39mself\u001b[39m\u001b[39m.\u001b[39mcomplete_dataset_parameters(\n\u001b[1;32m    283\u001b[0m     \u001b[39mself\u001b[39m\u001b[39m.\u001b[39mdata_parameters,\n\u001b[1;32m    284\u001b[0m     \u001b[39mself\u001b[39m\u001b[39m.\u001b[39mgeneral_parameters,\n\u001b[1;32m    285\u001b[0m     data_type\u001b[39m=\u001b[39mdata_type,\n\u001b[1;32m    286\u001b[0m     annotation_type\u001b[39m=\u001b[39mannotation_type,\n\u001b[1;32m    287\u001b[0m )\n\u001b[1;32m    288\u001b[0m pars[\u001b[39m\"\u001b[39m\u001b[39mfeature_extraction_pars\u001b[39m\u001b[39m\"\u001b[39m] \u001b[39m=\u001b[39m feature_extraction_pars\n\u001b[0;32m--> 289\u001b[0m dataset \u001b[39m=\u001b[39m BehaviorDataset(\u001b[39m*\u001b[39;49m\u001b[39m*\u001b[39;49mpars)\n\u001b[1;32m    291\u001b[0m \u001b[39mif\u001b[39;00m \u001b[39mself\u001b[39m\u001b[39m.\u001b[39mget(\u001b[39mself\u001b[39m\u001b[39m.\u001b[39mgeneral_parameters, \u001b[39m\"\u001b[39m\u001b[39msave_dataset\u001b[39m\u001b[39m\"\u001b[39m, default\u001b[39m=\u001b[39m\u001b[39mFalse\u001b[39;00m):\n\u001b[1;32m    292\u001b[0m     save_data_path \u001b[39m=\u001b[39m \u001b[39mself\u001b[39m\u001b[39m.\u001b[39mdata_parameters\u001b[39m.\u001b[39mget(\u001b[39m\"\u001b[39m\u001b[39msaved_data_path\u001b[39m\u001b[39m\"\u001b[39m, \u001b[39mNone\u001b[39;00m)\n",
      "File \u001b[0;32m~/DLC2Action_minimal/dlc2action/data/dataset.py:142\u001b[0m, in \u001b[0;36mBehaviorDataset.__init__\u001b[0;34m(self, data_type, annotation_type, ssl_transformations, saved_data_path, input_store, annotation_store, only_load_annotated, recompute_annotation, ids, **data_parameters)\u001b[0m\n\u001b[1;32m    140\u001b[0m         warnings\u001b[39m.\u001b[39mwarn(\u001b[39m\"\u001b[39m\u001b[39mLoading input store from key objects failed\u001b[39m\u001b[39m\"\u001b[39m)\n\u001b[1;32m    141\u001b[0m \u001b[39mif\u001b[39;00m \u001b[39mnot\u001b[39;00m ok:\n\u001b[0;32m--> 142\u001b[0m     \u001b[39mself\u001b[39m\u001b[39m.\u001b[39minput_store \u001b[39m=\u001b[39m \u001b[39mself\u001b[39;49m\u001b[39m.\u001b[39;49m_get_input_store(\n\u001b[1;32m    143\u001b[0m         data_type, deepcopy(data_parameters)\n\u001b[1;32m    144\u001b[0m     )\n\u001b[1;32m    145\u001b[0m \u001b[39m# get the objects needed to create the annotation store (like a clip length dictionary)\u001b[39;00m\n\u001b[1;32m    146\u001b[0m annotation_objects \u001b[39m=\u001b[39m \u001b[39mself\u001b[39m\u001b[39m.\u001b[39minput_store\u001b[39m.\u001b[39mget_annotation_objects()\n",
      "File \u001b[0;32m~/DLC2Action_minimal/dlc2action/data/dataset.py:951\u001b[0m, in \u001b[0;36mBehaviorDataset._get_input_store\u001b[0;34m(self, data_type, data_parameters)\u001b[0m\n\u001b[1;32m    946\u001b[0m \u001b[39m\"\"\"\u001b[39;00m\n\u001b[1;32m    947\u001b[0m \u001b[39mCreate input store from parameters\u001b[39;00m\n\u001b[1;32m    948\u001b[0m \u001b[39m\"\"\"\u001b[39;00m\n\u001b[1;32m    950\u001b[0m data_parameters[\u001b[39m\"\u001b[39m\u001b[39mkey_objects\u001b[39m\u001b[39m\"\u001b[39m] \u001b[39m=\u001b[39m \u001b[39mNone\u001b[39;00m\n\u001b[0;32m--> 951\u001b[0m input_store \u001b[39m=\u001b[39m options\u001b[39m.\u001b[39;49minput_stores[data_type](\u001b[39m*\u001b[39;49m\u001b[39m*\u001b[39;49mdata_parameters)\n\u001b[1;32m    952\u001b[0m \u001b[39mreturn\u001b[39;00m input_store\n",
      "File \u001b[0;32m~/DLC2Action_minimal/dlc2action/data/input_store.py:199\u001b[0m, in \u001b[0;36mGeneralInputStore.__init__\u001b[0;34m(self, video_order, data_path, file_paths, data_suffix, data_prefix, feature_suffix, convert_int_indices, feature_save_path, canvas_shape, len_segment, overlap, feature_extraction, ignored_clips, ignored_bodyparts, default_agent_name, key_objects, likelihood_threshold, num_cpus, frame_limit, normalize, feature_extraction_pars, centered, transpose_features, *args, **kwargs)\u001b[0m\n\u001b[1;32m    197\u001b[0m \u001b[39mif\u001b[39;00m key_objects \u001b[39mis\u001b[39;00m \u001b[39mNone\u001b[39;00m \u001b[39mand\u001b[39;00m \u001b[39mself\u001b[39m\u001b[39m.\u001b[39mvideo_order \u001b[39mis\u001b[39;00m \u001b[39mnot\u001b[39;00m \u001b[39mNone\u001b[39;00m:\n\u001b[1;32m    198\u001b[0m     \u001b[39mprint\u001b[39m(\u001b[39m\"\u001b[39m\u001b[39mComputing input features...\u001b[39m\u001b[39m\"\u001b[39m)\n\u001b[0;32m--> 199\u001b[0m     \u001b[39mself\u001b[39m\u001b[39m.\u001b[39mdata \u001b[39m=\u001b[39m \u001b[39mself\u001b[39;49m\u001b[39m.\u001b[39;49m_load_data()\n\u001b[1;32m    200\u001b[0m \u001b[39melif\u001b[39;00m key_objects \u001b[39mis\u001b[39;00m \u001b[39mnot\u001b[39;00m \u001b[39mNone\u001b[39;00m:\n\u001b[1;32m    201\u001b[0m     \u001b[39mself\u001b[39m\u001b[39m.\u001b[39mload_from_key_objects(key_objects)\n",
      "File \u001b[0;32m~/DLC2Action_minimal/dlc2action/data/input_store.py:1149\u001b[0m, in \u001b[0;36mFileInputStore._load_data\u001b[0;34m(self)\u001b[0m\n\u001b[1;32m   1146\u001b[0m     names, lengths, coords \u001b[39m=\u001b[39m \u001b[39mself\u001b[39m\u001b[39m.\u001b[39m_make_trimmed_data(data_dict)\n\u001b[1;32m   1147\u001b[0m     \u001b[39mreturn\u001b[39;00m names, lengths, coords, bp_dict, min_frames, max_frames, video_tag\n\u001b[0;32m-> 1149\u001b[0m dict_list \u001b[39m=\u001b[39m p_map(make_data_dictionary, files, num_cpus\u001b[39m=\u001b[39;49m\u001b[39mself\u001b[39;49m\u001b[39m.\u001b[39;49mnum_cpus)\n\u001b[1;32m   1150\u001b[0m \u001b[39m# dict_list = tqdm([make_data_dictionary(f) for f in files])\u001b[39;00m\n\u001b[1;32m   1152\u001b[0m \u001b[39mself\u001b[39m\u001b[39m.\u001b[39mvisibility \u001b[39m=\u001b[39m {}\n",
      "File \u001b[0;32m~/miniconda3/envs/DLC2Action/lib/python3.9/site-packages/p_tqdm/__init__.py:87\u001b[0m, in \u001b[0;36mp_map\u001b[0;34m(function, *arrays, **kwargs)\u001b[0m\n\u001b[1;32m     85\u001b[0m ordered \u001b[39m=\u001b[39m \u001b[39mTrue\u001b[39;00m\n\u001b[1;32m     86\u001b[0m iterator \u001b[39m=\u001b[39m _parallel(ordered, function, \u001b[39m*\u001b[39marrays, \u001b[39m*\u001b[39m\u001b[39m*\u001b[39mkwargs)\n\u001b[0;32m---> 87\u001b[0m result \u001b[39m=\u001b[39m \u001b[39mlist\u001b[39;49m(iterator)\n\u001b[1;32m     89\u001b[0m \u001b[39mreturn\u001b[39;00m result\n",
      "File \u001b[0;32m~/miniconda3/envs/DLC2Action/lib/python3.9/site-packages/tqdm/std.py:1195\u001b[0m, in \u001b[0;36mtqdm.__iter__\u001b[0;34m(self)\u001b[0m\n\u001b[1;32m   1192\u001b[0m time \u001b[39m=\u001b[39m \u001b[39mself\u001b[39m\u001b[39m.\u001b[39m_time\n\u001b[1;32m   1194\u001b[0m \u001b[39mtry\u001b[39;00m:\n\u001b[0;32m-> 1195\u001b[0m     \u001b[39mfor\u001b[39;00m obj \u001b[39min\u001b[39;00m iterable:\n\u001b[1;32m   1196\u001b[0m         \u001b[39myield\u001b[39;00m obj\n\u001b[1;32m   1197\u001b[0m         \u001b[39m# Update and possibly print the progressbar.\u001b[39;00m\n\u001b[1;32m   1198\u001b[0m         \u001b[39m# Note: does not call self.update(1) for speed optimisation.\u001b[39;00m\n",
      "File \u001b[0;32m~/miniconda3/envs/DLC2Action/lib/python3.9/site-packages/multiprocess/pool.py:858\u001b[0m, in \u001b[0;36mIMapIterator.next\u001b[0;34m(self, timeout)\u001b[0m\n\u001b[1;32m    856\u001b[0m     \u001b[39mself\u001b[39m\u001b[39m.\u001b[39m_pool \u001b[39m=\u001b[39m \u001b[39mNone\u001b[39;00m\n\u001b[1;32m    857\u001b[0m     \u001b[39mraise\u001b[39;00m \u001b[39mStopIteration\u001b[39;00m \u001b[39mfrom\u001b[39;00m \u001b[39mNone\u001b[39m\n\u001b[0;32m--> 858\u001b[0m \u001b[39mself\u001b[39;49m\u001b[39m.\u001b[39;49m_cond\u001b[39m.\u001b[39;49mwait(timeout)\n\u001b[1;32m    859\u001b[0m \u001b[39mtry\u001b[39;00m:\n\u001b[1;32m    860\u001b[0m     item \u001b[39m=\u001b[39m \u001b[39mself\u001b[39m\u001b[39m.\u001b[39m_items\u001b[39m.\u001b[39mpopleft()\n",
      "File \u001b[0;32m~/miniconda3/envs/DLC2Action/lib/python3.9/threading.py:312\u001b[0m, in \u001b[0;36mCondition.wait\u001b[0;34m(self, timeout)\u001b[0m\n\u001b[1;32m    310\u001b[0m \u001b[39mtry\u001b[39;00m:    \u001b[39m# restore state no matter what (e.g., KeyboardInterrupt)\u001b[39;00m\n\u001b[1;32m    311\u001b[0m     \u001b[39mif\u001b[39;00m timeout \u001b[39mis\u001b[39;00m \u001b[39mNone\u001b[39;00m:\n\u001b[0;32m--> 312\u001b[0m         waiter\u001b[39m.\u001b[39;49macquire()\n\u001b[1;32m    313\u001b[0m         gotit \u001b[39m=\u001b[39m \u001b[39mTrue\u001b[39;00m\n\u001b[1;32m    314\u001b[0m     \u001b[39melse\u001b[39;00m:\n",
      "\u001b[0;31mKeyboardInterrupt\u001b[0m: "
     ]
    }
   ],
   "source": [
    "project.continue_episode(f\"{MODEL_NAME1}_best\", num_epochs=20, n_seeds=3)"
   ]
  },
  {
   "cell_type": "markdown",
   "metadata": {},
   "source": [
    "You can also train another episode with different parameters that loads the weights of your model as an initialization. Note that it will use all three runs as starting points for its own three runs."
   ]
  },
  {
   "cell_type": "code",
   "execution_count": 35,
   "metadata": {},
   "outputs": [
    {
     "name": "stderr",
     "output_type": "stream",
     "text": [
      "/home/liza/DLC2Action_minimal/dlc2action/project/project.py:3703: UserWarning:\n",
      "\n",
      "The partitioning parameters in the loaded experiment ({'partition_method': 'file'}) are not equal to the current partitioning parameters ({'val_frac': 0.2, 'test_frac': 0, 'partition_method': 'random', 'only_load_annotated': True, 'len_segment': 512, 'overlap': 0.75}). The current parameters are replaced.\n",
      "\n"
     ]
    },
    {
     "name": "stdout",
     "output_type": "stream",
     "text": [
      "TRAINING c2f_tcn_best_lr1e-5::0\n",
      "Computing input features...\n"
     ]
    },
    {
     "name": "stderr",
     "output_type": "stream",
     "text": [
      "100%|██████████| 20/20 [00:11<00:00,  1.73it/s]\n"
     ]
    },
    {
     "name": "stdout",
     "output_type": "stream",
     "text": [
      "Computing annotation arrays...\n"
     ]
    },
    {
     "name": "stderr",
     "output_type": "stream",
     "text": [
      "100%|██████████| 20/20 [00:00<00:00, 486.44it/s]\n"
     ]
    },
    {
     "name": "stdout",
     "output_type": "stream",
     "text": [
      "Filtering 4.34% of samples\n",
      "Number of samples:\n",
      "    validation:\n",
      "      {-100: 168275, 2: 36710, 0: 475, 3: 19032, 1: 6420}\n",
      "    training:\n",
      "      {-100: 642109, 0: 2606, 3: 100892, 2: 168967, 1: 27506}\n",
      "    test:\n",
      "      {1: 0, 2: 0, 3: 0, 0: 0}\n",
      "Computing normalization statistics...\n"
     ]
    },
    {
     "name": "stderr",
     "output_type": "stream",
     "text": [
      "100%|██████████| 1840/1840 [00:06<00:00, 304.70it/s]\n",
      "100%|██████████| 1840/1840 [00:03<00:00, 574.80it/s]\n"
     ]
    },
    {
     "name": "stdout",
     "output_type": "stream",
     "text": [
      "Initializing class weights:\n",
      "    0.706, 0.067, 0.011, 0.018\n",
      "Behavior indices:\n",
      "    0: other\n",
      "    1: Grooming\n",
      "    2: Supported\n",
      "    3: Unsupported\n"
     ]
    },
    {
     "name": "stderr",
     "output_type": "stream",
     "text": [
      "/home/liza/DLC2Action_minimal/dlc2action/project/meta.py:666: FutureWarning:\n",
      "\n",
      "Behavior when concatenating bool-dtype and numeric-dtype arrays is deprecated; in a future version these will cast to object dtype (instead of coercing bools to numeric values). To retain the old behavior, explicitly cast bool-dtype arrays to numeric dtype.\n",
      "\n"
     ]
    },
    {
     "name": "stdout",
     "output_type": "stream",
     "text": [
      "[epoch 1]: loss 0.0009, f1 0.924, precision 0.893\n",
      "validation: loss 0.0045, f1 0.840, precision 0.821\n",
      "[epoch 2]: loss 0.0009, f1 0.930, precision 0.902\n",
      "validation: loss 0.0048, f1 0.835, precision 0.818\n",
      "[epoch 3]: loss 0.0008, f1 0.939, precision 0.913\n",
      "validation: loss 0.0047, f1 0.855, precision 0.843\n",
      "[epoch 4]: loss 0.0008, f1 0.936, precision 0.909\n",
      "validation: loss 0.0047, f1 0.851, precision 0.837\n",
      "[epoch 5]: loss 0.0007, f1 0.943, precision 0.920\n",
      "validation: loss 0.0049, f1 0.857, precision 0.847\n",
      "\n",
      "\n",
      "TRAINING c2f_tcn_best_lr1e-5::1\n"
     ]
    },
    {
     "name": "stderr",
     "output_type": "stream",
     "text": [
      "/home/liza/DLC2Action_minimal/dlc2action/project/project.py:3703: UserWarning:\n",
      "\n",
      "The partitioning parameters in the loaded experiment ({'partition_method': 'file'}) are not equal to the current partitioning parameters ({'val_frac': 0.2, 'test_frac': 0, 'partition_method': 'random', 'only_load_annotated': True, 'len_segment': 512, 'overlap': 0.75}). The current parameters are replaced.\n",
      "\n"
     ]
    },
    {
     "name": "stdout",
     "output_type": "stream",
     "text": [
      "Initializing class weights:\n",
      "    0.706, 0.067, 0.011, 0.018\n",
      "Behavior indices:\n",
      "    0: other\n",
      "    1: Grooming\n",
      "    2: Supported\n",
      "    3: Unsupported\n",
      "[epoch 1]: loss 0.0020, f1 0.834, precision 0.802\n",
      "validation: loss 0.0034, f1 0.848, precision 0.819\n",
      "[epoch 2]: loss 0.0018, f1 0.853, precision 0.826\n",
      "validation: loss 0.0032, f1 0.855, precision 0.826\n",
      "[epoch 3]: loss 0.0017, f1 0.856, precision 0.824\n",
      "validation: loss 0.0031, f1 0.864, precision 0.839\n",
      "[epoch 4]: loss 0.0016, f1 0.867, precision 0.835\n",
      "validation: loss 0.0031, f1 0.865, precision 0.839\n",
      "[epoch 5]: loss 0.0015, f1 0.876, precision 0.843\n",
      "validation: loss 0.0031, f1 0.871, precision 0.846\n",
      "\n",
      "\n"
     ]
    }
   ],
   "source": [
    "project.run_episode(\n",
    "    f\"{MODEL_NAME1}_best_lr1e-5\",\n",
    "    load_episode=f\"{MODEL_NAME1}_best\",\n",
    "    load_search=f\"{MODEL_NAME1}_search\",\n",
    "    parameters_update={\n",
    "        \"general\": {\"model_name\": MODEL_NAME1},\n",
    "        \"training\": {\"lr\": 1e-5, \"num_epochs\": 5}\n",
    "    },\n",
    "    force=True,\n",
    ")"
   ]
  },
  {
   "cell_type": "markdown",
   "metadata": {},
   "source": [
    "You can also plot such episodes together as one line."
   ]
  },
  {
   "cell_type": "code",
   "execution_count": 36,
   "metadata": {},
   "outputs": [
    {
     "data": {
      "image/png": "[encoded data removed]",
      "text/plain": [
       "<Figure size 640x480 with 1 Axes>"
      ]
     },
     "metadata": {},
     "output_type": "display_data"
    }
   ],
   "source": [
    "project.plot_episodes(\n",
    "    [[f\"{MODEL_NAME1}_best\", f\"{MODEL_NAME1}_best_lr1e-5\"], f\"{MODEL_NAME2}_best\"], \n",
    "    episode_labels=[\"combined_model1\", \"model2\"],\n",
    "    metrics=METRICS\n",
    ")"
   ]
  },
  {
   "cell_type": "markdown",
   "metadata": {},
   "source": [
    "All the episodes you have run are stored in the project memory and you can pull up the history with all the parameters."
   ]
  },
  {
   "cell_type": "code",
   "execution_count": 37,
   "metadata": {},
   "outputs": [
    {
     "name": "stdout",
     "output_type": "stream",
     "text": [
      "TRAINING EPISODES\n",
      "                         general          meta                        results\n",
      "                      model_name training_time                 time        f1\n",
      "c2f_tcn_best::0          c2f_tcn       0:01:12  2022-11-24 09:27:52  0.848955\n",
      "c2f_tcn_best::1          c2f_tcn       0:01:12  2022-11-24 09:29:11  0.808155\n",
      "transformer_best::0  transformer       0:03:13  2022-11-24 09:30:56  0.853692\n",
      "transformer_best::1  transformer       0:03:14  2022-11-24 09:34:30  0.801052\n",
      "\n",
      "\n"
     ]
    }
   ],
   "source": [
    "_ = project.list_episodes(\n",
    "    display_parameters=[\"general/model_name\", \"meta/training_time\", \"meta/time\", f\"results/{METRICS[0]}\"], # choose the parameters to display\n",
    "    value_filter=\"training/lr::>1e-5\" # filter the entries by any parameter or result\n",
    ")"
   ]
  },
  {
   "cell_type": "markdown",
   "metadata": {},
   "source": [
    "The same goes for hyperparameter searches and predictions. This function also returns a `pandas` table you can process yourself."
   ]
  },
  {
   "cell_type": "code",
   "execution_count": 38,
   "metadata": {},
   "outputs": [
    {
     "data": {
      "text/html": [
       "<div>\n",
       "<style scoped>\n",
       "    .dataframe tbody tr th:only-of-type {\n",
       "        vertical-align: middle;\n",
       "    }\n",
       "\n",
       "    .dataframe tbody tr th {\n",
       "        vertical-align: top;\n",
       "    }\n",
       "\n",
       "    .dataframe thead tr th {\n",
       "        text-align: left;\n",
       "    }\n",
       "</style>\n",
       "<table border=\"1\" class=\"dataframe\">\n",
       "  <thead>\n",
       "    <tr>\n",
       "      <th></th>\n",
       "      <th colspan=\"2\" halign=\"left\">meta</th>\n",
       "      <th colspan=\"2\" halign=\"left\">results</th>\n",
       "      <th colspan=\"6\" halign=\"left\">data</th>\n",
       "      <th>...</th>\n",
       "      <th colspan=\"2\" halign=\"left\">meta</th>\n",
       "      <th colspan=\"4\" halign=\"left\">f1</th>\n",
       "      <th colspan=\"4\" halign=\"left\">model</th>\n",
       "    </tr>\n",
       "    <tr>\n",
       "      <th></th>\n",
       "      <th>time</th>\n",
       "      <th>objective</th>\n",
       "      <th>best_params</th>\n",
       "      <th>best_value</th>\n",
       "      <th>data_suffix</th>\n",
       "      <th>data_prefix</th>\n",
       "      <th>feature_suffix</th>\n",
       "      <th>convert_int_indices</th>\n",
       "      <th>canvas_shape</th>\n",
       "      <th>ignored_bodyparts</th>\n",
       "      <th>...</th>\n",
       "      <th>search_space</th>\n",
       "      <th>behaviors_dict</th>\n",
       "      <th>average</th>\n",
       "      <th>ignored_classes</th>\n",
       "      <th>tag_average</th>\n",
       "      <th>threshold_value</th>\n",
       "      <th>input_dim</th>\n",
       "      <th>N</th>\n",
       "      <th>heads</th>\n",
       "      <th>num_pool</th>\n",
       "    </tr>\n",
       "  </thead>\n",
       "  <tbody>\n",
       "    <tr>\n",
       "      <th>c2f_tcn_search</th>\n",
       "      <td>2022-11-24 09:24:53</td>\n",
       "      <td>f1</td>\n",
       "      <td>{'losses/ms_tcn/alpha': 0.0007464967274536318,...</td>\n",
       "      <td>0.552939</td>\n",
       "      <td>DeepCut_resnet50_Blockcourse1May9shuffle1_1030...</td>\n",
       "      <td>None</td>\n",
       "      <td>None</td>\n",
       "      <td>True</td>\n",
       "      <td>[928, 576]</td>\n",
       "      <td>None</td>\n",
       "      <td>...</td>\n",
       "      <td>{'losses/ms_tcn/alpha': ('float_log', 1e-05, 0...</td>\n",
       "      <td>{}</td>\n",
       "      <td>macro</td>\n",
       "      <td>None</td>\n",
       "      <td>micro</td>\n",
       "      <td>0.5</td>\n",
       "      <td>NaN</td>\n",
       "      <td>NaN</td>\n",
       "      <td>NaN</td>\n",
       "      <td>NaN</td>\n",
       "    </tr>\n",
       "    <tr>\n",
       "      <th>transformer_search</th>\n",
       "      <td>2022-11-24 09:27:33</td>\n",
       "      <td>f1</td>\n",
       "      <td>{'losses/ms_tcn/alpha': 0.0010662443105835437,...</td>\n",
       "      <td>0.739550</td>\n",
       "      <td>DeepCut_resnet50_Blockcourse1May9shuffle1_1030...</td>\n",
       "      <td>None</td>\n",
       "      <td>None</td>\n",
       "      <td>True</td>\n",
       "      <td>[928, 576]</td>\n",
       "      <td>None</td>\n",
       "      <td>...</td>\n",
       "      <td>{'losses/ms_tcn/alpha': ('float_log', 1e-05, 0...</td>\n",
       "      <td>{}</td>\n",
       "      <td>macro</td>\n",
       "      <td>None</td>\n",
       "      <td>micro</td>\n",
       "      <td>0.5</td>\n",
       "      <td>dataset_features</td>\n",
       "      <td>10.0</td>\n",
       "      <td>4.0</td>\n",
       "      <td>3.0</td>\n",
       "    </tr>\n",
       "  </tbody>\n",
       "</table>\n",
       "<p>2 rows × 109 columns</p>\n",
       "</div>"
      ],
      "text/plain": [
       "                                   meta            \\\n",
       "                                   time objective   \n",
       "c2f_tcn_search      2022-11-24 09:24:53        f1   \n",
       "transformer_search  2022-11-24 09:27:33        f1   \n",
       "\n",
       "                                                              results  \\\n",
       "                                                          best_params   \n",
       "c2f_tcn_search      {'losses/ms_tcn/alpha': 0.0007464967274536318,...   \n",
       "transformer_search  {'losses/ms_tcn/alpha': 0.0010662443105835437,...   \n",
       "\n",
       "                               \\\n",
       "                   best_value   \n",
       "c2f_tcn_search       0.552939   \n",
       "transformer_search   0.739550   \n",
       "\n",
       "                                                                 data  \\\n",
       "                                                          data_suffix   \n",
       "c2f_tcn_search      DeepCut_resnet50_Blockcourse1May9shuffle1_1030...   \n",
       "transformer_search  DeepCut_resnet50_Blockcourse1May9shuffle1_1030...   \n",
       "\n",
       "                                                                   \\\n",
       "                   data_prefix feature_suffix convert_int_indices   \n",
       "c2f_tcn_search            None           None                True   \n",
       "transformer_search        None           None                True   \n",
       "\n",
       "                                                   ...  \\\n",
       "                   canvas_shape ignored_bodyparts  ...   \n",
       "c2f_tcn_search       [928, 576]              None  ...   \n",
       "transformer_search   [928, 576]              None  ...   \n",
       "\n",
       "                                                                 meta  \\\n",
       "                                                         search_space   \n",
       "c2f_tcn_search      {'losses/ms_tcn/alpha': ('float_log', 1e-05, 0...   \n",
       "transformer_search  {'losses/ms_tcn/alpha': ('float_log', 1e-05, 0...   \n",
       "\n",
       "                                       f1                              \\\n",
       "                   behaviors_dict average ignored_classes tag_average   \n",
       "c2f_tcn_search                 {}   macro            None       micro   \n",
       "transformer_search             {}   macro            None       micro   \n",
       "\n",
       "                                               model                       \n",
       "                   threshold_value         input_dim     N heads num_pool  \n",
       "c2f_tcn_search                 0.5               NaN   NaN   NaN      NaN  \n",
       "transformer_search             0.5  dataset_features  10.0   4.0      3.0  \n",
       "\n",
       "[2 rows x 109 columns]"
      ]
     },
     "execution_count": 38,
     "metadata": {},
     "output_type": "execute_result"
    }
   ],
   "source": [
    "searches = project.list_searches(print_results=False)\n",
    "searches.head()"
   ]
  },
  {
   "cell_type": "markdown",
   "metadata": {},
   "source": [
    "When you find that you are happy with the results, you can use the model to generate predictions for new data. \n",
    "\n",
    "Predictions here are probabilities of each behavior being seen in each frame while suggestions are suggested intervals generated from those probabilities."
   ]
  },
  {
   "cell_type": "markdown",
   "metadata": {},
   "source": [
    "Let's generate a prediction with one of our models and look at one of the resulting files. Note that you can use multiple models and average over their predictions."
   ]
  },
  {
   "cell_type": "code",
   "execution_count": 39,
   "metadata": {},
   "outputs": [
    {
     "name": "stdout",
     "output_type": "stream",
     "text": [
      "PREDICTION c2f_tcn_best_prediction\n",
      "episode c2f_tcn_best_lr1e-5::0\n",
      "Number of samples:\n",
      "    validation:\n",
      "      {1: 0, 2: 0, 3: 0, 0: 0}\n",
      "    training:\n",
      "      {-100: 810384, 2: 205677, 0: 3081, 3: 119924, 1: 33926}\n",
      "    test:\n",
      "      {1: 0, 2: 0, 3: 0, 0: 0}\n",
      "Setting loaded normalization statistics...\n",
      "Initializing class weights:\n",
      "    0.744, 0.068, 0.011, 0.019\n",
      "Behavior indices:\n",
      "    0: other\n",
      "    1: Grooming\n",
      "    2: Supported\n",
      "    3: Unsupported\n"
     ]
    },
    {
     "name": "stderr",
     "output_type": "stream",
     "text": [
      "100%|██████████| 36/36 [00:26<00:00,  1.36it/s]\n"
     ]
    },
    {
     "name": "stdout",
     "output_type": "stream",
     "text": [
      "\n",
      "\n",
      "\n",
      "\n"
     ]
    }
   ],
   "source": [
    "project.run_prediction(\n",
    "    f\"{MODEL_NAME1}_best_prediction\",\n",
    "    episode_names=[f\"{MODEL_NAME1}_best_lr1e-5\"],\n",
    "    force=True\n",
    ")"
   ]
  },
  {
   "cell_type": "code",
   "execution_count": 40,
   "metadata": {},
   "outputs": [
    {
     "name": "stdout",
     "output_type": "stream",
     "text": [
      "ind0: torch.Size([4, 15244])\n",
      "The mean probability of Unsupported between frames 50 and 70 is 0.012615837156772614\n"
     ]
    }
   ],
   "source": [
    "import pickle\n",
    "import os\n",
    "\n",
    "\n",
    "# picking a random file from the prediction folder\n",
    "prediction_folder = project.prediction_path(f\"{MODEL_NAME1}_best_prediction\")\n",
    "prediction_file = os.listdir(prediction_folder)[0]\n",
    "prediction_file = os.path.join(prediction_folder, prediction_file)\n",
    "\n",
    "with open(prediction_file, \"rb\") as f: # open the file\n",
    "    prediction = pickle.load(f)\n",
    "\n",
    "for key, value in prediction.items(): # explore the contents\n",
    "    if key not in [\"max_frames\", \"min_frames\", \"video_tag\", \"behaviors\"]: # everything else is prediction tensors\n",
    "        print(f'{key}: {value.shape}')\n",
    "    \n",
    "behaviors_order = prediction[\"behaviors\"]\n",
    "\n",
    "start = 50\n",
    "end = 70\n",
    "action = \"Unsupported\"\n",
    "\n",
    "index = behaviors_order.index(action)\n",
    "\n",
    "print(f'The mean probability of {action} between frames {start} and {end} is {prediction[\"ind0\"][index, start: end].mean()}')"
   ]
  },
  {
   "cell_type": "code",
   "execution_count": 41,
   "metadata": {},
   "outputs": [
    {
     "name": "stdout",
     "output_type": "stream",
     "text": [
      "Removing datasets...\n"
     ]
    },
    {
     "name": "stderr",
     "output_type": "stream",
     "text": [
      "100%|██████████| 4/4 [00:00<00:00,  4.70it/s]"
     ]
    },
    {
     "name": "stdout",
     "output_type": "stream",
     "text": [
      "\n",
      "\n"
     ]
    },
    {
     "name": "stderr",
     "output_type": "stream",
     "text": [
      "\n"
     ]
    }
   ],
   "source": [
    "project.remove_saved_features()\n",
    "project.remove_extra_checkpoints()"
   ]
  },
  {
   "cell_type": "markdown",
   "metadata": {},
   "source": [
    "## Working with custom annotation data"
   ]
  },
  {
   "cell_type": "markdown",
   "metadata": {},
   "source": [
    "If you want to work with your own data, first check `Project.print_data_types()` and `Project.print_annotation_types()` to check if we already have the format that you need.\n",
    "\n",
    "If we don't, you can choose either of them to transform your data to but the easiest is probably `DeepLabCut` track or tracklet for the pose estimation data and our custom `\"dlc\"` format for annotation."
   ]
  },
  {
   "cell_type": "markdown",
   "metadata": {},
   "source": [
    "Let's talk about the latter in more detail.\n",
    "\n",
    "It assumes every annotation file to be a pickled nested dictionary where first-level keys are individual names, second-level keys are behavior names and values are lists of intervals. Here is an example.\n",
    "```\n",
    "{\n",
    "    \"ind0\": {\n",
    "        \"running\": [[20, 30], [40, 50]]\n",
    "    },\n",
    "    \"ind1\": {\n",
    "        \"eating\": [[10, 56]]\n",
    "    }\n",
    "}\n",
    "```\n",
    "\n",
    "Here `\"ind0\"` is running in frames 20 to 30 and 40 to 50 while `\"ind1\"` is eating in frames 10 to 56.\n",
    "\n",
    "In case your dataset contains interactive actions, connect the individual names with a plus in alphabetical order (e.g. `\"ind0+ind1\"`). At the moment, we can only support two scenarios: either all actions are interactive or all are individual. In case they are interactive, update the parameters with `project.update_parameters({\"general\": {\"interactive\": True}})` before running experiments."
   ]
  },
  {
   "cell_type": "markdown",
   "metadata": {},
   "source": [
    "As an exercise, let's generate a file in this format from one of the CSV files we've been working with."
   ]
  },
  {
   "cell_type": "code",
   "execution_count": 42,
   "metadata": {},
   "outputs": [],
   "source": [
    "import os\n",
    "import pandas as pd\n",
    "from collections import defaultdict\n",
    "import pickle\n",
    "import numpy as np\n",
    "\n",
    "filename = [x for x in os.listdir(LABELS_PATH) if x.endswith(\".csv\")][0] # load a random .csv file\n",
    "filepath = os.path.join(LABELS_PATH, filename)\n",
    "\n",
    "data = pd.read_csv(filepath)"
   ]
  },
  {
   "cell_type": "code",
   "execution_count": 43,
   "metadata": {},
   "outputs": [
    {
     "data": {
      "text/html": [
       "<div>\n",
       "<style scoped>\n",
       "    .dataframe tbody tr th:only-of-type {\n",
       "        vertical-align: middle;\n",
       "    }\n",
       "\n",
       "    .dataframe tbody tr th {\n",
       "        vertical-align: top;\n",
       "    }\n",
       "\n",
       "    .dataframe thead th {\n",
       "        text-align: right;\n",
       "    }\n",
       "</style>\n",
       "<table border=\"1\" class=\"dataframe\">\n",
       "  <thead>\n",
       "    <tr style=\"text-align: right;\">\n",
       "      <th></th>\n",
       "      <th>Unnamed: 0</th>\n",
       "      <th>file</th>\n",
       "      <th>Experimenter</th>\n",
       "      <th>from</th>\n",
       "      <th>to</th>\n",
       "      <th>type</th>\n",
       "      <th>ID</th>\n",
       "      <th>DLCFile</th>\n",
       "    </tr>\n",
       "  </thead>\n",
       "  <tbody>\n",
       "    <tr>\n",
       "      <th>0</th>\n",
       "      <td>3713</td>\n",
       "      <td>OFT_12_OS.csv</td>\n",
       "      <td>Oliver</td>\n",
       "      <td>2.002</td>\n",
       "      <td>2.419</td>\n",
       "      <td>StartEnd</td>\n",
       "      <td>OFT_12</td>\n",
       "      <td>21_02_A_190507131119DeepCut_resnet50_Blockcour...</td>\n",
       "    </tr>\n",
       "    <tr>\n",
       "      <th>1</th>\n",
       "      <td>3714</td>\n",
       "      <td>OFT_12_OS.csv</td>\n",
       "      <td>Oliver</td>\n",
       "      <td>7.481</td>\n",
       "      <td>9.856</td>\n",
       "      <td>Supported</td>\n",
       "      <td>OFT_12</td>\n",
       "      <td>21_02_A_190507131119DeepCut_resnet50_Blockcour...</td>\n",
       "    </tr>\n",
       "    <tr>\n",
       "      <th>2</th>\n",
       "      <td>3715</td>\n",
       "      <td>OFT_12_OS.csv</td>\n",
       "      <td>Oliver</td>\n",
       "      <td>16.940</td>\n",
       "      <td>18.544</td>\n",
       "      <td>Supported</td>\n",
       "      <td>OFT_12</td>\n",
       "      <td>21_02_A_190507131119DeepCut_resnet50_Blockcour...</td>\n",
       "    </tr>\n",
       "    <tr>\n",
       "      <th>3</th>\n",
       "      <td>3716</td>\n",
       "      <td>OFT_12_OS.csv</td>\n",
       "      <td>Oliver</td>\n",
       "      <td>28.315</td>\n",
       "      <td>29.606</td>\n",
       "      <td>Unsupported</td>\n",
       "      <td>OFT_12</td>\n",
       "      <td>21_02_A_190507131119DeepCut_resnet50_Blockcour...</td>\n",
       "    </tr>\n",
       "    <tr>\n",
       "      <th>4</th>\n",
       "      <td>3717</td>\n",
       "      <td>OFT_12_OS.csv</td>\n",
       "      <td>Oliver</td>\n",
       "      <td>32.231</td>\n",
       "      <td>33.669</td>\n",
       "      <td>Supported</td>\n",
       "      <td>OFT_12</td>\n",
       "      <td>21_02_A_190507131119DeepCut_resnet50_Blockcour...</td>\n",
       "    </tr>\n",
       "  </tbody>\n",
       "</table>\n",
       "</div>"
      ],
      "text/plain": [
       "   Unnamed: 0           file Experimenter    from      to         type  \\\n",
       "0        3713  OFT_12_OS.csv       Oliver   2.002   2.419     StartEnd   \n",
       "1        3714  OFT_12_OS.csv       Oliver   7.481   9.856    Supported   \n",
       "2        3715  OFT_12_OS.csv       Oliver  16.940  18.544    Supported   \n",
       "3        3716  OFT_12_OS.csv       Oliver  28.315  29.606  Unsupported   \n",
       "4        3717  OFT_12_OS.csv       Oliver  32.231  33.669    Supported   \n",
       "\n",
       "       ID                                            DLCFile  \n",
       "0  OFT_12  21_02_A_190507131119DeepCut_resnet50_Blockcour...  \n",
       "1  OFT_12  21_02_A_190507131119DeepCut_resnet50_Blockcour...  \n",
       "2  OFT_12  21_02_A_190507131119DeepCut_resnet50_Blockcour...  \n",
       "3  OFT_12  21_02_A_190507131119DeepCut_resnet50_Blockcour...  \n",
       "4  OFT_12  21_02_A_190507131119DeepCut_resnet50_Blockcour...  "
      ]
     },
     "execution_count": 43,
     "metadata": {},
     "output_type": "execute_result"
    }
   ],
   "source": [
    "data.head()"
   ]
  },
  {
   "cell_type": "markdown",
   "metadata": {},
   "source": [
    "Behaviors here are not interactive. We don't have a name for the animal so we will call it `\"ind0\"` (that is the default name for single animal DLC track files as well in DLC2Action but you can set something else at `\"data/default_agent_name\"`, just make sure that the names are consistent between annotation and input data). The annotations are encoded as start and end times in seconds. If we download the original videos and check the frame rate we can see that it's 25 fps.\n",
    "\n",
    "Furthermore, the StartEnd behavior doesn't appear to be meaningful for us.\n",
    "\n",
    "Given this information, let's transform this into the DLC format."
   ]
  },
  {
   "cell_type": "code",
   "execution_count": 44,
   "metadata": {},
   "outputs": [],
   "source": [
    "FPS = 25\n",
    "OMITTED_BEHAVIORS = [\"StartEnd\"]\n",
    "\n",
    "for filename in [x for x in os.listdir(LABELS_PATH) if x.endswith(\".csv\")]:\n",
    "    if filename == \"AllLabDataOFT_final.csv\": # this is the raw data with all videos together\n",
    "        continue\n",
    "    filepath = os.path.join(LABELS_PATH, filename)\n",
    "    data = pd.read_csv(filepath)\n",
    "    dlc_dict = {\"ind0\": defaultdict(lambda: [])} # this is just a dictionary that returns an empty list when we try to use a key that doesn't exist\n",
    "    for _, row in data.iterrows():\n",
    "        behavior = row[\"type\"]\n",
    "        if behavior in OMITTED_BEHAVIORS: # ignore extra behaviors\n",
    "            continue\n",
    "        if any([np.isnan(x) for x in [row[\"from\"], row[\"to\"]]]): # skip nans\n",
    "            continue\n",
    "        start = int(row[\"from\"] * FPS)\n",
    "        end = int(row[\"to\"] * FPS)\n",
    "        dlc_dict[\"ind0\"][behavior].append([start, end])\n",
    "    new_name = filepath.split(\".\")[0] + \"_dlc.pickle\" # the filenames need to start with the video name\n",
    "    dlc_dict[\"ind0\"] = dict(dlc_dict[\"ind0\"]) # we need to convert the defaultdict back to a standard dictionary before saving\n",
    "    with open(new_name, \"wb\") as f: # save the annotation file\n",
    "        pickle.dump(dlc_dict, f)"
   ]
  },
  {
   "cell_type": "markdown",
   "metadata": {},
   "source": [
    "Let's check that we did everything right. We will create a new project with the new data type and run a small experiment."
   ]
  },
  {
   "cell_type": "code",
   "execution_count": 48,
   "metadata": {},
   "outputs": [
    {
     "ename": "IndexError",
     "evalue": "tensors used as indices must be long, byte or bool tensors",
     "output_type": "error",
     "traceback": [
      "\u001b[0;31m---------------------------------------------------------------------------\u001b[0m",
      "\u001b[0;31mIndexError\u001b[0m                                Traceback (most recent call last)",
      "Cell \u001b[0;32mIn [48], line 4\u001b[0m\n\u001b[1;32m      2\u001b[0m pr \u001b[39m=\u001b[39m torch\u001b[39m.\u001b[39mones((\u001b[39m1161\u001b[39m, \u001b[39m5\u001b[39m))\n\u001b[1;32m      3\u001b[0m t_mask \u001b[39m=\u001b[39m torch\u001b[39m.\u001b[39mones((\u001b[39m1161\u001b[39m))\n\u001b[0;32m----> 4\u001b[0m pr[\u001b[39mrange\u001b[39;49m(\u001b[39m1161\u001b[39;49m), t_mask]\n",
      "\u001b[0;31mIndexError\u001b[0m: tensors used as indices must be long, byte or bool tensors"
     ]
    }
   ],
   "source": [
    "import torch\n",
    "pr = torch.ones((1161, 5))\n",
    "t_mask = torch.ones((1161))\n",
    "pr[range(1161), t_mask]"
   ]
  },
  {
   "cell_type": "code",
   "execution_count": 45,
   "metadata": {},
   "outputs": [],
   "source": [
    "# Project.remove_project(\"oft_dlc\", projects_path=PROJECTS_PATH)\n",
    "\n",
    "project = Project(\n",
    "    \"oft_dlc\",\n",
    "    data_path=DATA_PATH,\n",
    "    annotation_path=LABELS_PATH,\n",
    "    data_type=\"dlc_track\",\n",
    "    annotation_type=\"dlc\",\n",
    "    projects_path=PROJECTS_PATH\n",
    ")"
   ]
  },
  {
   "cell_type": "code",
   "execution_count": 46,
   "metadata": {},
   "outputs": [],
   "source": [
    "project.update_parameters(\n",
    "    {\n",
    "        \"data\": {\n",
    "            \"data_suffix\": \"DeepCut_resnet50_Blockcourse1May9shuffle1_1030000.csv\", # set; the data files should have the format of {video_id}{data_suffix}, e.g. video1_suffix.pickle, where video1 is the video is and _suffix.pickle is the suffix\n",
    "            \"canvas_shape\": [928, 576], # list; the size of the canvas where the pose was defined\n",
    "            \"annotation_suffix\": \"_dlc.pickle\", # str | set, optional the suffix or the set of suffices such that the annotation files are named {video_id}{annotation_suffix}, e.g, video1_suffix.pickle where video1 is the video id and _suffix.pickle is the suffix\n",
    "            \"fps\": 25 # int; fps (assuming the annotations are given in seconds, otherwise set any value)\n",
    "        },\n",
    "        \"general\": {\n",
    "            \"exclusive\": True, # bool; if true, single-label classification is used; otherwise multi-label\n",
    "        },\n",
    "    }\n",
    ")"
   ]
  },
  {
   "cell_type": "code",
   "execution_count": 47,
   "metadata": {},
   "outputs": [
    {
     "name": "stdout",
     "output_type": "stream",
     "text": [
      "TRAINING test\n",
      "Computing input features...\n"
     ]
    },
    {
     "name": "stderr",
     "output_type": "stream",
     "text": [
      "100%|██████████| 20/20 [00:11<00:00,  1.80it/s]\n"
     ]
    },
    {
     "name": "stdout",
     "output_type": "stream",
     "text": [
      "Computing annotation arrays...\n"
     ]
    },
    {
     "name": "stderr",
     "output_type": "stream",
     "text": [
      "100%|██████████| 20/20 [00:00<00:00, 6072.98it/s]\n"
     ]
    },
    {
     "name": "stdout",
     "output_type": "stream",
     "text": [
      "Number of samples:\n",
      "    validation:\n",
      "      {0: 178514, 2: 36710, 3: 19032, 1: 6432, -100: 4048}\n",
      "    training:\n",
      "      {0: 665603, 3: 100892, 2: 168967, 1: 27506, -100: 18536}\n",
      "    test:\n",
      "      {1: 0, 2: 0, 3: 0, 0: 0}\n",
      "Computing normalization statistics...\n"
     ]
    },
    {
     "name": "stderr",
     "output_type": "stream",
     "text": [
      "100%|██████████| 1917/1917 [00:02<00:00, 669.84it/s]\n",
      "100%|██████████| 1917/1917 [00:02<00:00, 727.77it/s]\n"
     ]
    },
    {
     "name": "stdout",
     "output_type": "stream",
     "text": [
      "Initializing class weights:\n",
      "    0.003, 0.07, 0.011, 0.019\n",
      "Behavior indices:\n",
      "    0: other\n",
      "    1: Grooming\n",
      "    2: Supported\n",
      "    3: Unsupported\n",
      "[epoch 1]: loss 0.0046, f1 0.364, precision 0.398, recall 0.529\n",
      "validation: loss 0.0049, f1 0.419, precision 0.465, recall 0.530\n",
      "\n",
      "\n"
     ]
    },
    {
     "data": {
      "text/plain": [
       "<dlc2action.task.task_dispatcher.TaskDispatcher at 0x7fe67c4b4880>"
      ]
     },
     "execution_count": 47,
     "metadata": {},
     "output_type": "execute_result"
    }
   ],
   "source": [
    "project.run_episode(\"test\", force=True, parameters_update={\"training\": {\"num_epochs\": 1}})"
   ]
  },
  {
   "cell_type": "markdown",
   "metadata": {},
   "source": [
    "## Annotation"
   ]
  },
  {
   "cell_type": "markdown",
   "metadata": {},
   "source": [
    "You can also use `DLC2Action` to generate new annotation files. Install our interface following those instructions and try running it with any video you like."
   ]
  },
  {
   "cell_type": "markdown",
   "metadata": {},
   "source": [
    "To install:\n",
    "```\n",
    "git clone https://github.com/amathislab/dlc2action_annotation\n",
    "cd dlc2action_annotation\n",
    "conda env create -f AnnotationGUI.yaml\n",
    "```"
   ]
  },
  {
   "cell_type": "markdown",
   "metadata": {},
   "source": [
    "To start, go to the `dlc2action_annotation` folder and run `python annotator.py`."
   ]
  },
  {
   "cell_type": "markdown",
   "metadata": {},
   "source": [
    "Check out the [user guide](https://github.com/amathislab/dlc2action_annotation) for instructions."
   ]
  }
 ],
 "metadata": {
  "kernelspec": {
   "display_name": "DLC2Action_new",
   "language": "python",
   "name": "python3"
  },
  "language_info": {
   "codemirror_mode": {
    "name": "ipython",
    "version": 3
   },
   "file_extension": ".py",
   "mimetype": "text/x-python",
   "name": "python",
   "nbconvert_exporter": "python",
   "pygments_lexer": "ipython3",
   "version": "3.13.5"
  },
  "orig_nbformat": 4
 },
 "nbformat": 4,
 "nbformat_minor": 2
}
