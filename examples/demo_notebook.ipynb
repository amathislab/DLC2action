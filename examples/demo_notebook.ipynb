{
 "cells": [
  {
   "cell_type": "markdown",
   "metadata": {},
   "source": [
    "# Intro to DLC2Action"
   ]
  },
  {
   "cell_type": "markdown",
   "metadata": {},
   "source": [
    "DLC2Action is a package for automatic behavior prediction. It offers implementation of SOTA models and keeps track of experiments."
   ]
  },
  {
   "cell_type": "markdown",
   "metadata": {},
   "source": [
    "To see how it works, we will experiment on a relatively small [publically available](https://github.com/ETHZ-INS/DLCAnalyzer/tree/master/data/OFT) dataset (Sturman, 2020). Run the code below to download the data.\n",
    "\n",
    "Note that the results that we will get in this notebook here are not optimal because we will use very small numbers of epochs and trials to fit the execution time within this short tutorial."
   ]
  },
  {
   "cell_type": "markdown",
   "metadata": {},
   "source": [
    "NOTE: If you want to run this in google colab, we recommend to use the notebook at [this link](https://colab.research.google.com/drive/12yLnK_xh4-ci10Qn1v8vFOcAnel5SlB3?usp=sharing).\n"
   ]
  },
  {
   "cell_type": "markdown",
   "metadata": {},
   "source": [
    "Now let's download the data. Downloading the data and installing the packages can take up to about 5-10 minutes. </br>\n",
    "*For Windows user*, you may need to install `wget` by downloading the .exe file [here](https://eternallybored.org/misc/wget/) (>1.10.0) and moving it to the System32 directory."
   ]
  },
  {
   "cell_type": "code",
   "execution_count": null,
   "metadata": {},
   "outputs": [],
   "source": [
    "!wget https://github.com/ETHZ-INS/DLCAnalyzer/archive/refs/heads/master.zip\n",
    "!apt-get install unzip\n",
    "!unzip master.zip\n",
    "!mv DLCAnalyzer-master/data/OFT OFT_data"
   ]
  },
  {
   "cell_type": "markdown",
   "metadata": {},
   "source": [
    "Installing `dlc2action`..."
   ]
  },
  {
   "cell_type": "code",
   "execution_count": null,
   "metadata": {},
   "outputs": [],
   "source": [
    "!python -m pip install dlc2action"
   ]
  },
  {
   "cell_type": "code",
   "execution_count": 1,
   "metadata": {},
   "outputs": [],
   "source": [
    "from dlc2action.project import Project\n",
    "import os\n",
    "\n",
    "CURRENT_PATH = os.getcwd()\n",
    "DATA_PATH = os.path.join(CURRENT_PATH, \"OFT_data\", \"Output_DLC\")\n",
    "LABELS_PATH = os.path.join(CURRENT_PATH, \"OFT_data\", \"Labels\")\n",
    "PROJECTS_PATH = os.path.join(CURRENT_PATH, \"DLC2Action\")"
   ]
  },
  {
   "cell_type": "markdown",
   "metadata": {},
   "source": [
    "High-level methods in DLC2Action are almost exclusively accessed through the `dlc2action.project.Project` class. A project instance should loosely correspond to a specific goal (e.g. generating automatic annotations for dataset A with input format X). You can use it to optimize hyperparameters, run experiments, analyze results and generate new data.\n",
    "\n",
    "**Best practices**\n",
    "- When you need to do something with a different data type or unrelated files, it's better to create a new project to keep the experiment history easy to understand.\n",
    "- Each project is associated with a folder on your computer that contains all settings, meta files and experiment outputs. Those folders are created in the folder at `projects_path`. It's generally a good idea to choose one and stick to it throughout projects."
   ]
  },
  {
   "cell_type": "markdown",
   "metadata": {},
   "source": [
    "### Creating a project\n",
    "\n",
    "Let's begin!\n",
    "\n",
    "We will create a project called `\"oft\"`, with `\"dlc_track\"` input and `\"csv\"` annotation format. \n",
    "\n",
    "You can run `Project.print_data_types()` and `Project.print_annotation_types()` to find out more about other options."
   ]
  },
  {
   "cell_type": "code",
   "execution_count": 2,
   "metadata": {},
   "outputs": [],
   "source": [
    "Project.remove_project(\"oft\", projects_path=PROJECTS_PATH)\n",
    "project = Project(\n",
    "    \"oft\",\n",
    "    data_path=DATA_PATH,\n",
    "    annotation_path=LABELS_PATH,\n",
    "    projects_path=PROJECTS_PATH,\n",
    "    data_type=\"dlc_track\",\n",
    "    annotation_type=\"csv\",\n",
    ")"
   ]
  },
  {
   "cell_type": "markdown",
   "metadata": {},
   "source": [
    "Projects have a generalized `help` function."
   ]
  },
  {
   "cell_type": "code",
   "execution_count": 3,
   "metadata": {},
   "outputs": [
    {
     "name": "stdout",
     "output_type": "stream",
     "text": [
      "AVAILABLE HELP FUNCTIONS:\n",
      "- Try running `project.help(keyword)` with the following keywords:\n",
      "    - model: to get more information on available models,\n",
      "    - features: to get more information on available feature extraction modes,\n",
      "    - partition_method: to get more information on available train/test/val partitioning methods,\n",
      "    - metrics: to see a list of available metric functions.\n",
      "    - data: to see help for expected data structure\n",
      "- To start working with this project, first run `project.list_blanks()` to check which parameters need to be filled in.\n",
      "- After a model and metrics are set, run `project.list_basic_parameters()` to see a list of the most important parameters that you might want to modify\n",
      "- If you want to dig deeper, get the full dictionary with project._read_parameters() (it is a `ruamel.yaml.comments.CommentedMap` instance).\n",
      "\n",
      "\n"
     ]
    }
   ],
   "source": [
    "project.help()"
   ]
  },
  {
   "cell_type": "code",
   "execution_count": 4,
   "metadata": {},
   "outputs": [
    {
     "name": "stdout",
     "output_type": "stream",
     "text": [
      "DATA TYPES:\n",
      "dlc_tracklet:\n",
      "\n",
      "    DLC tracklet data\n",
      "\n",
      "    Assumes the following file structure:\n",
      "    ```\n",
      "    data_path\n",
      "    ├── video1DLC1000.pickle\n",
      "    ├── video2DLC400.pickle\n",
      "    ├── video1_features.pt\n",
      "    └── video2_features.pt\n",
      "    ```\n",
      "    Here `data_suffix` is `{'DLC1000.pickle', 'DLC400.pickle'}` and `feature_suffix` (optional) is `'_features.pt'`.\n",
      "\n",
      "    The feature files should to be dictionaries where keys are clip IDs (e.g. animal names) and values are\n",
      "    feature values (arrays of shape `(#frames, #features)`). If the arrays are shaped as `(#features, #frames)`,\n",
      "    set `transpose_features` to `True`.\n",
      "\n",
      "    The files can be saved with `numpy.save()` (with `.npy` extension), `torch.save()` (with `.pt` extension) or\n",
      "    with `pickle.dump()` (with `.pickle` or `.pkl` extension).\n",
      "    \n",
      "dlc_track:\n",
      "\n",
      "    DLC track data\n",
      "\n",
      "    Assumes the following file structure:\n",
      "    ```\n",
      "    data_path\n",
      "    ├── video1DLC1000.pickle\n",
      "    ├── video2DLC400.pickle\n",
      "    ├── video1_features.pt\n",
      "    └── video2_features.pt\n",
      "    ```\n",
      "    Here `data_suffix` is `{'DLC1000.pickle', 'DLC400.pickle'}` and `feature_suffix` (optional) is `'_features.pt'`.\n",
      "\n",
      "    The feature files should to be dictionaries where keys are clip IDs (e.g. animal names) and values are\n",
      "    feature values (arrays of shape `(#frames, #features)`). If the arrays are shaped as `(#features, #frames)`,\n",
      "    set `transpose_features` to `True`.\n",
      "\n",
      "    The files can be saved with `numpy.save()` (with `.npy` extension), `torch.save()` (with `.pt` extension) or\n",
      "    with `pickle.dump()` (with `.pickle` or `.pkl` extension).\n",
      "    \n",
      "pku-mmd:\n",
      "\n",
      "    PKU-MMD data\n",
      "\n",
      "    Assumes the following file structure:\n",
      "    ```\n",
      "    data_path\n",
      "    ├── 0073-R.txt\n",
      "    ...\n",
      "    └── 0274-L.txt\n",
      "    ```\n",
      "    \n",
      "calms21:\n",
      "\n",
      "    CalMS21 data\n",
      "\n",
      "    Use the `'random:test_from_name:{name}'` and `'val-from-name:{val_name}:test-from-name:{test_name}'`\n",
      "    partitioning methods with `'train'`, `'test'` and `'unlabeled'` names to separate into train, test and validation\n",
      "    subsets according to the original files. For example, with `'val-from-name:test:test-from-name:unlabeled'`\n",
      "    the data from the test file will go into validation and the unlabeled files will be the test.\n",
      "\n",
      "    Assumes the following file structure:\n",
      "    ```\n",
      "    data_path\n",
      "    ├── calms21_task1_train.npy\n",
      "    ├── calms21_task1_test.npy\n",
      "    ├── calms21_task1_test_features.npy\n",
      "    ├── calms21_task1_test_features.npy\n",
      "    ├── calms21_unlabeled_videos_part1.npy\n",
      "    ├── calms21_unlabeled_videos_part1.npy\n",
      "    ├── calms21_unlabeled_videos_part2.npy\n",
      "    └── calms21_unlabeled_videos_part3.npy\n",
      "    ```\n",
      "    \n",
      "np_3d:\n",
      "\n",
      "    3D data\n",
      "\n",
      "    Assumes the data files to be `numpy` arrays saved in `.npy` format with shape `(#frames, #keypoints, 3)`.\n",
      "\n",
      "    Assumes the following file structure:\n",
      "    ```\n",
      "    data_path\n",
      "    ├── video1_suffix1.npy\n",
      "    ├── video2_suffix2.npy\n",
      "    ├── video1_features.pt\n",
      "    └── video2_features.pt\n",
      "    ```\n",
      "    Here `data_suffix` is `{'_suffix1.npy', '_suffix1.npy'}` and `feature_suffix` (optional) is `'_features.pt'`.\n",
      "\n",
      "    The feature files should to be dictionaries where keys are clip IDs (e.g. animal names) and values are\n",
      "    feature values (arrays of shape `(#frames, #features)`). If the arrays are shaped as `(#features, #frames)`,\n",
      "    set `transpose_features` to `True`.\n",
      "\n",
      "    The files can be saved with `numpy.save()` (with `.npy` extension), `torch.save()` (with `.pt` extension) or\n",
      "    with `pickle.dump()` (with `.pickle` or `.pkl` extension).\n",
      "    \n",
      "features:\n",
      "\n",
      "    Non-pose feature files\n",
      "\n",
      "    The feature files should to be dictionaries where keys are clip IDs (e.g. animal names) and values are\n",
      "    feature values (arrays of shape `(#frames, #features)`). If the arrays are shaped as `(#features, #frames)`,\n",
      "    set `transpose_features` to `True`.\n",
      "\n",
      "    The files can be saved with `numpy.save()` (with `.npy` extension), `torch.save()` (with `.pt` extension) or\n",
      "    with `pickle.dump()` (with `.pickle` or `.pkl` extension).\n",
      "\n",
      "    Assumes the following file structure:\n",
      "    ```\n",
      "    data_path\n",
      "    ├── video1_features.pt\n",
      "    └── video2_features.pt\n",
      "    ```\n",
      "    Here `feature_suffix` (optional) is `'_features.pt'`.\n",
      "    \n",
      "simba:\n",
      "\n",
      "    SIMBA paper format data\n",
      "\n",
      "     Assumes the following file structure\n",
      "\n",
      "     ```\n",
      "     data_path\n",
      "     ├── Video1.csv\n",
      "     ...\n",
      "     └── Video9.csv\n",
      "     ```\n",
      "     Here `data_suffix` is `.csv`.\n",
      "    \n"
     ]
    }
   ],
   "source": [
    "Project.print_data_types()"
   ]
  },
  {
   "cell_type": "markdown",
   "metadata": {},
   "source": [
    "Let's start by checking if our files are organized correctly."
   ]
  },
  {
   "cell_type": "code",
   "execution_count": 5,
   "metadata": {},
   "outputs": [
    {
     "name": "stdout",
     "output_type": "stream",
     "text": [
      "DATA:\n",
      "Video data: dlc_track\n",
      "\n",
      "    DLC track data\n",
      "\n",
      "    Assumes the following file structure:\n",
      "    ```\n",
      "    data_path\n",
      "    ├── video1DLC1000.pickle\n",
      "    ├── video2DLC400.pickle\n",
      "    ├── video1_features.pt\n",
      "    └── video2_features.pt\n",
      "    ```\n",
      "    Here `data_suffix` is `{'DLC1000.pickle', 'DLC400.pickle'}` and `feature_suffix` (optional) is `'_features.pt'`.\n",
      "\n",
      "    The feature files should to be dictionaries where keys are clip IDs (e.g. animal names) and values are\n",
      "    feature values (arrays of shape `(#frames, #features)`). If the arrays are shaped as `(#features, #frames)`,\n",
      "    set `transpose_features` to `True`.\n",
      "\n",
      "    The files can be saved with `numpy.save()` (with `.npy` extension), `torch.save()` (with `.pt` extension) or\n",
      "    with `pickle.dump()` (with `.pickle` or `.pkl` extension).\n",
      "    \n",
      "Annotation data: csv\n",
      "\n",
      "    CSV type annotation data\n",
      "\n",
      "    Assumes that files are saved as .csv tables with at least the following columns:\n",
      "    - from / start : start of action,\n",
      "    - to / end : end of action,\n",
      "    - class / behavior / behaviour / label / type : action label.\n",
      "\n",
      "    If the times are set in seconds instead of frames, don't forget to set the `fps` parameter to your frame rate.\n",
      "\n",
      "    Assumes the following file structure:\n",
      "    ```\n",
      "    annotation_path\n",
      "    ├── video1_annotation.csv\n",
      "    └── video2_labels.csv\n",
      "    ```\n",
      "    Here `annotation_suffix` is `{'_annotation.csv', '_labels.csv'}`.\n",
      "    \n",
      "Annotation path and data path don't have to be separate, you can keep everything in one folder.\n",
      "\n",
      "\n"
     ]
    }
   ],
   "source": [
    "project.help(\"data\")"
   ]
  },
  {
   "cell_type": "markdown",
   "metadata": {},
   "source": [
    "## Setting parameters"
   ]
  },
  {
   "cell_type": "markdown",
   "metadata": {},
   "source": [
    "After the data structure is sorted out, it's time to configure the parameter settings. \n",
    "\n",
    "Every project keeps fixed settings written in configuration files in the project folder. When you want to change something, you have two options: modifying the configuration files so that this new value becomes the default (with `project.set_main_parameters` or `project.update_parameters`) or passing a `parameters_update` argument to your function so that the settings only change for this run.\n",
    "\n",
    "We will start with setting the defaults.\n",
    "\n",
    "As we saw in the help message, the first step is checking which essential parameters are missing with `project.list_blanks()`"
   ]
  },
  {
   "cell_type": "code",
   "execution_count": 6,
   "metadata": {},
   "outputs": [
    {
     "name": "stdout",
     "output_type": "stream",
     "text": [
      "Before running experiments, please update all the blanks.\n",
      "To do that, you can run this.\n",
      "--------------------------------------------------------\n",
      "project.update_parameters(\n",
      "    {\n",
      "        \"data\": {\n",
      "            \"data_suffix\": ..., # set; the data files should have the format of {video_id}{data_suffix}, e.g. video1_suffix.pickle, where video1 is the video is and _suffix.pickle is the suffix\n",
      "            \"canvas_shape\": ..., # list; the size of the canvas where the pose was defined\n",
      "            \"annotation_suffix\": ..., # str | set, optional the suffix or the set of suffices such that the annotation files are named {video_id}{annotation_suffix}, e.g, video1_suffix.pickle where video1 is the video id and _suffix.pickle is the suffix\n",
      "            \"fps\": ..., # int; fps (assuming the annotations are given in seconds, otherwise set 1)\n",
      "        },\n",
      "        \"general\": {\n",
      "            \"exclusive\": ..., # bool; if true, single-label classification is used; otherwise multi-label\n",
      "        },\n",
      "    }\n",
      ")\n",
      "--------------------------------------------------------\n",
      "Replace ... with relevant values.\n"
     ]
    }
   ],
   "source": [
    "project.list_blanks()"
   ]
  },
  {
   "cell_type": "markdown",
   "metadata": {},
   "source": [
    "We can copy this code, fill in the information and run it."
   ]
  },
  {
   "cell_type": "code",
   "execution_count": 7,
   "metadata": {},
   "outputs": [],
   "source": [
    "project.update_parameters(\n",
    "    {\n",
    "        \"data\": {\n",
    "            \"data_suffix\": \"DeepCut_resnet50_Blockcourse1May9shuffle1_1030000.csv\", # set; the data files should have the format of {video_id}{data_suffix}, e.g. video1_suffix.pickle, where video1 is the video is and _suffix.pickle is the suffix\n",
    "            \"canvas_shape\": [928, 576], # list; the size of the canvas where the pose was defined\n",
    "            \"annotation_suffix\": \".csv\", # str | set, optional the suffix or the set of suffices such that the annotation files are named {video_id}{annotation_suffix}, e.g, video1_suffix.pickle where video1 is the video id and _suffix.pickle is the suffix\n",
    "            \"fps\": 25 # int; fps (assuming the annotations are given in seconds, otherwise set any value)\n",
    "        },\n",
    "        \"general\": {\n",
    "            \"exclusive\": True, # bool; if true, single-label classification is used; otherwise multi-label\n",
    "        },\n",
    "    }\n",
    ")"
   ]
  },
  {
   "cell_type": "markdown",
   "metadata": {},
   "source": [
    "Now we're all set and can start training models. However, we can take an extra step and check out what other parameters are available."
   ]
  },
  {
   "cell_type": "markdown",
   "metadata": {},
   "source": [
    "Note that this function is only showing us the parameters for the metric functions and the model that are selected as default at the moment. If you want to see what parameters there are for other models and metrics, try setting them first with `project.set_main_parameters()` or with `project.update_parameters()`."
   ]
  },
  {
   "cell_type": "code",
   "execution_count": 8,
   "metadata": {},
   "outputs": [
    {
     "name": "stdout",
     "output_type": "stream",
     "text": [
      "BASIC PARAMETERS:\n",
      "Here is a list of current parameters.\n",
      "You can copy this code, change the parameters you want to set and run it to update the project config.\n",
      "--------------------------------------------------------\n",
      "project.update_parameters(\n",
      "    {\n",
      "        \"general\": {\n",
      "            \"model_name\": \"c2f_tcn\", # str; model name (run project.help(\"model\") for more info)\n",
      "            \"metric_functions\": {'recall', 'f1', 'precision'}, # set; set of metric names (run project.help(\"metrics\") for more info)\n",
      "            \"ignored_clips\": None, # list; a list of string clip ids (agent names) to be ignored\n",
      "            \"len_segment\": 512, # int; the length of segments (in frames) to cut the videos into\n",
      "            \"overlap\": 0.75, # int; the overlap (in frames) between neighboring segments\n",
      "            \"interactive\": False, # bool; if true, annotations are assigned and features are computed for pairs of clips (animals)\n",
      "        },\n",
      "        \"data\": {\n",
      "            \"data_suffix\": \"DeepCut_resnet50_Blockcourse1May9shuffle1_1030000.csv\", # set; the data files should have the format of {video_id}{data_suffix}, e.g. video1_suffix.pickle, where video1 is the video is and _suffix.pickle is the suffix\n",
      "            \"feature_suffix\": None, # str; the feature files should be stored in the data folder and named {video_id}{feature_suffix}\n",
      "            \"annotation_suffix\": \".csv\", # str | set, optional the suffix or the set of suffices such that the annotation files are named {video_id}{annotation_suffix}, e.g, video1_suffix.pickle where video1 is the video id and _suffix.pickle is the suffix\n",
      "            \"canvas_shape\": [928, 576], # list; the size of the canvas where the pose was defined\n",
      "            \"ignored_bodyparts\": None, # set; the set of string names of bodyparts to ignore\n",
      "            \"likelihood_threshold\": 0, # float; coordinates with lower likelihood values will be ignored\n",
      "            \"behaviors\": None, # set; the behaviors to predict (if null, if will be inferred from the data; !!PLEASE SET IT MANUALLY if different files can have different behavior sets!!)\n",
      "            \"filter_annotated\": True, # bool; discard long unannotated intervals during training\n",
      "            \"filter_background\": True, # bool; only label frames as background if a behavior is annotated somewhere close\n",
      "            \"visibility_min_score\": 0, # float; the minimum visibility score for visibility filtering\n",
      "            \"visibility_min_frac\": 0, # float; the minimum fraction of visible frames for visibility filtering\n",
      "        },\n",
      "        \"training\": {\n",
      "            \"lr\": 0.001, # float; learning rate\n",
      "            \"device\": \"auto\", # str; device\n",
      "            \"num_epochs\": 50, # int; number of epochs\n",
      "            \"to_ram\": False, # bool; transfer the dataset to RAM for training (preferred if the dataset fits in working memory)\n",
      "            \"batch_size\": 64, # int; batch size\n",
      "            \"normalize\": True, # bool; if true, normalization statistics will be computed on the training set and applied to all data\n",
      "            \"temporal_subsampling_size\": 0.85, # float; this fraction of frames in each segment is randomly sampled at training time\n",
      "            \"parallel\": False, # bool; if true, the model will be trained on all gpus visible in the system (use os.environ[“CUDA_VISIBLE_DEVICES”] =“{indices}” to exclude gpus in this mode)\n",
      "\n",
      "#losses\n",
      "            \"val_frac\": 0.2, # float; fraction of dataset to use as validation\n",
      "            \"test_frac\": 0, # float; fraction of dataset to use as test\n",
      "            \"partition_method\": \"random\", # str; the train/test/val partitioning method (for more info run project.help(\"partition_method\"))\n",
      "        },\n",
      "        \"losses\": {\n",
      "            \"ms_tcn\": {\n",
      "                \"focal\": True, # bool; if True, focal loss will be used\n",
      "                \"gamma\": 2, # float; the gamma parameter of focal loss\n",
      "                \"alpha\": 0.001, # float; the weight of consistency loss\n",
      "            },\n",
      "        },\n",
      "        \"metrics\": {\n",
      "            \"f1\": {\n",
      "                \"average\": \"macro\", # ['macro', 'micro', 'none']; averaging method for classes\n",
      "                \"ignored_classes\": None, # set; a set of class ids to ignore in calculation\n",
      "                \"tag_average\": \"micro\", # ['micro', 'macro', 'none']; averaging method for meta tags (if given)\n",
      "                \"threshold_value\": 0.5, # float; the probability threshold for positive samples\n",
      "            },\n",
      "            \"recall\": {\n",
      "                \"average\": \"macro\", # ['macro', 'micro', 'none']; averaging method for classes\n",
      "                \"ignored_classes\": None, # set; a set of class ids to ignore in calculation\n",
      "                \"tag_average\": \"micro\", # ['micro', 'macro', 'none']; averaging method for meta tags (if given)\n",
      "                \"threshold_value\": 0.5, # float; the probability threshold for positive samples\n",
      "            },\n",
      "            \"precision\": {\n",
      "                \"average\": \"macro\", # ['macro', 'micro', 'none']; averaging method for classes\n",
      "                \"ignored_classes\": None, # set; a set of class ids to ignore in calculation\n",
      "                \"tag_average\": \"micro\", # ['micro', 'macro', 'none']; averaging method for meta tags (if given)\n",
      "                \"threshold_value\": 0.5, # float; the probability threshold for positive samples\n",
      "            },\n",
      "        },\n",
      "        \"model\": {\n",
      "            \"num_f_maps\": 128, # int; number of maps\n",
      "            \"feature_dim\": None, # int; if not null, intermediate features are generated with this dimension and then passed to a 2-layer MLP for classification (useful for SSL)\n",
      "        },\n",
      "        \"features\": {\n",
      "            \"keys\": None, # set; a list of names of the features to extract (a subset of available keys; run project.help(\"features\") for more info)\n",
      "            \"averaging_window\": 1, # int; if >1, features are averaged with a moving window of this size (in frames)\n",
      "            \"distance_pairs\": None, # list; a list of bodypart name tuples (e.g. `[(\"tail\", \"nose\")]`) to compute distances for when `\"intra_distance\"` is in `keys` (by default all distances are computed)\n",
      "            \"angle_pairs\": None, # list; a list of bodypart name tuples (e.g. `[(\"ear1\", \"nose\", \"ear2\")]`) for the angle between `\"ear1\"--\"nose\"` and `\"nose\"--\"ear2\"` lines) to compute angle cosines for when `\"angles\"` is in `keys` (by default no angles are computed)\n",
      "            \"zone_vertices\": None, # dict; a dictionary of bodypart name tuples of any length >= 3 that define zones for `\"zone_bools\"`and `\"zone_distances\"` features; keys should be zone names and values should be tuples that define the polygons (e.g. `{\"main_area\": (\"x_min\", \"x_max\", \"y_max\", \"y_min\"))}`)\n",
      "            \"zone_bools\": None, # list; a list of zone and bodypart name tuples to compute binary identifiers for (1 if an animal is within the polygon or 0 if it's outside) (e.g. `[(\"main_area\", \"nose\")]`); the zones should be defined in the `zone_vertices` parameter; this is only computed if `\"zone_bools\"` is in `keys`\n",
      "            \"zone_distances\": None, # list; a list of zone and bodypart name tuples to compute distances for (distance from the bodypart to the closest of the boundaries) (e.g. `[(\"main_area\", \"nose\")]`); the zones should be defined in the `zone_vertices` parameter; this is only computed if `\"zone_distances\"` is in `keys`\n",
      "            \"area_vertices\": None, # list; a list of bodypart name tuples of any length >= 3 (e.g. `[(\"ear1\", \"nose\", \"ear2\", \"spine1\")]`) that define polygons to compute areas for when `\"areas\"` is in `keys` (by default no areas are computed)\n",
      "        },\n",
      "        \"augmentations\": {\n",
      "            \"augmentations\": {'add_noise'}, # set; a set of augmentations that can be applied to your data without losing information (choose any number from 'rotate', 'real_lens', 'add_noise', 'shift', 'zoom', 'mirror', 'switch', e.g. {'add_noise'. 'mirror'})\n",
      "            \"rotation_limits\": [-1.57, 1.57], # list; list of rotation angle limits in radians ([low, high])\n",
      "            \"mirror_dim\": {0}, # set; set of dimensions that can be mirrored (0 for x, 1 for y, 2 for z)\n",
      "            \"noise_std\": 0.003, # float; standard deviation of noise\n",
      "            \"zoom_limits\": [0.5, 1.5], # list; list of float zoom limits ([low, high])\n",
      "            \"masking_probability\": 0.1, # float; the probability of masking a joint\n",
      "        },\n",
      "    },\n",
      ")\n",
      "--------------------------------------------------------\n",
      "\n",
      "\n"
     ]
    }
   ],
   "source": [
    "project.list_basic_parameters()"
   ]
  },
  {
   "cell_type": "markdown",
   "metadata": {},
   "source": [
    "We can copy this into a code cell to make it easier to read."
   ]
  },
  {
   "cell_type": "code",
   "execution_count": 9,
   "metadata": {},
   "outputs": [],
   "source": [
    "project.update_parameters(\n",
    "    {\n",
    "        \"general\": {\n",
    "            \"model_name\": \"c2f_tcn\", # str; model name (run project.help(\"model\") for more info)\n",
    "            \"metric_functions\": {'precision', 'recall', 'f1'}, # set; set of metric names (run project.help(\"metrics\") for more info)\n",
    "            \"ignored_clips\": None, # list; a list of string clip ids (agent names) to be ignored\n",
    "            \"len_segment\": 512, # int; the length of segments (in frames) to cut the videos into\n",
    "            \"overlap\": 0.75, # int; the overlap (in frames) between neighboring segments\n",
    "            \"interactive\": False, # bool; if true, annotations are assigned and features are computed for pairs of clips (animals)\n",
    "        },\n",
    "        \"data\": {\n",
    "            \"data_suffix\": \"DeepCut_resnet50_Blockcourse1May9shuffle1_1030000.csv\", # set; the data files should have the format of {video_id}{data_suffix}, e.g. video1_suffix.pickle, where video1 is the video is and _suffix.pickle is the suffix\n",
    "            \"feature_suffix\": None, # str; the feature files should be stored in the data folder and named {video_id}{feature_suffix}\n",
    "            \"annotation_suffix\": \".csv\", # str | set, optional the suffix or the set of suffices such that the annotation files are named {video_id}{annotation_suffix}, e.g, video1_suffix.pickle where video1 is the video id and _suffix.pickle is the suffix\n",
    "            \"canvas_shape\": [928, 576], # list; the size of the canvas where the pose was defined\n",
    "            \"ignored_bodyparts\": None, # set; the set of string names of bodyparts to ignore\n",
    "            \"likelihood_threshold\": 0, # float; coordinates with lower likelihood values will be ignored\n",
    "            \"behaviors\": None, # set; the behaviors to predict (if null, if will be inferred from the data; !!PLEASE SET IT MANUALLY if different files can have different behavior sets!!)\n",
    "            \"filter_annotated\": True, # bool; discard long unannotated intervals during training\n",
    "            \"filter_background\": True, # bool; only label frames as background if a behavior is annotated somewhere close\n",
    "            \"visibility_min_score\": 0, # float; the minimum visibility score for visibility filtering\n",
    "            \"visibility_min_frac\": 0, # float; the minimum fraction of visible frames for visibility filtering\n",
    "        },\n",
    "        \"training\": {\n",
    "            \"lr\": 0.001, # float; learning rate\n",
    "            \"device\": \"auto\", # str; device\n",
    "            \"num_epochs\": 50, # int; number of epochs\n",
    "            \"to_ram\": False, # bool; transfer the dataset to RAM for training (preferred if the dataset fits in working memory)\n",
    "            \"batch_size\": 64, # int; batch size\n",
    "            \"normalize\": True, # bool; if true, normalization statistics will be computed on the training set and applied to all data\n",
    "            \"temporal_subsampling_size\": 0.85, # float; this fraction of frames in each segment is randomly sampled at training time\n",
    "            \"parallel\": False, # bool; if true, the model will be trained on all gpus visible in the system (use os.environ[“CUDA_VISIBLE_DEVICES”] =“{indices}” to exclude gpus in this mode)\n",
    "            \"val_frac\": 0.2, # float; fraction of dataset to use as validation\n",
    "            \"test_frac\": 0, # float; fraction of dataset to use as test\n",
    "            \"partition_method\": \"random\", # str; the train/test/val partitioning method (for more info run project.help(\"partition_method\"))\n",
    "        },\n",
    "        \"losses\": {\n",
    "            \"ms_tcn\": {\n",
    "                \"focal\": True, # bool; if True, focal loss will be used\n",
    "                \"gamma\": 2, # float; the gamma parameter of focal loss\n",
    "                \"alpha\": 0.001, # float; the weight of consistency loss\n",
    "            },\n",
    "        },\n",
    "        \"metrics\": {\n",
    "            \"f1\": {\n",
    "                \"average\": \"macro\", # ['macro', 'micro', 'none']; averaging method for classes\n",
    "                \"ignored_classes\": None, # set; a set of class ids to ignore in calculation\n",
    "                \"threshold_value\": 0.5, # float; the probability threshold for positive samples\n",
    "            },\n",
    "            \"recall\": {\n",
    "                \"average\": \"macro\", # ['macro', 'micro', 'none']; averaging method for classes\n",
    "                \"ignored_classes\": None, # set; a set of class ids to ignore in calculation\n",
    "                \"threshold_value\": 0.5, # float; the probability threshold for positive samples\n",
    "            },\n",
    "            \"precision\": {\n",
    "                \"average\": \"macro\", # ['macro', 'micro', 'none']; averaging method for classes\n",
    "                \"ignored_classes\": None, # set; a set of class ids to ignore in calculation\n",
    "                \"threshold_value\": 0.5, # float; the probability threshold for positive samples\n",
    "            },\n",
    "        },\n",
    "        \"model\": {\n",
    "            \"num_f_maps\": 128, # int; number of maps\n",
    "            \"feature_dim\": None, # int; if not null, intermediate features are generated with this dimension and then passed to a 2-layer MLP for classification (useful for SSL)\n",
    "        },\n",
    "        \"features\": {\n",
    "            \"keys\": None, # set; a list of names of the features to extract (a subset of available keys; run project.help(\"features\") for more info)\n",
    "            \"averaging_window\": 1, # int; if >1, features are averaged with a moving window of this size (in frames)\n",
    "            \"distance_pairs\": None, # list; a list of bodypart name tuples (e.g. `[(\"tail\", \"nose\")]`) to compute distances for when `\"intra_distance\"` is in `keys` (by default all distances are computed)\n",
    "            \"angle_pairs\": None, # list; a list of bodypart name tuples (e.g. `[(\"ear1\", \"nose\", \"ear2\")]`) for the angle between `\"ear1\"--\"nose\"` and `\"nose\"--\"ear2\"` lines) to compute angle cosines for when `\"angles\"` is in `keys` (by default no angles are computed)\n",
    "            \"zone_vertices\": None, # dict; a dictionary of bodypart name tuples of any length >= 3 that define zones for `\"zone_bools\"`and `\"zone_distances\"` features; keys should be zone names and values should be tuples that define the polygons (e.g. `{\"main_area\": (\"x_min\", \"x_max\", \"y_max\", \"y_min\"))}`)\n",
    "            \"zone_bools\": None, # list; a list of zone and bodypart name tuples to compute binary identifiers for (1 if an animal is within the polygon or 0 if it's outside) (e.g. `[(\"main_area\", \"nose\")]`); the zones should be defined in the `zone_vertices` parameter; this is only computed if `\"zone_bools\"` is in `keys`\n",
    "            \"zone_distances\": None, # list; a list of zone and bodypart name tuples to compute distances for (distance from the bodypart to the closest of the boundaries) (e.g. `[(\"main_area\", \"nose\")]`); the zones should be defined in the `zone_vertices` parameter; this is only computed if `\"zone_distances\"` is in `keys`\n",
    "            \"area_vertices\": None, # list; a list of bodypart name tuples of any length >= 3 (e.g. `[(\"ear1\", \"nose\", \"ear2\", \"spine1\")]`) that define polygons to compute areas for when `\"areas\"` is in `keys` (by default no areas are computed)\n",
    "        },\n",
    "        \"augmentations\": {\n",
    "            \"augmentations\": {'add_noise'}, # set; a set of augmentations that can be applied to your data without losing information (choose any number from 'rotate', 'real_lens', 'add_noise', 'shift', 'zoom', 'mirror', 'switch', e.g. {'add_noise'. 'mirror'})\n",
    "            \"rotation_limits\": [-1.57, 1.57], # list; list of rotation angle limits in radians ([low, high])\n",
    "            \"mirror_dim\": {0}, # set; set of dimensions that can be mirrored (0 for x, 1 for y, 2 for z)\n",
    "            \"noise_std\": 0.003, # float; standard deviation of noise\n",
    "            \"zoom_limits\": [0.5, 1.5], # list; list of float zoom limits ([low, high])\n",
    "            \"masking_probability\": 0.1, # float; the probability of masking a joint\n",
    "        },\n",
    "    },\n",
    ")"
   ]
  },
  {
   "cell_type": "markdown",
   "metadata": {},
   "source": [
    "Let's see what the options are for metrics and models."
   ]
  },
  {
   "cell_type": "code",
   "execution_count": 10,
   "metadata": {},
   "outputs": [
    {
     "name": "stdout",
     "output_type": "stream",
     "text": [
      "MODELS:\n",
      "asformer:\n",
      "\n",
      "    An implementation of ASFormer\n",
      "    \n",
      "mlp:\n",
      "\n",
      "    A Multi-Layer Perceptron\n",
      "    \n",
      "c2f_tcn:\n",
      "\n",
      "    An implementation of C2F-TCN\n",
      "\n",
      "    Requires the `\"general/len_segment\"` parameter to be at least 512\n",
      "    \n",
      "edtcn:\n",
      "\n",
      "    An implementation of EDTCN (Endoder-Decoder TCN)\n",
      "    \n",
      "transformer:\n",
      "\n",
      "    A modification of Transformer-Encoder with additional max-pooling and upsampling\n",
      "\n",
      "    Set `num_pool` to 0 to get a standart transformer-encoder.\n",
      "    \n",
      "\n",
      "\n",
      "METRICS:\n",
      "accuracy:\n",
      "\n",
      "    Accuracy\n",
      "    \n",
      "precision:\n",
      "\n",
      "    Precision\n",
      "    \n",
      "f1:\n",
      "\n",
      "    F1 score\n",
      "    \n",
      "recall:\n",
      "\n",
      "    Recall\n",
      "    \n",
      "count:\n",
      "\n",
      "    Fraction of samples labeled by the model as a class\n",
      "    \n",
      "segmental_precision:\n",
      "\n",
      "    Segmental precision (not advised for training)\n",
      "    \n",
      "segmental_recall:\n",
      "\n",
      "    Segmental recall (not advised for training)\n",
      "    \n",
      "segmental_f1:\n",
      "\n",
      "    Segmental F1 score (not advised for training)\n",
      "    \n",
      "edit_distance:\n",
      "\n",
      "    Edit distance (not advised for training)\n",
      "\n",
      "    Normalized by the length of the sequences\n",
      "    \n",
      "f_beta:\n",
      "\n",
      "    F-beta score\n",
      "    \n",
      "segmental_f_beta:\n",
      "\n",
      "    Segmental F-beta score (not advised for training)\n",
      "    \n",
      "semisegmental_precision:\n",
      "\n",
      "    Semi-segmental precision (not advised for training)\n",
      "\n",
      "    A metric in-between segmental and frame-wise precision.\n",
      "\n",
      "    This metric follows the following algorithm:\n",
      "    1) smooth over too-short intervals, both in ground truth and in prediction (first remove\n",
      "        groups of zeros shorter than `smooth_interval` and then do the same with groups of ones),\n",
      "    2) add `delta` frames to each predicted interval at both ends and count the number of ground truth\n",
      "        positive frames at the resulting intervals (intersection),\n",
      "    3) calculate the threshold for each interval as\n",
      "        `t = sigmoid(4 * (a * x + b)) * (iou_threshold_long - iou_threshold_short))`, where\n",
      "        `a = 2 / (long_length - short_length)`, `b = 1 - a * long_length`, `x` is the length of the interval\n",
      "        before `delta` was added,\n",
      "    4) for each interval, if intersection is higher than `t * x`, the interval is labeled as true positive (`TP`),\n",
      "        and otherwise as false positive (`FP`),\n",
      "    5) the final metric value is computed as `TP / (TP + FP)`.\n",
      "    \n",
      "semisegmental_recall:\n",
      "\n",
      "    Semi-segmental recall (not advised for training)\n",
      "\n",
      "    A metric in-between segmental and frame-wise recall.\n",
      "\n",
      "    This metric follows the following algorithm:\n",
      "    1) smooth over too-short intervals, both in ground truth and in prediction (first remove\n",
      "        groups of zeros shorter than `smooth_interval` and then do the same with groups of ones),\n",
      "    2) add `delta` frames to each ground truth interval at both ends and count the number of predicted\n",
      "        positive frames at the resulting intervals (intersection),\n",
      "    3) calculate the threshold for each interval as\n",
      "        `t = sigmoid(4 * (a * x + b)) * (iou_threshold_long - iou_threshold_short))`, where\n",
      "        `a = 2 / (long_length - short_length)`, `b = 1 - a * long_length`, `x` is the length of the interval\n",
      "        before `delta` was added,\n",
      "    4) for each interval, if intersection is higher than `t * x`, the interval is labeled as true positive (`TP`),\n",
      "        and otherwise as false negative (`FN`),\n",
      "    5) the final metric value is computed as `TP / (TP + FN)`.\n",
      "    \n",
      "semisegmental_f1:\n",
      "\n",
      "    The F1 score for semi-segmental recall and precision (not advised for training)\n",
      "    \n",
      "pr-auc:\n",
      "\n",
      "    Area under precision-recall curve (not advised for training)\n",
      "    \n",
      "semisegmental_pr-auc:\n",
      "\n",
      "    The area under the precision-recall curve for semi-segmental metrics (not advised for training)\n",
      "    \n",
      "mAP:\n",
      "\n",
      "    Mean average precision (segmental) (not advised for training)\n",
      "    \n",
      "\n",
      "\n"
     ]
    }
   ],
   "source": [
    "project.help(\"model\")\n",
    "project.help(\"metrics\")"
   ]
  },
  {
   "cell_type": "markdown",
   "metadata": {},
   "source": [
    "Which models and metrics do you want to try out?\n",
    "\n",
    "You can choose any metrics but the code will run much faster if you avoid those marked \"not advisable for training\". We can compute those later with a trained model."
   ]
  },
  {
   "cell_type": "code",
   "execution_count": 11,
   "metadata": {},
   "outputs": [],
   "source": [
    "MODEL_NAME1 = \"c2f_tcn\"\n",
    "MODEL_NAME2 = \"transformer\"\n",
    "METRICS = [\"f1\", \"precision\"]"
   ]
  },
  {
   "cell_type": "markdown",
   "metadata": {},
   "source": [
    "We will configure the metrics in the default parameters, as well as a smaller number of epochs. The model will be updated in each experiment independently, since we want to try out more than one. We will also set the classes that we want to ignore here."
   ]
  },
  {
   "cell_type": "code",
   "execution_count": 12,
   "metadata": {},
   "outputs": [],
   "source": [
    "project.update_parameters(\n",
    "    {\n",
    "        \"general\": {\"metric_functions\": METRICS},\n",
    "        \"training\": {\"num_epochs\": 10},\n",
    "        \"data\": {\"ignored_classes\": [\"StartEnd\", \"_DEFAULT\"]}\n",
    "    }\n",
    ")"
   ]
  },
  {
   "cell_type": "markdown",
   "metadata": {},
   "source": [
    "All done! Now we're ready to run experiments. "
   ]
  },
  {
   "cell_type": "markdown",
   "metadata": {},
   "source": [
    "## Hyperparameter search"
   ]
  },
  {
   "cell_type": "markdown",
   "metadata": {},
   "source": [
    "There are many hyperparameters in model training, like the number of layers in a model or loss coefficients. The default settings for those parameters should generate reasonable results on most datasets but in order to get the most out of our data we can run a hyperparameter search.\n",
    "\n",
    "Searches in `DLC2Action` use the `optuna` auto-ML package to sample the hyperpameter space efficiently and save time on trials that go badly from the beginning. \n",
    "\n",
    "There are two methods for running a search: `project.run_hyperparameter_search()` and `project.run_default_hyperparameter_search()`. As you might have guessed from the names, the second method will just load the default set of parameters for a given model while the first allows you to optimize whatever you want. For the vast majority of cases `project.run_default_hyperparameter_search()` should be enough, so that is what we will use in thi tutorial."
   ]
  },
  {
   "cell_type": "code",
   "execution_count": null,
   "metadata": {},
   "outputs": [],
   "source": [
    "for model in [MODEL_NAME1, MODEL_NAME2]:\n",
    "    project.run_default_hyperparameter_search(\n",
    "        f\"{model}_search\",\n",
    "        model_name=model,\n",
    "        metric=METRICS[0],\n",
    "        num_epochs=3,\n",
    "        n_trials=10,\n",
    "        prune=True,\n",
    "    )\n"
   ]
  },
  {
   "cell_type": "markdown",
   "metadata": {},
   "source": [
    "Those searches will optimize the hyperparameters to maximize the first metric in our list. Note how some trials stop before reaching 10 epochs. That is happening because we have set `prune=True` to interrupt experiments when they are unlikely to beat the best score.\n",
    "\n",
    "Generally, it is better to set both the number of trials and the number of epochs much higher (30-50 and around 150, respectively, is usually a good choice). We are setting them low here to save time but keep in mind that it does mean that the parameters those searches find are probably not actually optimal."
   ]
  },
  {
   "cell_type": "markdown",
   "metadata": {},
   "source": [
    "The searches have created a bunch of datasets that we are not going to use again so it's a good idea to clean up the memory at this point."
   ]
  },
  {
   "cell_type": "code",
   "execution_count": 19,
   "metadata": {},
   "outputs": [
    {
     "name": "stdout",
     "output_type": "stream",
     "text": [
      "Removing datasets...\n",
      "\n",
      "\n"
     ]
    }
   ],
   "source": [
    "project.remove_saved_features()"
   ]
  },
  {
   "cell_type": "markdown",
   "metadata": {},
   "source": [
    "`DLC2Action` needs pre-computed features to run an experiment. It keeps track of features that are stored on your machine and does not re-compute them if they have already been created in other experiments with the same data parameters. They can take up a lot of space, however, so it's good practice to remove them sometimes. \n",
    "\n",
    "Do not be afraid to run `project.remove_saved_features()`, you never lose any information when you do. The features will just be computed again if you need them. In addition, if you are running low on space, it might be more convenient to pass `remove_saved_features=True` to project methods to remove the features as soon as they are not needed anymore.\n",
    "\n",
    "Another function that helps clean up the memory is `project.remove_extra_checkpoints()`. DLC2Action saves a model checkpoint every 5 epochs by default (you can change this interval at `\"training/model_save_interval\"`). Running this method will remove all the checkpoints except for the last one in each episode."
   ]
  },
  {
   "cell_type": "markdown",
   "metadata": {},
   "source": [
    "When the searches are done, we can check out the results."
   ]
  },
  {
   "cell_type": "code",
   "execution_count": 20,
   "metadata": {},
   "outputs": [
    {
     "name": "stdout",
     "output_type": "stream",
     "text": [
      "SEARCH RESULTS c2f_tcn_search\n",
      "losses/ms_tcn/alpha: 1.0242787534938017e-05\n",
      "losses/ms_tcn/focal: True\n",
      "training/temporal_subsampling_size: 0.8418055756065875\n",
      "model/num_f_maps: 79\n",
      "general/len_segment: 512\n",
      "\n",
      "\n",
      "SEARCH RESULTS transformer_search\n",
      "losses/ms_tcn/alpha: 0.0014098664544016791\n",
      "losses/ms_tcn/focal: False\n",
      "training/temporal_subsampling_size: 0.9027582022903071\n",
      "model/N: 9\n",
      "model/heads: 8\n",
      "model/num_pool: 3\n",
      "model/add_batchnorm: False\n",
      "general/len_segment: 128\n",
      "\n",
      "\n"
     ]
    }
   ],
   "source": [
    "for model in [MODEL_NAME1, MODEL_NAME2]:\n",
    "    _ = project.list_best_parameters(f\"{model}_search\")"
   ]
  },
  {
   "cell_type": "markdown",
   "metadata": {},
   "source": [
    "The searches can be used to update the default parameters with `project.update_parameters(load_search=search_name)` but in this case it's more convenient to load them in the relevant episodes."
   ]
  },
  {
   "cell_type": "markdown",
   "metadata": {},
   "source": [
    "## Training models"
   ]
  },
  {
   "cell_type": "markdown",
   "metadata": {},
   "source": [
    "Now we can train models with the best hyperparameters."
   ]
  },
  {
   "cell_type": "code",
   "execution_count": null,
   "metadata": {},
   "outputs": [],
   "source": [
    "for model in [MODEL_NAME1, MODEL_NAME2]:\n",
    "    project.run_episode(\n",
    "        f\"{model}_best\",\n",
    "        load_search=f\"{model}_search\", # loading the search\n",
    "        force=True, # when force=True, if an episode with this name already exists it will be overwritten -> use with caution!\n",
    "        parameters_update={\n",
    "            \"general\": {\"model_name\": model} # note that you do need to set the model explicitly, it is not loaded with the search\n",
    "        },\n",
    "        n_seeds=2 # we will repeat the experiment 2 times (same parameters, different random seed) to get an estimation for how stable our results are\n",
    ")"
   ]
  },
  {
   "cell_type": "markdown",
   "metadata": {},
   "source": [
    "## Evaluation"
   ]
  },
  {
   "cell_type": "markdown",
   "metadata": {},
   "source": [
    "Now that we've trained our best models, we can analyze the results. Note that most statistics are aggregated over the 2 runs (random seeds) automatically. "
   ]
  },
  {
   "cell_type": "code",
   "execution_count": 22,
   "metadata": {},
   "outputs": [],
   "source": [
    "best_episodes = [f\"{model}_best\" for model in [MODEL_NAME1, MODEL_NAME2]]"
   ]
  },
  {
   "cell_type": "code",
   "execution_count": 23,
   "metadata": {},
   "outputs": [
    {
     "data": {
      "image/png": "[encoded data removed]",
      "text/plain": [
       "<Figure size 640x480 with 1 Axes>"
      ]
     },
     "metadata": {},
     "output_type": "display_data"
    }
   ],
   "source": [
    "project.plot_episodes(\n",
    "    best_episodes,\n",
    "    metrics=METRICS, \n",
    "    episode_labels=[\"model_1\", \"model_2\"], \n",
    "    add_hlines=[(0.42, \"a line\")], # we'll add a random horizontal line here but you can use this parameter to mark important thresholds\n",
    "    title=\"Best model training curves\"\n",
    ")"
   ]
  },
  {
   "cell_type": "markdown",
   "metadata": {},
   "source": [
    "The bold lines here are the means over the two runs of each episode and the transparent lines are the individual runs."
   ]
  },
  {
   "cell_type": "markdown",
   "metadata": {},
   "source": [
    "We can also check out more metrics now."
   ]
  },
  {
   "cell_type": "code",
   "execution_count": null,
   "metadata": {},
   "outputs": [],
   "source": [
    "for episode in best_episodes:\n",
    "    project.evaluate(\n",
    "        [episode],\n",
    "        parameters_update={\n",
    "            \"general\": {\"metric_functions\": [\"segmental_f1\", \"mAP\", \"f1\"]},\n",
    "            \"metrics\": {\n",
    "                \"f1\": {\"average\": \"none\"} # you can also update parameters for metrics (check project.list_basic_parameters() for options)\n",
    "            }\n",
    "        }\n",
    "    )"
   ]
  },
  {
   "cell_type": "markdown",
   "metadata": {},
   "source": [
    "There are several ways to summarize the results."
   ]
  },
  {
   "cell_type": "code",
   "execution_count": 25,
   "metadata": {},
   "outputs": [
    {
     "name": "stdout",
     "output_type": "stream",
     "text": [
      "RESULTS:\n",
      "         c2f_tcn_best precision  c2f_tcn_best f1  transformer_best precision  \\\n",
      "average                0.545091         0.575021                    0.648036   \n",
      "\n",
      "         transformer_best f1  \n",
      "average             0.681451  \n",
      "\n",
      "\n"
     ]
    },
    {
     "data": {
      "text/html": [
       "<div>\n",
       "<style scoped>\n",
       "    .dataframe tbody tr th:only-of-type {\n",
       "        vertical-align: middle;\n",
       "    }\n",
       "\n",
       "    .dataframe tbody tr th {\n",
       "        vertical-align: top;\n",
       "    }\n",
       "\n",
       "    .dataframe thead th {\n",
       "        text-align: right;\n",
       "    }\n",
       "</style>\n",
       "<table border=\"1\" class=\"dataframe\">\n",
       "  <thead>\n",
       "    <tr style=\"text-align: right;\">\n",
       "      <th></th>\n",
       "      <th>c2f_tcn_best precision</th>\n",
       "      <th>c2f_tcn_best f1</th>\n",
       "      <th>transformer_best precision</th>\n",
       "      <th>transformer_best f1</th>\n",
       "    </tr>\n",
       "  </thead>\n",
       "  <tbody>\n",
       "    <tr>\n",
       "      <th>average</th>\n",
       "      <td>0.545091</td>\n",
       "      <td>0.575021</td>\n",
       "      <td>0.648036</td>\n",
       "      <td>0.681451</td>\n",
       "    </tr>\n",
       "  </tbody>\n",
       "</table>\n",
       "</div>"
      ],
      "text/plain": [
       "         c2f_tcn_best precision  c2f_tcn_best f1  transformer_best precision  \\\n",
       "average                0.545091         0.575021                    0.648036   \n",
       "\n",
       "         transformer_best f1  \n",
       "average             0.681451  "
      ]
     },
     "execution_count": 25,
     "metadata": {},
     "output_type": "execute_result"
    }
   ],
   "source": [
    "project.get_results_table(best_episodes)"
   ]
  },
  {
   "cell_type": "markdown",
   "metadata": {},
   "source": [
    "The `get_summary` method will only show the metrics computed during training while `get_results_table` also pulls up the results of evaluation."
   ]
  },
  {
   "cell_type": "code",
   "execution_count": 26,
   "metadata": {},
   "outputs": [
    {
     "name": "stdout",
     "output_type": "stream",
     "text": [
      "SUMMARY ['c2f_tcn_best']\n",
      "loss: mean 0.011, std 0.002\n",
      "f1: mean 0.575, std 0.090\n",
      "precision: mean 0.545, std 0.110\n",
      "\n",
      "\n",
      "SUMMARY ['transformer_best']\n",
      "loss: mean 0.013, std 0.001\n",
      "f1: mean 0.681, std 0.013\n",
      "precision: mean 0.648, std 0.005\n",
      "\n",
      "\n"
     ]
    }
   ],
   "source": [
    "for episode in best_episodes:\n",
    "    _ = project.get_summary([episode])"
   ]
  },
  {
   "cell_type": "markdown",
   "metadata": {},
   "source": [
    "## Using trained models"
   ]
  },
  {
   "cell_type": "markdown",
   "metadata": {},
   "source": [
    "After your models are trained, there's a few ways you can use them.\n",
    "\n",
    "If you're still not quite happy with the results, you can train the model for a few more epochs with `project.continue_episode()`."
   ]
  },
  {
   "cell_type": "code",
   "execution_count": 31,
   "metadata": {},
   "outputs": [
    {
     "data": {
      "text/plain": [
       "False"
      ]
     },
     "execution_count": 31,
     "metadata": {},
     "output_type": "execute_result"
    }
   ],
   "source": [
    "# project.continue_episode(f\"{MODEL_NAME1}_best\", num_epochs=20, n_seeds=3)\n",
    "import torch\n",
    "torch.cuda.is_available()"
   ]
  },
  {
   "cell_type": "markdown",
   "metadata": {},
   "source": [
    "You can also train another episode with different parameters that loads the weights of your model as an initialization. Note that it will use all three runs as starting points for its own three runs."
   ]
  },
  {
   "cell_type": "code",
   "execution_count": null,
   "metadata": {},
   "outputs": [],
   "source": [
    "project.run_episode(\n",
    "    f\"{MODEL_NAME1}_best_lr1e-5\",\n",
    "    load_episode=f\"{MODEL_NAME1}_best\",\n",
    "    load_search=f\"{MODEL_NAME1}_search\",\n",
    "    parameters_update={\n",
    "        \"general\": {\"model_name\": MODEL_NAME1},\n",
    "        \"training\": {\"lr\": 1e-5, \"num_epochs\": 5}\n",
    "    },\n",
    "    force=True,\n",
    ")"
   ]
  },
  {
   "cell_type": "markdown",
   "metadata": {},
   "source": [
    "You can also plot such episodes together as one line."
   ]
  },
  {
   "cell_type": "code",
   "execution_count": 33,
   "metadata": {},
   "outputs": [
    {
     "data": {
      "image/png": "[encoded data removed]",
      "text/plain": [
       "<Figure size 640x480 with 1 Axes>"
      ]
     },
     "metadata": {},
     "output_type": "display_data"
    }
   ],
   "source": [
    "project.plot_episodes(\n",
    "    [[f\"{MODEL_NAME1}_best\", f\"{MODEL_NAME1}_best_lr1e-5\"], f\"{MODEL_NAME2}_best\"], \n",
    "    episode_labels=[\"combined_model1\", \"model2\"],\n",
    "    metrics=METRICS\n",
    ")"
   ]
  },
  {
   "cell_type": "markdown",
   "metadata": {},
   "source": [
    "All the episodes you have run are stored in the project memory and you can pull up the history with all the parameters."
   ]
  },
  {
   "cell_type": "code",
   "execution_count": 34,
   "metadata": {},
   "outputs": [
    {
     "name": "stdout",
     "output_type": "stream",
     "text": [
      "TRAINING EPISODES\n",
      "                        general          meta                        results\n",
      "                     model_name training_time                 time        f1\n",
      "c2f_tcn_best#0          c2f_tcn       0:06:49  2023-10-27 11:16:22  0.485448\n",
      "c2f_tcn_best#1          c2f_tcn       0:06:48  2023-10-27 11:23:23  0.664595\n",
      "transformer_best#0  transformer       0:07:23  2023-10-27 11:32:20  0.668324\n",
      "transformer_best#1  transformer       0:07:07  2023-10-27 11:40:10  0.694578\n",
      "\n",
      "\n"
     ]
    }
   ],
   "source": [
    "_ = project.list_episodes(\n",
    "    display_parameters=[\"general/model_name\", \"meta/training_time\", \"meta/time\", f\"results/{METRICS[0]}\"], # choose the parameters to display\n",
    "    value_filter=\"training/lr::>1e-5\" # filter the entries by any parameter or result\n",
    ")"
   ]
  },
  {
   "cell_type": "markdown",
   "metadata": {},
   "source": [
    "The same goes for hyperparameter searches and predictions. This function also returns a `pandas` table you can process yourself."
   ]
  },
  {
   "cell_type": "code",
   "execution_count": 35,
   "metadata": {},
   "outputs": [
    {
     "data": {
      "text/html": [
       "<div>\n",
       "<style scoped>\n",
       "    .dataframe tbody tr th:only-of-type {\n",
       "        vertical-align: middle;\n",
       "    }\n",
       "\n",
       "    .dataframe tbody tr th {\n",
       "        vertical-align: top;\n",
       "    }\n",
       "\n",
       "    .dataframe thead tr th {\n",
       "        text-align: left;\n",
       "    }\n",
       "</style>\n",
       "<table border=\"1\" class=\"dataframe\">\n",
       "  <thead>\n",
       "    <tr>\n",
       "      <th></th>\n",
       "      <th colspan=\"2\" halign=\"left\">meta</th>\n",
       "      <th colspan=\"2\" halign=\"left\">results</th>\n",
       "      <th colspan=\"6\" halign=\"left\">data</th>\n",
       "      <th>...</th>\n",
       "      <th colspan=\"2\" halign=\"left\">meta</th>\n",
       "      <th colspan=\"4\" halign=\"left\">f1</th>\n",
       "      <th colspan=\"4\" halign=\"left\">model</th>\n",
       "    </tr>\n",
       "    <tr>\n",
       "      <th></th>\n",
       "      <th>time</th>\n",
       "      <th>objective</th>\n",
       "      <th>best_params</th>\n",
       "      <th>best_value</th>\n",
       "      <th>data_suffix</th>\n",
       "      <th>data_prefix</th>\n",
       "      <th>feature_suffix</th>\n",
       "      <th>convert_int_indices</th>\n",
       "      <th>canvas_shape</th>\n",
       "      <th>ignored_bodyparts</th>\n",
       "      <th>...</th>\n",
       "      <th>search_space</th>\n",
       "      <th>behaviors_dict</th>\n",
       "      <th>average</th>\n",
       "      <th>ignored_classes</th>\n",
       "      <th>tag_average</th>\n",
       "      <th>threshold_value</th>\n",
       "      <th>input_dim</th>\n",
       "      <th>N</th>\n",
       "      <th>heads</th>\n",
       "      <th>num_pool</th>\n",
       "    </tr>\n",
       "  </thead>\n",
       "  <tbody>\n",
       "    <tr>\n",
       "      <th>c2f_tcn_search</th>\n",
       "      <td>2023-10-27 11:03:58</td>\n",
       "      <td>f1</td>\n",
       "      <td>{'losses/ms_tcn/alpha': 1.0242787534938017e-05...</td>\n",
       "      <td>0.410043</td>\n",
       "      <td>DeepCut_resnet50_Blockcourse1May9shuffle1_1030...</td>\n",
       "      <td>None</td>\n",
       "      <td>None</td>\n",
       "      <td>True</td>\n",
       "      <td>[928, 576]</td>\n",
       "      <td>None</td>\n",
       "      <td>...</td>\n",
       "      <td>{'losses/ms_tcn/alpha': ('float_log', 1e-05, 0...</td>\n",
       "      <td>{}</td>\n",
       "      <td>macro</td>\n",
       "      <td>None</td>\n",
       "      <td>micro</td>\n",
       "      <td>0.5</td>\n",
       "      <td>NaN</td>\n",
       "      <td>NaN</td>\n",
       "      <td>NaN</td>\n",
       "      <td>NaN</td>\n",
       "    </tr>\n",
       "    <tr>\n",
       "      <th>transformer_search</th>\n",
       "      <td>2023-10-27 11:14:16</td>\n",
       "      <td>f1</td>\n",
       "      <td>{'losses/ms_tcn/alpha': 0.0014098664544016791,...</td>\n",
       "      <td>0.530371</td>\n",
       "      <td>DeepCut_resnet50_Blockcourse1May9shuffle1_1030...</td>\n",
       "      <td>None</td>\n",
       "      <td>None</td>\n",
       "      <td>True</td>\n",
       "      <td>[928, 576]</td>\n",
       "      <td>None</td>\n",
       "      <td>...</td>\n",
       "      <td>{'losses/ms_tcn/alpha': ('float_log', 1e-05, 0...</td>\n",
       "      <td>{}</td>\n",
       "      <td>macro</td>\n",
       "      <td>None</td>\n",
       "      <td>micro</td>\n",
       "      <td>0.5</td>\n",
       "      <td>dataset_features</td>\n",
       "      <td>10.0</td>\n",
       "      <td>4.0</td>\n",
       "      <td>3.0</td>\n",
       "    </tr>\n",
       "  </tbody>\n",
       "</table>\n",
       "<p>2 rows × 109 columns</p>\n",
       "</div>"
      ],
      "text/plain": [
       "                                   meta            \\\n",
       "                                   time objective   \n",
       "c2f_tcn_search      2023-10-27 11:03:58        f1   \n",
       "transformer_search  2023-10-27 11:14:16        f1   \n",
       "\n",
       "                                                              results  \\\n",
       "                                                          best_params   \n",
       "c2f_tcn_search      {'losses/ms_tcn/alpha': 1.0242787534938017e-05...   \n",
       "transformer_search  {'losses/ms_tcn/alpha': 0.0014098664544016791,...   \n",
       "\n",
       "                               \\\n",
       "                   best_value   \n",
       "c2f_tcn_search       0.410043   \n",
       "transformer_search   0.530371   \n",
       "\n",
       "                                                                 data  \\\n",
       "                                                          data_suffix   \n",
       "c2f_tcn_search      DeepCut_resnet50_Blockcourse1May9shuffle1_1030...   \n",
       "transformer_search  DeepCut_resnet50_Blockcourse1May9shuffle1_1030...   \n",
       "\n",
       "                                                                   \\\n",
       "                   data_prefix feature_suffix convert_int_indices   \n",
       "c2f_tcn_search            None           None                True   \n",
       "transformer_search        None           None                True   \n",
       "\n",
       "                                                   ...  \\\n",
       "                   canvas_shape ignored_bodyparts  ...   \n",
       "c2f_tcn_search       [928, 576]              None  ...   \n",
       "transformer_search   [928, 576]              None  ...   \n",
       "\n",
       "                                                                 meta  \\\n",
       "                                                         search_space   \n",
       "c2f_tcn_search      {'losses/ms_tcn/alpha': ('float_log', 1e-05, 0...   \n",
       "transformer_search  {'losses/ms_tcn/alpha': ('float_log', 1e-05, 0...   \n",
       "\n",
       "                                       f1                              \\\n",
       "                   behaviors_dict average ignored_classes tag_average   \n",
       "c2f_tcn_search                 {}   macro            None       micro   \n",
       "transformer_search             {}   macro            None       micro   \n",
       "\n",
       "                                               model                       \n",
       "                   threshold_value         input_dim     N heads num_pool  \n",
       "c2f_tcn_search                 0.5               NaN   NaN   NaN      NaN  \n",
       "transformer_search             0.5  dataset_features  10.0   4.0      3.0  \n",
       "\n",
       "[2 rows x 109 columns]"
      ]
     },
     "execution_count": 35,
     "metadata": {},
     "output_type": "execute_result"
    }
   ],
   "source": [
    "searches = project.list_searches(print_results=False)\n",
    "searches.head()"
   ]
  },
  {
   "cell_type": "markdown",
   "metadata": {},
   "source": [
    "When you find that you are happy with the results, you can use the model to generate predictions for new data. \n",
    "\n",
    "Predictions here are probabilities of each behavior being seen in each frame while suggestions are suggested intervals generated from those probabilities."
   ]
  },
  {
   "cell_type": "markdown",
   "metadata": {},
   "source": [
    "Let's generate a prediction with one of our models and look at one of the resulting files. Note that you can use multiple models and average over their predictions."
   ]
  },
  {
   "cell_type": "code",
   "execution_count": 36,
   "metadata": {},
   "outputs": [
    {
     "name": "stdout",
     "output_type": "stream",
     "text": [
      "PREDICTION c2f_tcn_best_prediction\n",
      "episode c2f_tcn_best_lr1e-5#0\n"
     ]
    },
    {
     "name": "stdout",
     "output_type": "stream",
     "text": [
      "Number of samples:\n",
      "    validation:\n",
      "      {1: 0, 2: 0, 3: 0, 4: 0, 0: 0}\n",
      "    training:\n",
      "      {-100: 761178, 3: 210654, 2: 1434, 0: 3663, 4: 160229, 1: 49658}\n",
      "    test:\n",
      "      {1: 0, 2: 0, 3: 0, 4: 0, 0: 0}\n",
      "Setting loaded normalization statistics...\n",
      "Initializing class weights:\n",
      "    0.633, 0.047, 1.616, 0.011, 0.014\n",
      "Behavior indices:\n",
      "    0: other\n",
      "    1: Grooming\n",
      "    2: Start/End\n",
      "    3: Supported\n",
      "    4: Unsupported\n"
     ]
    },
    {
     "name": "stderr",
     "output_type": "stream",
     "text": [
      "100%|██████████| 37/37 [02:50<00:00,  4.61s/it]\n"
     ]
    },
    {
     "name": "stdout",
     "output_type": "stream",
     "text": [
      "\n",
      "\n",
      "\n",
      "\n"
     ]
    }
   ],
   "source": [
    "project.run_prediction(\n",
    "    f\"{MODEL_NAME1}_best_prediction\",\n",
    "    episode_names=[f\"{MODEL_NAME1}_best_lr1e-5\"],\n",
    "    force=True\n",
    ")"
   ]
  },
  {
   "cell_type": "code",
   "execution_count": 37,
   "metadata": {},
   "outputs": [
    {
     "name": "stdout",
     "output_type": "stream",
     "text": [
      "ind0: torch.Size([5, 15242])\n",
      "The mean probability of Unsupported between frames 50 and 70 is 0.10572336614131927\n"
     ]
    }
   ],
   "source": [
    "import pickle\n",
    "import os\n",
    "\n",
    "\n",
    "# picking a random file from the prediction folder\n",
    "prediction_folder = project.prediction_path(f\"{MODEL_NAME1}_best_prediction\")\n",
    "prediction_file = os.listdir(prediction_folder)[0]\n",
    "prediction_file = os.path.join(prediction_folder, prediction_file)\n",
    "\n",
    "with open(prediction_file, \"rb\") as f: # open the file\n",
    "    prediction = pickle.load(f)\n",
    "\n",
    "for key, value in prediction.items(): # explore the contents\n",
    "    if key not in [\"max_frames\", \"min_frames\", \"video_tag\", \"behaviors\"]: # everything else is prediction tensors\n",
    "        print(f'{key}: {value.shape}')\n",
    "    \n",
    "behaviors_order = prediction[\"behaviors\"]\n",
    "\n",
    "start = 50\n",
    "end = 70\n",
    "action = \"Unsupported\"\n",
    "\n",
    "index = behaviors_order.index(action)\n",
    "\n",
    "print(f'The mean probability of {action} between frames {start} and {end} is {prediction[\"ind0\"][index, start: end].mean()}')"
   ]
  },
  {
   "cell_type": "code",
   "execution_count": null,
   "metadata": {},
   "outputs": [],
   "source": [
    "project.remove_saved_features()\n",
    "project.remove_extra_checkpoints()"
   ]
  },
  {
   "cell_type": "markdown",
   "metadata": {},
   "source": [
    "## Working with custom annotation data"
   ]
  },
  {
   "cell_type": "markdown",
   "metadata": {},
   "source": [
    "If you want to work with your own data, first check `Project.print_data_types()` and `Project.print_annotation_types()` to check if we already have the format that you need.\n",
    "\n",
    "If we don't, you can choose either of them to transform your data to but the easiest is probably `DeepLabCut` track or tracklet for the pose estimation data and our custom `\"dlc\"` format for annotation."
   ]
  },
  {
   "cell_type": "markdown",
   "metadata": {},
   "source": [
    "Let's talk about the latter in more detail.\n",
    "\n",
    "It assumes every annotation file to be a pickled nested dictionary where first-level keys are individual names, second-level keys are behavior names and values are lists of intervals. Here is an example.\n",
    "```\n",
    "{\n",
    "    \"ind0\": {\n",
    "        \"running\": [[20, 30], [40, 50]]\n",
    "    },\n",
    "    \"ind1\": {\n",
    "        \"eating\": [[10, 56]]\n",
    "    }\n",
    "}\n",
    "```\n",
    "\n",
    "Here `\"ind0\"` is running in frames 20 to 30 and 40 to 50 while `\"ind1\"` is eating in frames 10 to 56.\n",
    "\n",
    "In case your dataset contains interactive actions, connect the individual names with a plus in alphabetical order (e.g. `\"ind0+ind1\"`). At the moment, we can only support two scenarios: either all actions are interactive or all are individual. In case they are interactive, update the parameters with `project.update_parameters({\"general\": {\"interactive\": True}})` before running experiments."
   ]
  },
  {
   "cell_type": "markdown",
   "metadata": {},
   "source": [
    "As an exercise, let's generate a file in this format from one of the CSV files we've been working with."
   ]
  },
  {
   "cell_type": "code",
   "execution_count": 39,
   "metadata": {},
   "outputs": [],
   "source": [
    "import os\n",
    "import pandas as pd\n",
    "from collections import defaultdict\n",
    "import pickle\n",
    "import numpy as np\n",
    "\n",
    "filename = [x for x in os.listdir(LABELS_PATH) if x.endswith(\".csv\")][0] # load a random .csv file\n",
    "filepath = os.path.join(LABELS_PATH, filename)\n",
    "\n",
    "data = pd.read_csv(filepath)"
   ]
  },
  {
   "cell_type": "code",
   "execution_count": 40,
   "metadata": {},
   "outputs": [
    {
     "data": {
      "text/html": [
       "<div>\n",
       "<style scoped>\n",
       "    .dataframe tbody tr th:only-of-type {\n",
       "        vertical-align: middle;\n",
       "    }\n",
       "\n",
       "    .dataframe tbody tr th {\n",
       "        vertical-align: top;\n",
       "    }\n",
       "\n",
       "    .dataframe thead th {\n",
       "        text-align: right;\n",
       "    }\n",
       "</style>\n",
       "<table border=\"1\" class=\"dataframe\">\n",
       "  <thead>\n",
       "    <tr style=\"text-align: right;\">\n",
       "      <th></th>\n",
       "      <th>Unnamed: 0</th>\n",
       "      <th>file</th>\n",
       "      <th>Experimenter</th>\n",
       "      <th>from</th>\n",
       "      <th>to</th>\n",
       "      <th>type</th>\n",
       "      <th>ID</th>\n",
       "      <th>DLCFile</th>\n",
       "    </tr>\n",
       "  </thead>\n",
       "  <tbody>\n",
       "    <tr>\n",
       "      <th>0</th>\n",
       "      <td>1029</td>\n",
       "      <td>OFT_44_Jin.csv</td>\n",
       "      <td>Jin</td>\n",
       "      <td>4.023</td>\n",
       "      <td>5.115</td>\n",
       "      <td>Start/End</td>\n",
       "      <td>OFT_44</td>\n",
       "      <td>12_01_A_190507144429DeepCut_resnet50_Blockcour...</td>\n",
       "    </tr>\n",
       "    <tr>\n",
       "      <th>1</th>\n",
       "      <td>1030</td>\n",
       "      <td>OFT_44_Jin.csv</td>\n",
       "      <td>Jin</td>\n",
       "      <td>8.190</td>\n",
       "      <td>8.981</td>\n",
       "      <td>Supported</td>\n",
       "      <td>OFT_44</td>\n",
       "      <td>12_01_A_190507144429DeepCut_resnet50_Blockcour...</td>\n",
       "    </tr>\n",
       "    <tr>\n",
       "      <th>2</th>\n",
       "      <td>1031</td>\n",
       "      <td>OFT_44_Jin.csv</td>\n",
       "      <td>Jin</td>\n",
       "      <td>12.836</td>\n",
       "      <td>13.690</td>\n",
       "      <td>Supported</td>\n",
       "      <td>OFT_44</td>\n",
       "      <td>12_01_A_190507144429DeepCut_resnet50_Blockcour...</td>\n",
       "    </tr>\n",
       "    <tr>\n",
       "      <th>3</th>\n",
       "      <td>1032</td>\n",
       "      <td>OFT_44_Jin.csv</td>\n",
       "      <td>Jin</td>\n",
       "      <td>20.836</td>\n",
       "      <td>22.627</td>\n",
       "      <td>Supported</td>\n",
       "      <td>OFT_44</td>\n",
       "      <td>12_01_A_190507144429DeepCut_resnet50_Blockcour...</td>\n",
       "    </tr>\n",
       "    <tr>\n",
       "      <th>4</th>\n",
       "      <td>1033</td>\n",
       "      <td>OFT_44_Jin.csv</td>\n",
       "      <td>Jin</td>\n",
       "      <td>27.231</td>\n",
       "      <td>28.815</td>\n",
       "      <td>Supported</td>\n",
       "      <td>OFT_44</td>\n",
       "      <td>12_01_A_190507144429DeepCut_resnet50_Blockcour...</td>\n",
       "    </tr>\n",
       "  </tbody>\n",
       "</table>\n",
       "</div>"
      ],
      "text/plain": [
       "   Unnamed: 0            file Experimenter    from      to       type      ID  \\\n",
       "0        1029  OFT_44_Jin.csv          Jin   4.023   5.115  Start/End  OFT_44   \n",
       "1        1030  OFT_44_Jin.csv          Jin   8.190   8.981  Supported  OFT_44   \n",
       "2        1031  OFT_44_Jin.csv          Jin  12.836  13.690  Supported  OFT_44   \n",
       "3        1032  OFT_44_Jin.csv          Jin  20.836  22.627  Supported  OFT_44   \n",
       "4        1033  OFT_44_Jin.csv          Jin  27.231  28.815  Supported  OFT_44   \n",
       "\n",
       "                                             DLCFile  \n",
       "0  12_01_A_190507144429DeepCut_resnet50_Blockcour...  \n",
       "1  12_01_A_190507144429DeepCut_resnet50_Blockcour...  \n",
       "2  12_01_A_190507144429DeepCut_resnet50_Blockcour...  \n",
       "3  12_01_A_190507144429DeepCut_resnet50_Blockcour...  \n",
       "4  12_01_A_190507144429DeepCut_resnet50_Blockcour...  "
      ]
     },
     "execution_count": 40,
     "metadata": {},
     "output_type": "execute_result"
    }
   ],
   "source": [
    "data.head()"
   ]
  },
  {
   "cell_type": "markdown",
   "metadata": {},
   "source": [
    "Behaviors here are not interactive. We don't have a name for the animal so we will call it `\"ind0\"` (that is the default name for single animal DLC track files as well in DLC2Action but you can set something else at `\"data/default_agent_name\"`, just make sure that the names are consistent between annotation and input data). The annotations are encoded as start and end times in seconds. If we download the original videos and check the frame rate we can see that it's 25 fps.\n",
    "\n",
    "Furthermore, the StartEnd behavior doesn't appear to be meaningful for us.\n",
    "\n",
    "Given this information, let's transform this into the DLC format."
   ]
  },
  {
   "cell_type": "code",
   "execution_count": 41,
   "metadata": {},
   "outputs": [],
   "source": [
    "FPS = 25\n",
    "OMITTED_BEHAVIORS = [\"StartEnd\"]\n",
    "\n",
    "for filename in [x for x in os.listdir(LABELS_PATH) if x.endswith(\".csv\")]:\n",
    "    if filename == \"AllLabDataOFT_final.csv\": # this is the raw data with all videos together\n",
    "        continue\n",
    "    filepath = os.path.join(LABELS_PATH, filename)\n",
    "    data = pd.read_csv(filepath)\n",
    "    dlc_dict = {\"ind0\": defaultdict(lambda: [])} # this is just a dictionary that returns an empty list when we try to use a key that doesn't exist\n",
    "    for _, row in data.iterrows():\n",
    "        behavior = row[\"type\"]\n",
    "        if behavior in OMITTED_BEHAVIORS: # ignore extra behaviors\n",
    "            continue\n",
    "        if any([np.isnan(x) for x in [row[\"from\"], row[\"to\"]]]): # skip nans\n",
    "            continue\n",
    "        start = int(row[\"from\"] * FPS)\n",
    "        end = int(row[\"to\"] * FPS)\n",
    "        dlc_dict[\"ind0\"][behavior].append([start, end])\n",
    "    new_name = filepath.split(\".\")[0] + \"_dlc.pickle\" # the filenames need to start with the video name\n",
    "    dlc_dict[\"ind0\"] = dict(dlc_dict[\"ind0\"]) # we need to convert the defaultdict back to a standard dictionary before saving\n",
    "    with open(new_name, \"wb\") as f: # save the annotation file\n",
    "        pickle.dump(dlc_dict, f)"
   ]
  },
  {
   "cell_type": "markdown",
   "metadata": {},
   "source": [
    "Let's check that we did everything right. We will create a new project with the new data type and run a small experiment."
   ]
  },
  {
   "cell_type": "code",
   "execution_count": 44,
   "metadata": {},
   "outputs": [],
   "source": [
    "# Project.remove_project(\"oft_dlc\", projects_path=PROJECTS_PATH)\n",
    "\n",
    "project = Project(\n",
    "    \"oft_dlc\",\n",
    "    data_path=DATA_PATH,\n",
    "    annotation_path=LABELS_PATH,\n",
    "    data_type=\"dlc_track\",\n",
    "    annotation_type=\"dlc\",\n",
    "    projects_path=PROJECTS_PATH\n",
    ")"
   ]
  },
  {
   "cell_type": "code",
   "execution_count": 45,
   "metadata": {},
   "outputs": [],
   "source": [
    "project.update_parameters(\n",
    "    {\n",
    "        \"data\": {\n",
    "            \"data_suffix\": \"DeepCut_resnet50_Blockcourse1May9shuffle1_1030000.csv\", # set; the data files should have the format of {video_id}{data_suffix}, e.g. video1_suffix.pickle, where video1 is the video is and _suffix.pickle is the suffix\n",
    "            \"canvas_shape\": [928, 576], # list; the size of the canvas where the pose was defined\n",
    "            \"annotation_suffix\": \"_dlc.pickle\", # str | set, optional the suffix or the set of suffices such that the annotation files are named {video_id}{annotation_suffix}, e.g, video1_suffix.pickle where video1 is the video id and _suffix.pickle is the suffix\n",
    "            \"fps\": 25 # int; fps (assuming the annotations are given in seconds, otherwise set any value)\n",
    "        },\n",
    "        \"general\": {\n",
    "            \"exclusive\": True, # bool; if true, single-label classification is used; otherwise multi-label\n",
    "        },\n",
    "    }\n",
    ")"
   ]
  },
  {
   "cell_type": "code",
   "execution_count": null,
   "metadata": {},
   "outputs": [],
   "source": [
    "project.run_episode(\"test\", force=True, parameters_update={\"training\": {\"num_epochs\": 1}})"
   ]
  },
  {
   "cell_type": "markdown",
   "metadata": {},
   "source": [
    "## Annotation"
   ]
  },
  {
   "cell_type": "markdown",
   "metadata": {},
   "source": [
    "You can also use `DLC2Action` to generate new annotation files. Install our interface following those instructions and try running it with any video you like."
   ]
  },
  {
   "cell_type": "markdown",
   "metadata": {},
   "source": [
    "To install:\n",
    "```\n",
    "git clone https://github.com/amathislab/dlc2action_annotation\n",
    "cd dlc2action_annotation\n",
    "conda env create -f AnnotationGUI.yaml\n",
    "```"
   ]
  },
  {
   "cell_type": "markdown",
   "metadata": {},
   "source": [
    "To start, go to the `dlc2action_annotation` folder and run `python annotator.py`."
   ]
  },
  {
   "cell_type": "markdown",
   "metadata": {},
   "source": [
    "Check out the [user guide](https://github.com/amathislab/dlc2action_annotation) for instructions."
   ]
  }
 ],
 "metadata": {
  "kernelspec": {
   "display_name": "Python 3.9.13 ('DLC2Action')",
   "language": "python",
   "name": "python3"
  },
  "language_info": {
   "codemirror_mode": {
    "name": "ipython",
    "version": 3
   },
   "file_extension": ".py",
   "mimetype": "text/x-python",
   "name": "python",
   "nbconvert_exporter": "python",
   "pygments_lexer": "ipython3",
   "version": "3.9.18"
  },
  "orig_nbformat": 4,
  "vscode": {
   "interpreter": {
    "hash": "3f5f7675fb80040f0ca1448b5f0ffd03eab1e03daeb908de054f4ee2164beb96"
   }
  }
 },
 "nbformat": 4,
 "nbformat_minor": 2
}
